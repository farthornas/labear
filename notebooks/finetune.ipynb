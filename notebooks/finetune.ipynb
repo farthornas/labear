{
 "cells": [
  {
   "cell_type": "code",
   "execution_count": 1,
   "id": "518dbb12-4466-4405-acdd-97b0f88f0a27",
   "metadata": {},
   "outputs": [],
   "source": [
    "# !pip install speechbrain==1.0.0\n",
    "# !pip install torch torchaudio"
   ]
  },
  {
   "cell_type": "code",
   "execution_count": 58,
   "id": "375f7164-40f9-466c-b68e-db27045335ff",
   "metadata": {},
   "outputs": [],
   "source": [
    "# !pip install librosa\n",
    "# !pip install pydub"
   ]
  },
  {
   "cell_type": "code",
   "execution_count": 1,
   "id": "389eb787-435c-42fc-9a48-f0a46082ea37",
   "metadata": {},
   "outputs": [],
   "source": [
    "from pathlib import Path\n",
    "from cloudpathlib import AnyPath, GSClient\n",
    "import glob\n",
    "from tqdm import tqdm\n",
    "import IPython.display as display\n",
    "from IPython.display import Audio\n",
    "import pandas as pd, numpy as np, matplotlib.pyplot as plt\n",
    "\n",
    "import torchaudio\n",
    "import librosa\n",
    "import librosa.display\n",
    "from pydub import AudioSegment"
   ]
  },
  {
   "cell_type": "markdown",
   "id": "bbd5f515-7444-48e7-bea6-ba2c64f7712c",
   "metadata": {},
   "source": [
    "## Set up variables"
   ]
  },
  {
   "cell_type": "code",
   "execution_count": 35,
   "id": "88360ac6-5f6b-4cce-b557-d5d487b7138f",
   "metadata": {},
   "outputs": [],
   "source": [
    "USERS = [\"g28_huawei\", \"g28_moto\", \"debug\"]\n",
    "USERS_PATH = AnyPath(\"gs://data_labear/users\")\n",
    "# Data is downloaded locally to labear/data/users/{user}/{file}.m4a\n",
    "LOCAL_DATA = Path(\"../data\")\n",
    "# Preprocessed data is stored at labear/data/experiments/{EXP_NAME}\n",
    "EXP_NAME = \"v1\"\n",
    "EXP_DIR = Path(f\"../data/experiments/{EXP_NAME}\")\n",
    "EXP_DIR.mkdir(exist_ok=True, parents=True)\n",
    "# Have to hardcode the categories for now due to inconsistent naming in file system\n",
    "CATS = [\"air\", \"vac\", \"off\"]"
   ]
  },
  {
   "cell_type": "markdown",
   "id": "db74c881-3839-44fd-b947-191c98ba0fa5",
   "metadata": {
    "jp-MarkdownHeadingCollapsed": true
   },
   "source": [
    "## Download data from storage (gs://data_labear/users)"
   ]
  },
  {
   "cell_type": "code",
   "execution_count": 2,
   "id": "036521b9-e4c3-4dd5-84f8-57eeb795a0d2",
   "metadata": {},
   "outputs": [],
   "source": [
    "assert GSClient().client.project == \"labear\", \"Set google project to labear!\""
   ]
  },
  {
   "cell_type": "code",
   "execution_count": 7,
   "id": "8c889c8e-502a-4a3c-86eb-a6a55d86dadf",
   "metadata": {
    "scrolled": true
   },
   "outputs": [
    {
     "name": "stdout",
     "output_type": "stream",
     "text": [
      "Skipping gs://data_labear/users/g28_huawei/data/raw/g28_huawei_air_1725874893229.m4a\n",
      "Skipping gs://data_labear/users/g28_huawei/data/raw/g28_huawei_air_1726229487294.m4a\n",
      "Skipping gs://data_labear/users/g28_huawei/data/raw/g28_huawei_off_1725875099788.m4a\n",
      "Skipping gs://data_labear/users/g28_huawei/data/raw/g28_huawei_off_1726154947369.m4a\n",
      "Skipping gs://data_labear/users/g28_huawei/data/raw/g28_huawei_vac_1725874725453.m4a\n",
      "Skipping gs://data_labear/users/g28_huawei/data/raw/g28_huawei_vac_1726154772068.m4a\n",
      "Skipping gs://data_labear/users/g28_moto/data/raw/g28_air_1724341697486.m4a\n",
      "Skipping gs://data_labear/users/g28_moto/data/raw/g28_air_1724429751887.m4a\n",
      "Skipping gs://data_labear/users/g28_moto/data/raw/g28_off_1724341915322.m4a\n",
      "Skipping gs://data_labear/users/g28_moto/data/raw/g28_off_1724429832899.m4a\n",
      "Skipping gs://data_labear/users/g28_moto/data/raw/g28_vac_1724341530251.m4a\n",
      "Skipping gs://data_labear/users/g28_moto/data/raw/g28_vac_1724429578031.m4a\n",
      "Writing gs://data_labear/users/debug/data/raw/g28_air_test_mon_1727951086769.m4a to ../data/users/debug/g28_air_test_mon_1727951086769.m4a\n",
      "Writing gs://data_labear/users/debug/data/raw/g28_air_test_mon_1727951106769.m4a to ../data/users/debug/g28_air_test_mon_1727951106769.m4a\n",
      "Writing gs://data_labear/users/debug/data/raw/g28_air_test_mon_1727951126774.m4a to ../data/users/debug/g28_air_test_mon_1727951126774.m4a\n",
      "Writing gs://data_labear/users/debug/data/raw/g28_air_test_mon_1727951146765.m4a to ../data/users/debug/g28_air_test_mon_1727951146765.m4a\n",
      "Writing gs://data_labear/users/debug/data/raw/g28_air_test_mon_1727951166772.m4a to ../data/users/debug/g28_air_test_mon_1727951166772.m4a\n",
      "Writing gs://data_labear/users/debug/data/raw/g28_air_test_mon_1727951186772.m4a to ../data/users/debug/g28_air_test_mon_1727951186772.m4a\n",
      "Writing gs://data_labear/users/debug/data/raw/g28_air_test_mon_1727951206778.m4a to ../data/users/debug/g28_air_test_mon_1727951206778.m4a\n",
      "Writing gs://data_labear/users/debug/data/raw/g28_air_test_mon_1727951266636.m4a to ../data/users/debug/g28_air_test_mon_1727951266636.m4a\n",
      "Writing gs://data_labear/users/debug/data/raw/g28_air_test_mon_1727951286612.m4a to ../data/users/debug/g28_air_test_mon_1727951286612.m4a\n",
      "Writing gs://data_labear/users/debug/data/raw/g28_off_test_mon_1727950753216.m4a to ../data/users/debug/g28_off_test_mon_1727950753216.m4a\n",
      "Writing gs://data_labear/users/debug/data/raw/g28_off_test_mon_1727950773227.m4a to ../data/users/debug/g28_off_test_mon_1727950773227.m4a\n",
      "Writing gs://data_labear/users/debug/data/raw/g28_off_test_mon_1727950793228.m4a to ../data/users/debug/g28_off_test_mon_1727950793228.m4a\n",
      "Writing gs://data_labear/users/debug/data/raw/g28_off_test_mon_1727950813220.m4a to ../data/users/debug/g28_off_test_mon_1727950813220.m4a\n",
      "Writing gs://data_labear/users/debug/data/raw/g28_off_test_mon_1727950833243.m4a to ../data/users/debug/g28_off_test_mon_1727950833243.m4a\n",
      "Writing gs://data_labear/users/debug/data/raw/g28_off_test_mon_1727950853256.m4a to ../data/users/debug/g28_off_test_mon_1727950853256.m4a\n",
      "Writing gs://data_labear/users/debug/data/raw/g28_off_test_mon_1727950873237.m4a to ../data/users/debug/g28_off_test_mon_1727950873237.m4a\n",
      "Writing gs://data_labear/users/debug/data/raw/g28_off_test_mon_1727950893257.m4a to ../data/users/debug/g28_off_test_mon_1727950893257.m4a\n",
      "Writing gs://data_labear/users/debug/data/raw/g28_off_test_mon_1727950913246.m4a to ../data/users/debug/g28_off_test_mon_1727950913246.m4a\n",
      "Writing gs://data_labear/users/debug/data/raw/g28_off_test_mon_1727950933224.m4a to ../data/users/debug/g28_off_test_mon_1727950933224.m4a\n",
      "Writing gs://data_labear/users/debug/data/raw/g28_off_test_mon_1727950953216.m4a to ../data/users/debug/g28_off_test_mon_1727950953216.m4a\n",
      "Writing gs://data_labear/users/debug/data/raw/g28_vac_test_mon_1727950554565.m4a to ../data/users/debug/g28_vac_test_mon_1727950554565.m4a\n",
      "Writing gs://data_labear/users/debug/data/raw/g28_vac_test_mon_1727950574575.m4a to ../data/users/debug/g28_vac_test_mon_1727950574575.m4a\n",
      "Writing gs://data_labear/users/debug/data/raw/g28_vac_test_mon_1727950594534.m4a to ../data/users/debug/g28_vac_test_mon_1727950594534.m4a\n",
      "Writing gs://data_labear/users/debug/data/raw/g28_vac_test_mon_1727950614595.m4a to ../data/users/debug/g28_vac_test_mon_1727950614595.m4a\n",
      "Writing gs://data_labear/users/debug/data/raw/g28_vac_test_mon_1727950654597.m4a to ../data/users/debug/g28_vac_test_mon_1727950654597.m4a\n",
      "Writing gs://data_labear/users/debug/data/raw/g28_vac_test_mon_1727950674573.m4a to ../data/users/debug/g28_vac_test_mon_1727950674573.m4a\n",
      "Writing gs://data_labear/users/debug/data/raw/g28_vac_test_mon_1727950694572.m4a to ../data/users/debug/g28_vac_test_mon_1727950694572.m4a\n",
      "Writing gs://data_labear/users/debug/data/raw/g28_vac_test_mon_1727950714571.m4a to ../data/users/debug/g28_vac_test_mon_1727950714571.m4a\n"
     ]
    }
   ],
   "source": [
    "# Download files from storage \n",
    "for u in USERS:\n",
    "    # Copy files to local path\n",
    "    for in_path in (USERS_PATH / u).glob(\"**/*.m4a\"):\n",
    "        out_path = LOCAL_DATA / \"users\" / u / in_path.name\n",
    "        out_path.parent.mkdir(exist_ok=True)\n",
    "        if out_path.exists():\n",
    "            print(f\"Skipping {in_path}\")\n",
    "            continue\n",
    "        else:\n",
    "            print(f\"Writing {in_path} to {out_path}\")\n",
    "            with in_path.open(\"rb\") as f:\n",
    "                with out_path.open(\"wb\") as g:\n",
    "                    g.write(f.read())      "
   ]
  },
  {
   "cell_type": "markdown",
   "id": "7909647b-8efe-41f6-b6fc-6a17499639fe",
   "metadata": {},
   "source": [
    "## Preprocess data into chunks with labels"
   ]
  },
  {
   "cell_type": "code",
   "execution_count": 8,
   "id": "9cbf2afb-672a-4327-91dc-ad273772ad36",
   "metadata": {
    "scrolled": true
   },
   "outputs": [
    {
     "data": {
      "text/plain": [
       "[PosixPath('../data/users/g28_huawei/g28_huawei_air_1726229487294.m4a'),\n",
       " PosixPath('../data/users/g28_huawei/g28_huawei_vac_1726154772068.m4a'),\n",
       " PosixPath('../data/users/g28_huawei/g28_huawei_air_1725874893229.m4a'),\n",
       " PosixPath('../data/users/g28_huawei/g28_huawei_off_1725875099788.m4a'),\n",
       " PosixPath('../data/users/g28_huawei/g28_huawei_vac_1725874725453.m4a'),\n",
       " PosixPath('../data/users/g28_huawei/g28_huawei_off_1726154947369.m4a'),\n",
       " PosixPath('../data/users/g28_moto/g28_vac_1724341530251.m4a'),\n",
       " PosixPath('../data/users/g28_moto/g28_off_1724341915322.m4a'),\n",
       " PosixPath('../data/users/g28_moto/g28_vac_1724429578031.m4a'),\n",
       " PosixPath('../data/users/g28_moto/g28_off_1724429832899.m4a'),\n",
       " PosixPath('../data/users/g28_moto/g28_air_1724429751887.m4a'),\n",
       " PosixPath('../data/users/g28_moto/g28_air_1724341697486.m4a'),\n",
       " PosixPath('../data/users/debug/g28_off_test_mon_1727950813220.m4a'),\n",
       " PosixPath('../data/users/debug/g28_off_test_mon_1727950953216.m4a'),\n",
       " PosixPath('../data/users/debug/g28_air_test_mon_1727951206778.m4a'),\n",
       " PosixPath('../data/users/debug/g28_off_test_mon_1727950833243.m4a'),\n",
       " PosixPath('../data/users/debug/g28_vac_test_mon_1727950614595.m4a'),\n",
       " PosixPath('../data/users/debug/g28_off_test_mon_1727950793228.m4a'),\n",
       " PosixPath('../data/users/debug/g28_air_test_mon_1727951126774.m4a'),\n",
       " PosixPath('../data/users/debug/g28_off_test_mon_1727950773227.m4a'),\n",
       " PosixPath('../data/users/debug/g28_air_test_mon_1727951186772.m4a'),\n",
       " PosixPath('../data/users/debug/g28_off_test_mon_1727950933224.m4a'),\n",
       " PosixPath('../data/users/debug/g28_off_test_mon_1727950893257.m4a'),\n",
       " PosixPath('../data/users/debug/g28_off_test_mon_1727950913246.m4a'),\n",
       " PosixPath('../data/users/debug/g28_vac_test_mon_1727950674573.m4a'),\n",
       " PosixPath('../data/users/debug/g28_off_test_mon_1727950853256.m4a'),\n",
       " PosixPath('../data/users/debug/g28_air_test_mon_1727951266636.m4a'),\n",
       " PosixPath('../data/users/debug/g28_air_test_mon_1727951106769.m4a'),\n",
       " PosixPath('../data/users/debug/g28_air_test_mon_1727951146765.m4a'),\n",
       " PosixPath('../data/users/debug/g28_air_test_mon_1727951086769.m4a'),\n",
       " PosixPath('../data/users/debug/g28_off_test_mon_1727950873237.m4a'),\n",
       " PosixPath('../data/users/debug/g28_vac_test_mon_1727950554565.m4a'),\n",
       " PosixPath('../data/users/debug/g28_vac_test_mon_1727950714571.m4a'),\n",
       " PosixPath('../data/users/debug/g28_air_test_mon_1727951166772.m4a'),\n",
       " PosixPath('../data/users/debug/g28_off_test_mon_1727950753216.m4a'),\n",
       " PosixPath('../data/users/debug/g28_vac_test_mon_1727950574575.m4a'),\n",
       " PosixPath('../data/users/debug/g28_air_test_mon_1727951286612.m4a'),\n",
       " PosixPath('../data/users/debug/g28_vac_test_mon_1727950694572.m4a'),\n",
       " PosixPath('../data/users/debug/g28_vac_test_mon_1727950654597.m4a'),\n",
       " PosixPath('../data/users/debug/g28_vac_test_mon_1727950594534.m4a')]"
      ]
     },
     "execution_count": 8,
     "metadata": {},
     "output_type": "execute_result"
    }
   ],
   "source": [
    "# Collect local files\n",
    "files = []\n",
    "for u in USERS:\n",
    "    files += (LOCAL_DATA / \"users\" / u).glob(\"**/*.m4a\")\n",
    "files"
   ]
  },
  {
   "cell_type": "code",
   "execution_count": 64,
   "id": "a9892747-fd9a-41a4-abd8-f15a4cf6b521",
   "metadata": {},
   "outputs": [
    {
     "data": {
      "text/plain": [
       "'air'"
      ]
     },
     "execution_count": 64,
     "metadata": {},
     "output_type": "execute_result"
    }
   ],
   "source": [
    "def chunks(lst, n):\n",
    "    \"\"\"\n",
    "    Returns a list of chunks from a list\n",
    "    e.g. (chunk into size 4)\n",
    "    ([1,2,3,4,5,6], 4) -> [[1,2,3,4], [5,6]]\n",
    "    \"\"\"\n",
    "    return [lst[i:i + n] for i in range(0, len(lst), n)]\n",
    "def get_label(s):\n",
    "    for x in CATS:\n",
    "        if x in s: return x\n",
    "    return None\n",
    "\n",
    "get_label(\"bla_bla_air_bla\")"
   ]
  },
  {
   "cell_type": "code",
   "execution_count": 72,
   "id": "3c00b5f9-1342-44d3-b063-8f6e56a20769",
   "metadata": {},
   "outputs": [],
   "source": [
    "# chunk size in milliseconds\n",
    "CHUNKSIZE = 2000"
   ]
  },
  {
   "cell_type": "code",
   "execution_count": 73,
   "id": "e63c3691-19bd-4548-8fbd-d6fec62f24ec",
   "metadata": {
    "scrolled": true
   },
   "outputs": [
    {
     "name": "stderr",
     "output_type": "stream",
     "text": [
      "  2%|██▍                                                                                             | 1/40 [00:06<04:27,  6.87s/it]"
     ]
    },
    {
     "name": "stdout",
     "output_type": "stream",
     "text": [
      "Skipping subsegment with too small size: 1623ms\n"
     ]
    },
    {
     "name": "stderr",
     "output_type": "stream",
     "text": [
      "  5%|████▊                                                                                           | 2/40 [00:13<04:17,  6.76s/it]"
     ]
    },
    {
     "name": "stdout",
     "output_type": "stream",
     "text": [
      "Skipping subsegment with too small size: 764ms\n"
     ]
    },
    {
     "name": "stderr",
     "output_type": "stream",
     "text": [
      "  8%|███████▏                                                                                        | 3/40 [00:20<04:15,  6.89s/it]"
     ]
    },
    {
     "name": "stdout",
     "output_type": "stream",
     "text": [
      "Skipping subsegment with too small size: 1046ms\n"
     ]
    },
    {
     "name": "stderr",
     "output_type": "stream",
     "text": [
      " 10%|█████████▌                                                                                      | 4/40 [00:27<04:08,  6.91s/it]"
     ]
    },
    {
     "name": "stdout",
     "output_type": "stream",
     "text": [
      "Skipping subsegment with too small size: 392ms\n"
     ]
    },
    {
     "name": "stderr",
     "output_type": "stream",
     "text": [
      " 12%|████████████                                                                                    | 5/40 [00:34<04:04,  7.00s/it]"
     ]
    },
    {
     "name": "stdout",
     "output_type": "stream",
     "text": [
      "Skipping subsegment with too small size: 1228ms\n"
     ]
    },
    {
     "name": "stderr",
     "output_type": "stream",
     "text": [
      " 15%|██████████████▍                                                                                 | 6/40 [00:41<03:56,  6.96s/it]"
     ]
    },
    {
     "name": "stdout",
     "output_type": "stream",
     "text": [
      "Skipping subsegment with too small size: 787ms\n"
     ]
    },
    {
     "name": "stderr",
     "output_type": "stream",
     "text": [
      " 18%|████████████████▊                                                                               | 7/40 [00:48<03:50,  7.00s/it]"
     ]
    },
    {
     "name": "stdout",
     "output_type": "stream",
     "text": [
      "Skipping subsegment with too small size: 906ms\n"
     ]
    },
    {
     "name": "stderr",
     "output_type": "stream",
     "text": [
      " 20%|███████████████████▏                                                                            | 8/40 [00:55<03:44,  7.01s/it]"
     ]
    },
    {
     "name": "stdout",
     "output_type": "stream",
     "text": [
      "Skipping subsegment with too small size: 1899ms\n"
     ]
    },
    {
     "name": "stderr",
     "output_type": "stream",
     "text": [
      " 22%|█████████████████████▌                                                                          | 9/40 [00:56<02:41,  5.22s/it]"
     ]
    },
    {
     "name": "stdout",
     "output_type": "stream",
     "text": [
      "Skipping subsegment with too small size: 1130ms\n"
     ]
    },
    {
     "name": "stderr",
     "output_type": "stream",
     "text": [
      " 25%|███████████████████████▊                                                                       | 10/40 [00:58<01:59,  4.00s/it]"
     ]
    },
    {
     "name": "stdout",
     "output_type": "stream",
     "text": [
      "Skipping subsegment with too small size: 1734ms\n"
     ]
    },
    {
     "name": "stderr",
     "output_type": "stream",
     "text": [
      " 28%|██████████████████████████▏                                                                    | 11/40 [00:59<01:32,  3.19s/it]"
     ]
    },
    {
     "name": "stdout",
     "output_type": "stream",
     "text": [
      "Skipping subsegment with too small size: 523ms\n"
     ]
    },
    {
     "name": "stderr",
     "output_type": "stream",
     "text": [
      " 30%|████████████████████████████▌                                                                  | 12/40 [01:06<02:00,  4.29s/it]"
     ]
    },
    {
     "name": "stdout",
     "output_type": "stream",
     "text": [
      "Skipping subsegment with too small size: 1092ms\n"
     ]
    },
    {
     "name": "stderr",
     "output_type": "stream",
     "text": [
      " 32%|██████████████████████████████▉                                                                | 13/40 [01:06<01:23,  3.11s/it]"
     ]
    },
    {
     "name": "stdout",
     "output_type": "stream",
     "text": [
      "Skipping subsegment with too small size: 876ms\n"
     ]
    },
    {
     "name": "stderr",
     "output_type": "stream",
     "text": [
      " 35%|█████████████████████████████████▎                                                             | 14/40 [01:07<00:59,  2.28s/it]"
     ]
    },
    {
     "name": "stdout",
     "output_type": "stream",
     "text": [
      "Skipping subsegment with too small size: 853ms\n"
     ]
    },
    {
     "name": "stderr",
     "output_type": "stream",
     "text": [
      " 38%|███████████████████████████████████▋                                                           | 15/40 [01:07<00:43,  1.72s/it]"
     ]
    },
    {
     "name": "stdout",
     "output_type": "stream",
     "text": [
      "Skipping subsegment with too small size: 876ms\n"
     ]
    },
    {
     "name": "stderr",
     "output_type": "stream",
     "text": [
      " 40%|██████████████████████████████████████                                                         | 16/40 [01:08<00:31,  1.33s/it]"
     ]
    },
    {
     "name": "stdout",
     "output_type": "stream",
     "text": [
      "Skipping subsegment with too small size: 876ms\n"
     ]
    },
    {
     "name": "stderr",
     "output_type": "stream",
     "text": [
      " 42%|████████████████████████████████████████▍                                                      | 17/40 [01:08<00:24,  1.05s/it]"
     ]
    },
    {
     "name": "stdout",
     "output_type": "stream",
     "text": [
      "Skipping subsegment with too small size: 876ms\n"
     ]
    },
    {
     "name": "stderr",
     "output_type": "stream",
     "text": [
      " 45%|██████████████████████████████████████████▊                                                    | 18/40 [01:08<00:18,  1.17it/s]"
     ]
    },
    {
     "name": "stdout",
     "output_type": "stream",
     "text": [
      "Skipping subsegment with too small size: 876ms\n"
     ]
    },
    {
     "name": "stderr",
     "output_type": "stream",
     "text": [
      " 48%|█████████████████████████████████████████████▏                                                 | 19/40 [01:09<00:14,  1.40it/s]"
     ]
    },
    {
     "name": "stdout",
     "output_type": "stream",
     "text": [
      "Skipping subsegment with too small size: 876ms\n"
     ]
    },
    {
     "name": "stderr",
     "output_type": "stream",
     "text": [
      " 50%|███████████████████████████████████████████████▌                                               | 20/40 [01:09<00:12,  1.61it/s]"
     ]
    },
    {
     "name": "stdout",
     "output_type": "stream",
     "text": [
      "Skipping subsegment with too small size: 876ms\n"
     ]
    },
    {
     "name": "stderr",
     "output_type": "stream",
     "text": [
      " 52%|█████████████████████████████████████████████████▉                                             | 21/40 [01:09<00:10,  1.83it/s]"
     ]
    },
    {
     "name": "stdout",
     "output_type": "stream",
     "text": [
      "Skipping subsegment with too small size: 876ms\n"
     ]
    },
    {
     "name": "stderr",
     "output_type": "stream",
     "text": [
      " 55%|████████████████████████████████████████████████████▎                                          | 22/40 [01:10<00:08,  2.01it/s]"
     ]
    },
    {
     "name": "stdout",
     "output_type": "stream",
     "text": [
      "Skipping subsegment with too small size: 876ms\n"
     ]
    },
    {
     "name": "stderr",
     "output_type": "stream",
     "text": [
      " 57%|██████████████████████████████████████████████████████▌                                        | 23/40 [01:10<00:07,  2.16it/s]"
     ]
    },
    {
     "name": "stdout",
     "output_type": "stream",
     "text": [
      "Skipping subsegment with too small size: 876ms\n"
     ]
    },
    {
     "name": "stderr",
     "output_type": "stream",
     "text": [
      " 60%|█████████████████████████████████████████████████████████                                      | 24/40 [01:11<00:06,  2.30it/s]"
     ]
    },
    {
     "name": "stdout",
     "output_type": "stream",
     "text": [
      "Skipping subsegment with too small size: 876ms\n"
     ]
    },
    {
     "name": "stderr",
     "output_type": "stream",
     "text": [
      " 62%|███████████████████████████████████████████████████████████▍                                   | 25/40 [01:11<00:06,  2.39it/s]"
     ]
    },
    {
     "name": "stdout",
     "output_type": "stream",
     "text": [
      "Skipping subsegment with too small size: 876ms\n"
     ]
    },
    {
     "name": "stderr",
     "output_type": "stream",
     "text": [
      " 65%|█████████████████████████████████████████████████████████████▊                                 | 26/40 [01:11<00:05,  2.45it/s]"
     ]
    },
    {
     "name": "stdout",
     "output_type": "stream",
     "text": [
      "Skipping subsegment with too small size: 876ms\n"
     ]
    },
    {
     "name": "stderr",
     "output_type": "stream",
     "text": [
      " 68%|████████████████████████████████████████████████████████████████▏                              | 27/40 [01:12<00:05,  2.50it/s]"
     ]
    },
    {
     "name": "stdout",
     "output_type": "stream",
     "text": [
      "Skipping subsegment with too small size: 876ms\n"
     ]
    },
    {
     "name": "stderr",
     "output_type": "stream",
     "text": [
      " 70%|██████████████████████████████████████████████████████████████████▌                            | 28/40 [01:12<00:04,  2.53it/s]"
     ]
    },
    {
     "name": "stdout",
     "output_type": "stream",
     "text": [
      "Skipping subsegment with too small size: 876ms\n"
     ]
    },
    {
     "name": "stderr",
     "output_type": "stream",
     "text": [
      " 72%|████████████████████████████████████████████████████████████████████▉                          | 29/40 [01:13<00:04,  2.51it/s]"
     ]
    },
    {
     "name": "stdout",
     "output_type": "stream",
     "text": [
      "Skipping subsegment with too small size: 876ms\n"
     ]
    },
    {
     "name": "stderr",
     "output_type": "stream",
     "text": [
      " 75%|███████████████████████████████████████████████████████████████████████▎                       | 30/40 [01:13<00:03,  2.51it/s]"
     ]
    },
    {
     "name": "stdout",
     "output_type": "stream",
     "text": [
      "Skipping subsegment with too small size: 853ms\n"
     ]
    },
    {
     "name": "stderr",
     "output_type": "stream",
     "text": [
      " 78%|█████████████████████████████████████████████████████████████████████████▋                     | 31/40 [01:13<00:03,  2.35it/s]"
     ]
    },
    {
     "name": "stdout",
     "output_type": "stream",
     "text": [
      "Skipping subsegment with too small size: 876ms\n"
     ]
    },
    {
     "name": "stderr",
     "output_type": "stream",
     "text": [
      " 80%|████████████████████████████████████████████████████████████████████████████                   | 32/40 [01:14<00:03,  2.44it/s]"
     ]
    },
    {
     "name": "stdout",
     "output_type": "stream",
     "text": [
      "Skipping subsegment with too small size: 458ms\n"
     ]
    },
    {
     "name": "stderr",
     "output_type": "stream",
     "text": [
      " 82%|██████████████████████████████████████████████████████████████████████████████▍                | 33/40 [01:14<00:02,  2.47it/s]"
     ]
    },
    {
     "name": "stdout",
     "output_type": "stream",
     "text": [
      "Skipping subsegment with too small size: 876ms\n"
     ]
    },
    {
     "name": "stderr",
     "output_type": "stream",
     "text": [
      " 85%|████████████████████████████████████████████████████████████████████████████████▊              | 34/40 [01:15<00:02,  2.51it/s]"
     ]
    },
    {
     "name": "stdout",
     "output_type": "stream",
     "text": [
      "Skipping subsegment with too small size: 876ms\n"
     ]
    },
    {
     "name": "stderr",
     "output_type": "stream",
     "text": [
      " 88%|███████████████████████████████████████████████████████████████████████████████████▏           | 35/40 [01:15<00:01,  2.52it/s]"
     ]
    },
    {
     "name": "stdout",
     "output_type": "stream",
     "text": [
      "Skipping subsegment with too small size: 876ms\n"
     ]
    },
    {
     "name": "stderr",
     "output_type": "stream",
     "text": [
      " 90%|█████████████████████████████████████████████████████████████████████████████████████▌         | 36/40 [01:15<00:01,  2.53it/s]"
     ]
    },
    {
     "name": "stdout",
     "output_type": "stream",
     "text": [
      "Skipping subsegment with too small size: 876ms\n"
     ]
    },
    {
     "name": "stderr",
     "output_type": "stream",
     "text": [
      " 92%|███████████████████████████████████████████████████████████████████████████████████████▉       | 37/40 [01:16<00:01,  2.54it/s]"
     ]
    },
    {
     "name": "stdout",
     "output_type": "stream",
     "text": [
      "Skipping subsegment with too small size: 876ms\n"
     ]
    },
    {
     "name": "stderr",
     "output_type": "stream",
     "text": [
      " 95%|██████████████████████████████████████████████████████████████████████████████████████████▎    | 38/40 [01:16<00:00,  2.50it/s]"
     ]
    },
    {
     "name": "stdout",
     "output_type": "stream",
     "text": [
      "Skipping subsegment with too small size: 853ms\n"
     ]
    },
    {
     "name": "stderr",
     "output_type": "stream",
     "text": [
      " 98%|████████████████████████████████████████████████████████████████████████████████████████████▋  | 39/40 [01:17<00:00,  2.54it/s]"
     ]
    },
    {
     "name": "stdout",
     "output_type": "stream",
     "text": [
      "Skipping subsegment with too small size: 876ms\n"
     ]
    },
    {
     "name": "stderr",
     "output_type": "stream",
     "text": [
      "100%|███████████████████████████████████████████████████████████████████████████████████████████████| 40/40 [01:17<00:00,  1.94s/it]"
     ]
    },
    {
     "name": "stdout",
     "output_type": "stream",
     "text": [
      "Skipping subsegment with too small size: 876ms\n"
     ]
    },
    {
     "name": "stderr",
     "output_type": "stream",
     "text": [
      "\n"
     ]
    }
   ],
   "source": [
    "total_ms = {c: 0 for c in CATS}\n",
    "# Make sure output dirs exist \n",
    "for c in CATS:\n",
    "    (EXP_DIR / c).mkdir(exist_ok=True)\n",
    "for file in tqdm(files):\n",
    "    seg = AudioSegment.from_file(file)\n",
    "    label = get_label(file.name)\n",
    "    total_ms[label] += len(seg)/1000.\n",
    "    for i, subseg in enumerate(chunks(seg, CHUNKSIZE)):\n",
    "        if len(subseg) == CHUNKSIZE:\n",
    "            subseg.export(EXP_DIR / label / (file.stem + f\"_chunk_{i}.wav\") )\n",
    "        else:\n",
    "            print(f\"Skipping subsegment with too small size: {len(subseg)}ms\")"
   ]
  },
  {
   "cell_type": "code",
   "execution_count": 75,
   "id": "657ca991-8d02-4c5e-9b25-463d1c784767",
   "metadata": {},
   "outputs": [
    {
     "data": {
      "text/plain": [
       "{'air': 432.1449999999998, 'vac': 426.5949999999999, 'off': 446.4249999999997}"
      ]
     },
     "execution_count": 75,
     "metadata": {},
     "output_type": "execute_result"
    }
   ],
   "source": [
    "total_ms"
   ]
  },
  {
   "cell_type": "markdown",
   "id": "87c0a3a5-f6f8-41f9-a941-2d929f47c68e",
   "metadata": {},
   "source": [
    "## Collect processed data "
   ]
  },
  {
   "cell_type": "code",
   "execution_count": 79,
   "id": "574f8dca-72c5-429b-84c0-8550cf59a69f",
   "metadata": {},
   "outputs": [
    {
     "data": {
      "text/plain": [
       "[PosixPath('../data/experiments/v1/air/g28_air_test_mon_1727951126774_chunk_1.wav'),\n",
       " PosixPath('../data/experiments/v1/air/g28_huawei_air_1726229487294_chunk_35.wav'),\n",
       " PosixPath('../data/experiments/v1/air/g28_huawei_air_1726229487294_chunk_21.wav')]"
      ]
     },
     "execution_count": 79,
     "metadata": {},
     "output_type": "execute_result"
    }
   ],
   "source": [
    "processed_files = list(EXP_DIR.glob(\"**/*.wav\"))\n",
    "processed_files[:3]"
   ]
  },
  {
   "cell_type": "code",
   "execution_count": 241,
   "id": "b8c6dd63-ec9a-486b-9aa0-ea862701f6ce",
   "metadata": {},
   "outputs": [
    {
     "data": {
      "text/html": [
       "<div>\n",
       "<style scoped>\n",
       "    .dataframe tbody tr th:only-of-type {\n",
       "        vertical-align: middle;\n",
       "    }\n",
       "\n",
       "    .dataframe tbody tr th {\n",
       "        vertical-align: top;\n",
       "    }\n",
       "\n",
       "    .dataframe thead th {\n",
       "        text-align: right;\n",
       "    }\n",
       "</style>\n",
       "<table border=\"1\" class=\"dataframe\">\n",
       "  <thead>\n",
       "    <tr style=\"text-align: right;\">\n",
       "      <th></th>\n",
       "      <th>filepath</th>\n",
       "      <th>label</th>\n",
       "      <th>duration</th>\n",
       "    </tr>\n",
       "  </thead>\n",
       "  <tbody>\n",
       "    <tr>\n",
       "      <th>457</th>\n",
       "      <td>../data/experiments/v1/off/g28_off_17243419153...</td>\n",
       "      <td>off</td>\n",
       "      <td>2.0</td>\n",
       "    </tr>\n",
       "    <tr>\n",
       "      <th>112</th>\n",
       "      <td>../data/experiments/v1/air/g28_huawei_air_1725...</td>\n",
       "      <td>air</td>\n",
       "      <td>2.0</td>\n",
       "    </tr>\n",
       "    <tr>\n",
       "      <th>432</th>\n",
       "      <td>../data/experiments/v1/off/g28_huawei_off_1725...</td>\n",
       "      <td>off</td>\n",
       "      <td>2.0</td>\n",
       "    </tr>\n",
       "    <tr>\n",
       "      <th>295</th>\n",
       "      <td>../data/experiments/v1/vac/g28_vac_17243415302...</td>\n",
       "      <td>vac</td>\n",
       "      <td>2.0</td>\n",
       "    </tr>\n",
       "    <tr>\n",
       "      <th>530</th>\n",
       "      <td>../data/experiments/v1/off/g28_off_test_mon_17...</td>\n",
       "      <td>off</td>\n",
       "      <td>2.0</td>\n",
       "    </tr>\n",
       "  </tbody>\n",
       "</table>\n",
       "</div>"
      ],
      "text/plain": [
       "                                              filepath label  duration\n",
       "457  ../data/experiments/v1/off/g28_off_17243419153...   off       2.0\n",
       "112  ../data/experiments/v1/air/g28_huawei_air_1725...   air       2.0\n",
       "432  ../data/experiments/v1/off/g28_huawei_off_1725...   off       2.0\n",
       "295  ../data/experiments/v1/vac/g28_vac_17243415302...   vac       2.0\n",
       "530  ../data/experiments/v1/off/g28_off_test_mon_17...   off       2.0"
      ]
     },
     "execution_count": 241,
     "metadata": {},
     "output_type": "execute_result"
    }
   ],
   "source": [
    "df = pd.DataFrame(dict(filepath=processed_files))\n",
    "df[\"label\"] = df.filepath.apply(lambda x: Path(x).parent.name)\n",
    "df[\"duration\"] = df.filepath.apply(lambda x: librosa.get_duration(path=str(x)))\n",
    "# Make it a string not Path to avoid downstream bugs\n",
    "df[\"filepath\"] = df[\"filepath\"].apply(str)\n",
    "df.sample(5)"
   ]
  },
  {
   "cell_type": "code",
   "execution_count": 242,
   "id": "3e336f4e-6aca-4261-9070-ef8db382ed3a",
   "metadata": {},
   "outputs": [
    {
     "data": {
      "text/plain": [
       "2.0    634\n",
       "Name: duration, dtype: int64"
      ]
     },
     "execution_count": 242,
     "metadata": {},
     "output_type": "execute_result"
    }
   ],
   "source": [
    "# confirm constant duration files (4 secs)\n",
    "df.duration.value_counts()"
   ]
  },
  {
   "cell_type": "code",
   "execution_count": 243,
   "id": "fd440955-3c86-4aff-957f-23a940d4209a",
   "metadata": {},
   "outputs": [
    {
     "data": {
      "text/plain": [
       "filepath    ../data/experiments/v1/vac/g28_huawei_vac_1726...\n",
       "label                                                     vac\n",
       "duration                                                  2.0\n",
       "Name: 394, dtype: object"
      ]
     },
     "execution_count": 243,
     "metadata": {},
     "output_type": "execute_result"
    }
   ],
   "source": [
    "sample = df.sample().iloc[0]; sample"
   ]
  },
  {
   "cell_type": "code",
   "execution_count": 244,
   "id": "1c1121d3-5738-4064-9d2c-418c39ff862b",
   "metadata": {},
   "outputs": [
    {
     "data": {
      "text/html": [
       "\n",
       "                <audio  controls=\"controls\" autoplay=\"autoplay\">\n",
       "                    <source src=\"data:audio/x-wav;base64,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\" type=\"audio/x-wav\" />\n",
       "                    Your browser does not support the audio element.\n",
       "                </audio>\n",
       "              "
      ],
      "text/plain": [
       "<IPython.lib.display.Audio object>"
      ]
     },
     "execution_count": 244,
     "metadata": {},
     "output_type": "execute_result"
    }
   ],
   "source": [
    "display.Audio(sample.filepath, autoplay=True)"
   ]
  },
  {
   "cell_type": "code",
   "execution_count": 245,
   "id": "fb55d070-13a9-484a-8c58-457be7e65a3d",
   "metadata": {},
   "outputs": [
    {
     "data": {
      "text/plain": [
       "off    216\n",
       "air    210\n",
       "vac    208\n",
       "Name: label, dtype: int64"
      ]
     },
     "execution_count": 245,
     "metadata": {},
     "output_type": "execute_result"
    }
   ],
   "source": [
    "df.label.value_counts()"
   ]
  },
  {
   "cell_type": "code",
   "execution_count": 246,
   "id": "42278b54-1381-4086-bbdc-153bd51b6515",
   "metadata": {},
   "outputs": [],
   "source": [
    "def get_sample_of(cls: str, random_state=None):\n",
    "    return df[df.label == cls].sample(random_state=random_state).iloc[0]\n",
    "    \n",
    "def play_sample(sample):\n",
    "    print(sample.filepath, sample.label)\n",
    "    return display.Audio(sample.filepath, autoplay=True)\n",
    "\n",
    "def play_sample_of(cls: str, random_state=None):\n",
    "    sample = get_sample_of(cls, random_state)\n",
    "    return play_sample(sample)"
   ]
  },
  {
   "cell_type": "code",
   "execution_count": 247,
   "id": "67ad43ae-7a10-45ab-9d44-b2ed7b66834a",
   "metadata": {},
   "outputs": [],
   "source": [
    "def plot_spectrogram(filepath, title=None):\n",
    "    y, sr = librosa.load(filepath)\n",
    "    S = librosa.feature.melspectrogram(y=y, sr=sr)\n",
    "    S_dB = librosa.power_to_db(S, ref=np.max)\n",
    "    plt.figure(figsize=(10, 4))\n",
    "    librosa.display.specshow(S_dB, x_axis='time', y_axis='mel', sr=sr, fmax=8000)\n",
    "    plt.colorbar(format='%+2.0f dB')\n",
    "    plt.title(f'Mel-frequency spectrogram ({title})')\n",
    "    plt.tight_layout()\n",
    "    plt.show()\n",
    "\n",
    "def show_sample(sample, **kwargs):\n",
    "    plot_spectrogram(sample.filepath, **kwargs)\n",
    "\n",
    "def show_sample_of(cls: str, random_state=None):\n",
    "    sample = get_sample_of(cls, random_state)\n",
    "    return show_sample(sample)"
   ]
  },
  {
   "cell_type": "code",
   "execution_count": 248,
   "id": "e8b43f6c-39b4-4c4e-a498-159b5f3d19aa",
   "metadata": {},
   "outputs": [
    {
     "name": "stdout",
     "output_type": "stream",
     "text": [
      "../data/experiments/v1/air/g28_huawei_air_1726229487294_chunk_55.wav air\n"
     ]
    },
    {
     "data": {
      "text/html": [
       "\n",
       "                <audio  controls=\"controls\" autoplay=\"autoplay\">\n",
       "                    <source src=\"data:audio/x-wav;base64,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\" type=\"audio/x-wav\" />\n",
       "                    Your browser does not support the audio element.\n",
       "                </audio>\n",
       "              "
      ],
      "text/plain": [
       "<IPython.lib.display.Audio object>"
      ]
     },
     "execution_count": 248,
     "metadata": {},
     "output_type": "execute_result"
    }
   ],
   "source": [
    "samp = get_sample_of(CATS[0])\n",
    "play_sample(samp)"
   ]
  },
  {
   "cell_type": "code",
   "execution_count": 249,
   "id": "3e47ed98-1aa3-4388-ab60-deeb05467fdd",
   "metadata": {},
   "outputs": [
    {
     "data": {
      "image/png": "[encoded data removed]",
      "text/plain": [
       "<Figure size 1000x400 with 2 Axes>"
      ]
     },
     "metadata": {},
     "output_type": "display_data"
    }
   ],
   "source": [
    "show_sample(samp, title=CATS[0])"
   ]
  },
  {
   "cell_type": "code",
   "execution_count": 250,
   "id": "cbd3a580-18c0-4093-b9b0-7f35b2167f26",
   "metadata": {},
   "outputs": [
    {
     "name": "stdout",
     "output_type": "stream",
     "text": [
      "../data/experiments/v1/vac/g28_huawei_vac_1725874725453_chunk_29.wav vac\n"
     ]
    },
    {
     "data": {
      "text/html": [
       "\n",
       "                <audio  controls=\"controls\" autoplay=\"autoplay\">\n",
       "                    <source src=\"data:audio/x-wav;base64,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\" type=\"audio/x-wav\" />\n",
       "                    Your browser does not support the audio element.\n",
       "                </audio>\n",
       "              "
      ],
      "text/plain": [
       "<IPython.lib.display.Audio object>"
      ]
     },
     "execution_count": 250,
     "metadata": {},
     "output_type": "execute_result"
    }
   ],
   "source": [
    "samp = get_sample_of(CATS[1])\n",
    "play_sample(samp)"
   ]
  },
  {
   "cell_type": "code",
   "execution_count": 251,
   "id": "6a5e0620-353a-4456-b46a-e562071b4aa2",
   "metadata": {},
   "outputs": [
    {
     "data": {
      "image/png": "[encoded data removed]",
      "text/plain": [
       "<Figure size 1000x400 with 2 Axes>"
      ]
     },
     "metadata": {},
     "output_type": "display_data"
    }
   ],
   "source": [
    "show_sample(samp, title=CATS[1])"
   ]
  },
  {
   "cell_type": "code",
   "execution_count": 252,
   "id": "898ee444-4913-41cf-93ce-4638871c344b",
   "metadata": {},
   "outputs": [
    {
     "name": "stdout",
     "output_type": "stream",
     "text": [
      "../data/experiments/v1/off/g28_off_1724341915322_chunk_50.wav off\n"
     ]
    },
    {
     "data": {
      "text/html": [
       "\n",
       "                <audio  controls=\"controls\" autoplay=\"autoplay\">\n",
       "                    <source src=\"data:audio/x-wav;base64,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\" type=\"audio/x-wav\" />\n",
       "                    Your browser does not support the audio element.\n",
       "                </audio>\n",
       "              "
      ],
      "text/plain": [
       "<IPython.lib.display.Audio object>"
      ]
     },
     "execution_count": 252,
     "metadata": {},
     "output_type": "execute_result"
    }
   ],
   "source": [
    "samp = get_sample_of(CATS[2])\n",
    "play_sample(samp)"
   ]
  },
  {
   "cell_type": "code",
   "execution_count": 253,
   "id": "53437e68-bbc6-48f6-8082-89735bbf72cf",
   "metadata": {},
   "outputs": [
    {
     "data": {
      "image/png": "[encoded data removed]",
      "text/plain": [
       "<Figure size 1000x400 with 2 Axes>"
      ]
     },
     "metadata": {},
     "output_type": "display_data"
    }
   ],
   "source": [
    "show_sample(samp, title=CATS[2])"
   ]
  },
  {
   "cell_type": "markdown",
   "id": "eb1cb028-546a-405c-b183-414027ca634f",
   "metadata": {},
   "source": [
    "## Train/validation split\n",
    "\n",
    "Split data into training and validation "
   ]
  },
  {
   "cell_type": "code",
   "execution_count": 254,
   "id": "ccc5f4b0-5ef9-4560-a4d2-0687bde34dfe",
   "metadata": {},
   "outputs": [],
   "source": [
    "from sklearn.model_selection import train_test_split"
   ]
  },
  {
   "cell_type": "code",
   "execution_count": 255,
   "id": "2070c83a-ce72-4d72-ace4-7ef4a3a59a11",
   "metadata": {},
   "outputs": [
    {
     "data": {
      "text/plain": [
       "((538, 3), (96, 3))"
      ]
     },
     "execution_count": 255,
     "metadata": {},
     "output_type": "execute_result"
    }
   ],
   "source": [
    "train, val = train_test_split(df, stratify=df.label, random_state=0, test_size=0.15)\n",
    "train.shape, val.shape"
   ]
  },
  {
   "cell_type": "code",
   "execution_count": 256,
   "id": "77119351-a85d-4a42-82b0-ff349120b7e6",
   "metadata": {},
   "outputs": [],
   "source": [
    "df['isval'] = [i in val.index for i in df.index]"
   ]
  },
  {
   "cell_type": "code",
   "execution_count": 257,
   "id": "d317fff1-9507-4f0c-96bd-b35dd65c833b",
   "metadata": {},
   "outputs": [
    {
     "data": {
      "text/html": [
       "<div>\n",
       "<style scoped>\n",
       "    .dataframe tbody tr th:only-of-type {\n",
       "        vertical-align: middle;\n",
       "    }\n",
       "\n",
       "    .dataframe tbody tr th {\n",
       "        vertical-align: top;\n",
       "    }\n",
       "\n",
       "    .dataframe thead th {\n",
       "        text-align: right;\n",
       "    }\n",
       "</style>\n",
       "<table border=\"1\" class=\"dataframe\">\n",
       "  <thead>\n",
       "    <tr style=\"text-align: right;\">\n",
       "      <th></th>\n",
       "      <th>filepath</th>\n",
       "      <th>label</th>\n",
       "      <th>duration</th>\n",
       "      <th>isval</th>\n",
       "    </tr>\n",
       "  </thead>\n",
       "  <tbody>\n",
       "    <tr>\n",
       "      <th>9</th>\n",
       "      <td>../data/experiments/v1/air/g28_huawei_air_1726...</td>\n",
       "      <td>air</td>\n",
       "      <td>2.0</td>\n",
       "      <td>True</td>\n",
       "    </tr>\n",
       "    <tr>\n",
       "      <th>21</th>\n",
       "      <td>../data/experiments/v1/air/g28_huawei_air_1725...</td>\n",
       "      <td>air</td>\n",
       "      <td>2.0</td>\n",
       "      <td>True</td>\n",
       "    </tr>\n",
       "    <tr>\n",
       "      <th>25</th>\n",
       "      <td>../data/experiments/v1/air/g28_air_17243416974...</td>\n",
       "      <td>air</td>\n",
       "      <td>2.0</td>\n",
       "      <td>True</td>\n",
       "    </tr>\n",
       "    <tr>\n",
       "      <th>36</th>\n",
       "      <td>../data/experiments/v1/air/g28_huawei_air_1726...</td>\n",
       "      <td>air</td>\n",
       "      <td>2.0</td>\n",
       "      <td>True</td>\n",
       "    </tr>\n",
       "    <tr>\n",
       "      <th>39</th>\n",
       "      <td>../data/experiments/v1/air/g28_huawei_air_1726...</td>\n",
       "      <td>air</td>\n",
       "      <td>2.0</td>\n",
       "      <td>True</td>\n",
       "    </tr>\n",
       "    <tr>\n",
       "      <th>...</th>\n",
       "      <td>...</td>\n",
       "      <td>...</td>\n",
       "      <td>...</td>\n",
       "      <td>...</td>\n",
       "    </tr>\n",
       "    <tr>\n",
       "      <th>599</th>\n",
       "      <td>../data/experiments/v1/off/g28_huawei_off_1726...</td>\n",
       "      <td>off</td>\n",
       "      <td>2.0</td>\n",
       "      <td>True</td>\n",
       "    </tr>\n",
       "    <tr>\n",
       "      <th>600</th>\n",
       "      <td>../data/experiments/v1/off/g28_off_17244298328...</td>\n",
       "      <td>off</td>\n",
       "      <td>2.0</td>\n",
       "      <td>True</td>\n",
       "    </tr>\n",
       "    <tr>\n",
       "      <th>607</th>\n",
       "      <td>../data/experiments/v1/off/g28_off_17243419153...</td>\n",
       "      <td>off</td>\n",
       "      <td>2.0</td>\n",
       "      <td>True</td>\n",
       "    </tr>\n",
       "    <tr>\n",
       "      <th>615</th>\n",
       "      <td>../data/experiments/v1/off/g28_huawei_off_1726...</td>\n",
       "      <td>off</td>\n",
       "      <td>2.0</td>\n",
       "      <td>True</td>\n",
       "    </tr>\n",
       "    <tr>\n",
       "      <th>619</th>\n",
       "      <td>../data/experiments/v1/off/g28_off_17243419153...</td>\n",
       "      <td>off</td>\n",
       "      <td>2.0</td>\n",
       "      <td>True</td>\n",
       "    </tr>\n",
       "  </tbody>\n",
       "</table>\n",
       "<p>96 rows × 4 columns</p>\n",
       "</div>"
      ],
      "text/plain": [
       "                                              filepath label  duration  isval\n",
       "9    ../data/experiments/v1/air/g28_huawei_air_1726...   air       2.0   True\n",
       "21   ../data/experiments/v1/air/g28_huawei_air_1725...   air       2.0   True\n",
       "25   ../data/experiments/v1/air/g28_air_17243416974...   air       2.0   True\n",
       "36   ../data/experiments/v1/air/g28_huawei_air_1726...   air       2.0   True\n",
       "39   ../data/experiments/v1/air/g28_huawei_air_1726...   air       2.0   True\n",
       "..                                                 ...   ...       ...    ...\n",
       "599  ../data/experiments/v1/off/g28_huawei_off_1726...   off       2.0   True\n",
       "600  ../data/experiments/v1/off/g28_off_17244298328...   off       2.0   True\n",
       "607  ../data/experiments/v1/off/g28_off_17243419153...   off       2.0   True\n",
       "615  ../data/experiments/v1/off/g28_huawei_off_1726...   off       2.0   True\n",
       "619  ../data/experiments/v1/off/g28_off_17243419153...   off       2.0   True\n",
       "\n",
       "[96 rows x 4 columns]"
      ]
     },
     "execution_count": 257,
     "metadata": {},
     "output_type": "execute_result"
    }
   ],
   "source": [
    "df[df.isval]"
   ]
  },
  {
   "cell_type": "code",
   "execution_count": 258,
   "id": "a274f2d7-a99c-455d-9ced-3ddedee8ee21",
   "metadata": {},
   "outputs": [
    {
     "data": {
      "text/plain": [
       "off    183\n",
       "air    178\n",
       "vac    177\n",
       "Name: label, dtype: int64"
      ]
     },
     "execution_count": 258,
     "metadata": {},
     "output_type": "execute_result"
    }
   ],
   "source": [
    "train.label.value_counts()"
   ]
  },
  {
   "cell_type": "code",
   "execution_count": 259,
   "id": "771d4e08-234c-4e2a-aece-0215b7292561",
   "metadata": {},
   "outputs": [
    {
     "data": {
      "text/plain": [
       "off    33\n",
       "air    32\n",
       "vac    31\n",
       "Name: label, dtype: int64"
      ]
     },
     "execution_count": 259,
     "metadata": {},
     "output_type": "execute_result"
    }
   ],
   "source": [
    "val.label.value_counts()"
   ]
  },
  {
   "cell_type": "markdown",
   "id": "0ea5e100-6db8-488c-baed-74efc6492845",
   "metadata": {},
   "source": [
    "## Import / download pretrained model (speechbrain urbansound)"
   ]
  },
  {
   "cell_type": "code",
   "execution_count": 260,
   "id": "27ae1a98-1898-451b-b19d-f2174d986c96",
   "metadata": {},
   "outputs": [
    {
     "name": "stdout",
     "output_type": "stream",
     "text": [
      "['dog_bark']\n"
     ]
    }
   ],
   "source": [
    "import torchaudio\n",
    "from speechbrain.inference.classifiers import EncoderClassifier\n",
    "classifier = EncoderClassifier.from_hparams(source=\"speechbrain/urbansound8k_ecapa\", savedir=\"models/gurbansound8k_ecapa\")\n",
    "out_prob, score, index, text_lab = classifier.classify_file('speechbrain/urbansound8k_ecapa/dog_bark.wav')\n",
    "print(text_lab)"
   ]
  },
  {
   "cell_type": "markdown",
   "id": "130a75fb-7e68-4470-8a06-a0a85c710973",
   "metadata": {},
   "source": [
    "For fun, I'm just going to run the classifier which is predicting urban sounds, and see what it says on random samples from our new dataset - it's interesting what it predicts! "
   ]
  },
  {
   "cell_type": "code",
   "execution_count": 261,
   "id": "2b4621f9-7d69-418f-a62a-03b0193faa9d",
   "metadata": {},
   "outputs": [
    {
     "data": {
      "text/plain": [
       "(tensor([[-0.1059, -0.0274,  0.1141, -0.5768, -0.0877, -0.2688,  0.3275,  0.2400,\n",
       "           0.4834,  0.0514]]),\n",
       " tensor([0.4834]),\n",
       " tensor([8]),\n",
       " ['drilling'])"
      ]
     },
     "execution_count": 261,
     "metadata": {},
     "output_type": "execute_result"
    }
   ],
   "source": [
    "sample = get_sample_of(CATS[0])\n",
    "classifier.classify_file(sample.filepath)"
   ]
  },
  {
   "cell_type": "code",
   "execution_count": 262,
   "id": "97c8c216-7f36-484c-b0d8-e0f1f807179b",
   "metadata": {},
   "outputs": [
    {
     "name": "stdout",
     "output_type": "stream",
     "text": [
      "../data/experiments/v1/air/g28_air_1724341697486_chunk_17.wav air\n"
     ]
    },
    {
     "data": {
      "text/html": [
       "\n",
       "                <audio  controls=\"controls\" autoplay=\"autoplay\">\n",
       "                    <source src=\"data:audio/x-wav;base64,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\" type=\"audio/x-wav\" />\n",
       "                    Your browser does not support the audio element.\n",
       "                </audio>\n",
       "              "
      ],
      "text/plain": [
       "<IPython.lib.display.Audio object>"
      ]
     },
     "execution_count": 262,
     "metadata": {},
     "output_type": "execute_result"
    }
   ],
   "source": [
    "play_sample(sample)"
   ]
  },
  {
   "cell_type": "code",
   "execution_count": 264,
   "id": "41c989ee-139c-4b58-a2d0-638700a0b35c",
   "metadata": {},
   "outputs": [
    {
     "data": {
      "text/plain": [
       "(tensor([[ 0.1376, -0.3050, -0.2093, -0.1708, -0.2196, -0.2893,  0.2454,  0.3200,\n",
       "           0.5589,  0.2204]]),\n",
       " tensor([0.5589]),\n",
       " tensor([8]),\n",
       " ['drilling'])"
      ]
     },
     "execution_count": 264,
     "metadata": {},
     "output_type": "execute_result"
    }
   ],
   "source": [
    "sample = get_sample_of(CATS[1], random_state=1)\n",
    "classifier.classify_file(sample.filepath)"
   ]
  },
  {
   "cell_type": "code",
   "execution_count": 265,
   "id": "0ad288d9-2029-4196-b005-e9413f616e46",
   "metadata": {},
   "outputs": [
    {
     "name": "stdout",
     "output_type": "stream",
     "text": [
      "../data/experiments/v1/vac/g28_vac_1724429578031_chunk_9.wav vac\n"
     ]
    },
    {
     "data": {
      "text/html": [
       "\n",
       "                <audio  controls=\"controls\" autoplay=\"autoplay\">\n",
       "                    <source src=\"data:audio/x-wav;base64,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\" type=\"audio/x-wav\" />\n",
       "                    Your browser does not support the audio element.\n",
       "                </audio>\n",
       "              "
      ],
      "text/plain": [
       "<IPython.lib.display.Audio object>"
      ]
     },
     "execution_count": 265,
     "metadata": {},
     "output_type": "execute_result"
    }
   ],
   "source": [
    "play_sample(sample)"
   ]
  },
  {
   "cell_type": "markdown",
   "id": "348e937b-16c7-49f5-bc51-dbdeff6587ca",
   "metadata": {},
   "source": [
    "## Convert audio to tensors for training "
   ]
  },
  {
   "cell_type": "code",
   "execution_count": 266,
   "id": "2bb72294-59a9-47fb-bc4f-54fa3c2cff68",
   "metadata": {},
   "outputs": [],
   "source": [
    "import torchaudio\n",
    "import torch"
   ]
  },
  {
   "cell_type": "markdown",
   "id": "6d7f4ee2-4675-4298-be99-d78dde51cce2",
   "metadata": {},
   "source": [
    "different samples have different length tensor (longer or shorter time series) "
   ]
  },
  {
   "cell_type": "code",
   "execution_count": 267,
   "id": "f31493aa-1b54-4f13-a90c-936a7df76fe9",
   "metadata": {},
   "outputs": [
    {
     "data": {
      "text/plain": [
       "(torch.Size([1, 88200]), 44100)"
      ]
     },
     "execution_count": 267,
     "metadata": {},
     "output_type": "execute_result"
    }
   ],
   "source": [
    "sample = get_sample_of(CATS[0])\n",
    "tens, size = torchaudio.load(sample.filepath)\n",
    "tens.shape, size"
   ]
  },
  {
   "cell_type": "markdown",
   "id": "158356d3-c2b7-491f-a027-d693883c6e64",
   "metadata": {},
   "source": [
    "the classifier's `load_audio` function does some extra stuff like normalization, so let's use that \n"
   ]
  },
  {
   "cell_type": "code",
   "execution_count": 268,
   "id": "d83dfb9c-27d1-45bd-a1d5-0d846ac88505",
   "metadata": {},
   "outputs": [
    {
     "data": {
      "text/plain": [
       "torch.Size([32000])"
      ]
     },
     "execution_count": 268,
     "metadata": {},
     "output_type": "execute_result"
    }
   ],
   "source": [
    "tens = classifier.load_audio(sample.filepath)\n",
    "tens.shape"
   ]
  },
  {
   "cell_type": "code",
   "execution_count": 269,
   "id": "fbfdebe9-606e-4203-b98d-52fe04c3ddf7",
   "metadata": {},
   "outputs": [
    {
     "data": {
      "text/plain": [
       "torch.Size([1, 32000])"
      ]
     },
     "execution_count": 269,
     "metadata": {},
     "output_type": "execute_result"
    }
   ],
   "source": [
    "tens.unsqueeze(0).shape"
   ]
  },
  {
   "cell_type": "code",
   "execution_count": 270,
   "id": "db9a63fd-465f-4bc1-9e92-61acfec23d57",
   "metadata": {},
   "outputs": [
    {
     "data": {
      "text/plain": [
       "torch.Size([1, 1, 192])"
      ]
     },
     "execution_count": 270,
     "metadata": {},
     "output_type": "execute_result"
    }
   ],
   "source": [
    "rel_length =  torch.tensor([1.])\n",
    "enc = classifier.encode_batch(tens.unsqueeze(0), rel_length)\n",
    "enc.shape"
   ]
  },
  {
   "cell_type": "code",
   "execution_count": 271,
   "id": "a41a0ea9-01e5-45f7-a135-a3723e718490",
   "metadata": {},
   "outputs": [
    {
     "data": {
      "text/plain": [
       "tensor([[-0.2789, -0.1399,  0.3973, -0.4954, -0.0259, -0.1327,  0.2771,  0.4526,\n",
       "          0.2573, -0.1806]])"
      ]
     },
     "execution_count": 271,
     "metadata": {},
     "output_type": "execute_result"
    }
   ],
   "source": [
    "# probabilities of each class\n",
    "preds = classifier.mods.classifier(enc).squeeze(1); preds"
   ]
  },
  {
   "cell_type": "code",
   "execution_count": 272,
   "id": "de168ba5-2376-41c2-8f30-9a15341e47ba",
   "metadata": {},
   "outputs": [
    {
     "data": {
      "text/plain": [
       "torch.Size([1, 10])"
      ]
     },
     "execution_count": 272,
     "metadata": {},
     "output_type": "execute_result"
    }
   ],
   "source": [
    "# batch of preds, but just 1 in the batch \n",
    "preds.shape"
   ]
  },
  {
   "cell_type": "code",
   "execution_count": 273,
   "id": "90941511-53c3-4c9c-8ced-f72cb776d984",
   "metadata": {},
   "outputs": [
    {
     "data": {
      "text/plain": [
       "(tensor([[-0.2789, -0.1399,  0.3973, -0.4954, -0.0259, -0.1327,  0.2771,  0.4526,\n",
       "           0.2573, -0.1806]]),\n",
       " tensor([0.4526]),\n",
       " tensor([7]),\n",
       " ['jackhammer'])"
      ]
     },
     "execution_count": 273,
     "metadata": {},
     "output_type": "execute_result"
    }
   ],
   "source": [
    "# check that our work agrees with the full implementation \n",
    "classifier.classify_file(sample.filepath)"
   ]
  },
  {
   "cell_type": "markdown",
   "id": "ace62738-b25a-4a0e-b999-843f2dd2090b",
   "metadata": {},
   "source": [
    "## Create dataset "
   ]
  },
  {
   "cell_type": "code",
   "execution_count": 274,
   "id": "a747206e-986d-4de7-9b4f-4e145e70cd45",
   "metadata": {},
   "outputs": [],
   "source": [
    "from torch.utils.data import Dataset\n",
    "import torch.nn.functional as F"
   ]
  },
  {
   "cell_type": "code",
   "execution_count": 275,
   "id": "3bc48d3c-719b-4b5d-b851-7717aef3c47b",
   "metadata": {},
   "outputs": [
    {
     "data": {
      "text/plain": [
       "['air', 'vac', 'off']"
      ]
     },
     "execution_count": 275,
     "metadata": {},
     "output_type": "execute_result"
    }
   ],
   "source": [
    "CATS"
   ]
  },
  {
   "cell_type": "code",
   "execution_count": 276,
   "id": "c8ea7ebf-c071-4b6b-9bd3-d09f18e929ec",
   "metadata": {},
   "outputs": [
    {
     "data": {
      "text/html": [
       "<div>\n",
       "<style scoped>\n",
       "    .dataframe tbody tr th:only-of-type {\n",
       "        vertical-align: middle;\n",
       "    }\n",
       "\n",
       "    .dataframe tbody tr th {\n",
       "        vertical-align: top;\n",
       "    }\n",
       "\n",
       "    .dataframe thead th {\n",
       "        text-align: right;\n",
       "    }\n",
       "</style>\n",
       "<table border=\"1\" class=\"dataframe\">\n",
       "  <thead>\n",
       "    <tr style=\"text-align: right;\">\n",
       "      <th></th>\n",
       "      <th>filepath</th>\n",
       "      <th>label</th>\n",
       "      <th>duration</th>\n",
       "    </tr>\n",
       "  </thead>\n",
       "  <tbody>\n",
       "    <tr>\n",
       "      <th>631</th>\n",
       "      <td>../data/experiments/v1/off/g28_huawei_off_1726...</td>\n",
       "      <td>off</td>\n",
       "      <td>2.0</td>\n",
       "    </tr>\n",
       "    <tr>\n",
       "      <th>13</th>\n",
       "      <td>../data/experiments/v1/air/g28_huawei_air_1726...</td>\n",
       "      <td>air</td>\n",
       "      <td>2.0</td>\n",
       "    </tr>\n",
       "    <tr>\n",
       "      <th>525</th>\n",
       "      <td>../data/experiments/v1/off/g28_huawei_off_1726...</td>\n",
       "      <td>off</td>\n",
       "      <td>2.0</td>\n",
       "    </tr>\n",
       "  </tbody>\n",
       "</table>\n",
       "</div>"
      ],
      "text/plain": [
       "                                              filepath label  duration\n",
       "631  ../data/experiments/v1/off/g28_huawei_off_1726...   off       2.0\n",
       "13   ../data/experiments/v1/air/g28_huawei_air_1726...   air       2.0\n",
       "525  ../data/experiments/v1/off/g28_huawei_off_1726...   off       2.0"
      ]
     },
     "execution_count": 276,
     "metadata": {},
     "output_type": "execute_result"
    }
   ],
   "source": [
    "train.head(3)"
   ]
  },
  {
   "cell_type": "code",
   "execution_count": 277,
   "id": "29c8ab2d-c633-4d20-b53a-8a649f7258c6",
   "metadata": {},
   "outputs": [
    {
     "data": {
      "text/html": [
       "<div>\n",
       "<style scoped>\n",
       "    .dataframe tbody tr th:only-of-type {\n",
       "        vertical-align: middle;\n",
       "    }\n",
       "\n",
       "    .dataframe tbody tr th {\n",
       "        vertical-align: top;\n",
       "    }\n",
       "\n",
       "    .dataframe thead th {\n",
       "        text-align: right;\n",
       "    }\n",
       "</style>\n",
       "<table border=\"1\" class=\"dataframe\">\n",
       "  <thead>\n",
       "    <tr style=\"text-align: right;\">\n",
       "      <th></th>\n",
       "      <th>filepath</th>\n",
       "      <th>label</th>\n",
       "      <th>duration</th>\n",
       "    </tr>\n",
       "  </thead>\n",
       "  <tbody>\n",
       "    <tr>\n",
       "      <th>526</th>\n",
       "      <td>../data/experiments/v1/off/g28_huawei_off_1725...</td>\n",
       "      <td>off</td>\n",
       "      <td>2.0</td>\n",
       "    </tr>\n",
       "    <tr>\n",
       "      <th>284</th>\n",
       "      <td>../data/experiments/v1/vac/g28_huawei_vac_1726...</td>\n",
       "      <td>vac</td>\n",
       "      <td>2.0</td>\n",
       "    </tr>\n",
       "    <tr>\n",
       "      <th>592</th>\n",
       "      <td>../data/experiments/v1/off/g28_off_test_mon_17...</td>\n",
       "      <td>off</td>\n",
       "      <td>2.0</td>\n",
       "    </tr>\n",
       "  </tbody>\n",
       "</table>\n",
       "</div>"
      ],
      "text/plain": [
       "                                              filepath label  duration\n",
       "526  ../data/experiments/v1/off/g28_huawei_off_1725...   off       2.0\n",
       "284  ../data/experiments/v1/vac/g28_huawei_vac_1726...   vac       2.0\n",
       "592  ../data/experiments/v1/off/g28_off_test_mon_17...   off       2.0"
      ]
     },
     "execution_count": 277,
     "metadata": {},
     "output_type": "execute_result"
    }
   ],
   "source": [
    "val.head(3)"
   ]
  },
  {
   "cell_type": "code",
   "execution_count": 284,
   "id": "8d2e20f5-d386-4370-9a8b-16d1ba8cbcd0",
   "metadata": {},
   "outputs": [],
   "source": [
    "from functools import cache\n",
    "\n",
    "class ApplianceDS(Dataset):\n",
    "    def __init__(self, X, y):\n",
    "        self.X = X\n",
    "        self.y = y \n",
    "    def __len__(self): return len(self.y)\n",
    "    \n",
    "    @cache\n",
    "    def __getitem__(self, i):\n",
    "        y = torch.zeros(3)\n",
    "        y[CATS.index(self.y[i])] = 1.\n",
    "        return self.X[i], y"
   ]
  },
  {
   "cell_type": "code",
   "execution_count": 285,
   "id": "c1ed94bc-abf6-4048-81f5-cd521f512be9",
   "metadata": {},
   "outputs": [
    {
     "data": {
      "text/plain": [
       "(torch.Size([538, 32000]), torch.Size([96, 32000]))"
      ]
     },
     "execution_count": 285,
     "metadata": {},
     "output_type": "execute_result"
    }
   ],
   "source": [
    "Xtrain = torch.stack([classifier.load_audio(fp) for fp in train.filepath])\n",
    "Xval = torch.stack([classifier.load_audio(fp) for fp in val.filepath])\n",
    "ytrain = list(train.label)\n",
    "yval = list(val.label)\n",
    "Xtrain.shape, Xval.shape"
   ]
  },
  {
   "cell_type": "code",
   "execution_count": 286,
   "id": "ec66f0ba-8b7b-49ad-8d45-080ff254c749",
   "metadata": {},
   "outputs": [],
   "source": [
    "train_ds = ApplianceDS(Xtrain, ytrain)\n",
    "val_ds = ApplianceDS(Xval, yval)"
   ]
  },
  {
   "cell_type": "code",
   "execution_count": 287,
   "id": "7bed9fe4-1855-4cd6-9932-ffb474d144e8",
   "metadata": {},
   "outputs": [],
   "source": [
    "train_dl = torch.utils.data.DataLoader(train_ds, batch_size=8, shuffle=True)\n",
    "# we don't need batches for the validation set so just put into a big batch \n",
    "val_dl = torch.utils.data.DataLoader(val_ds, batch_size=len(val_ds), shuffle=True)"
   ]
  },
  {
   "cell_type": "code",
   "execution_count": 288,
   "id": "a56a718c-6710-4e09-be35-66cc8c12c7de",
   "metadata": {},
   "outputs": [],
   "source": [
    "Xval, yval = next(iter(val_dl))"
   ]
  },
  {
   "cell_type": "code",
   "execution_count": 289,
   "id": "77ed8410-e4bf-445b-a85a-ffaa578b0183",
   "metadata": {},
   "outputs": [
    {
     "data": {
      "text/plain": [
       "(torch.Size([96, 32000]), torch.Size([96, 3]))"
      ]
     },
     "execution_count": 289,
     "metadata": {},
     "output_type": "execute_result"
    }
   ],
   "source": [
    "Xval.shape, yval.shape"
   ]
  },
  {
   "cell_type": "code",
   "execution_count": 290,
   "id": "6ff25623-4ad5-4ce5-a3c0-c837352a430e",
   "metadata": {},
   "outputs": [],
   "source": [
    "def reset_weights():\n",
    "    classifier.mods.classifier.weight = torch.nn.Parameter(torch.FloatTensor(3, 192))\n",
    "    torch.nn.init.xavier_uniform_(classifier.mods.classifier.weight)\n",
    "reset_weights()"
   ]
  },
  {
   "cell_type": "code",
   "execution_count": 291,
   "id": "a310d9f7-d007-41f1-a717-18abab7dec56",
   "metadata": {},
   "outputs": [
    {
     "name": "stdout",
     "output_type": "stream",
     "text": [
      "True\n"
     ]
    }
   ],
   "source": [
    "for param in classifier.mods.classifier.parameters():\n",
    "    print(param.requires_grad)"
   ]
  },
  {
   "cell_type": "code",
   "execution_count": 292,
   "id": "0a2cf1ee-167b-4824-87a6-4cd4e1bec357",
   "metadata": {},
   "outputs": [
    {
     "data": {
      "text/plain": [
       "Fbank(\n",
       "  (compute_STFT): STFT()\n",
       "  (compute_fbanks): Filterbank()\n",
       "  (compute_deltas): Deltas()\n",
       "  (context_window): ContextWindow()\n",
       ")"
      ]
     },
     "execution_count": 292,
     "metadata": {},
     "output_type": "execute_result"
    }
   ],
   "source": [
    "classifier.mods.compute_features"
   ]
  },
  {
   "cell_type": "code",
   "execution_count": 293,
   "id": "6dac0339-f586-4f66-925d-540af1ed5b13",
   "metadata": {},
   "outputs": [
    {
     "name": "stdout",
     "output_type": "stream",
     "text": [
      "compute_features\n",
      "mean_var_norm\n",
      "embedding_model\n",
      "embedding_model False\n",
      "classifier\n",
      "classifier True\n"
     ]
    }
   ],
   "source": [
    "for mod in classifier.mods:\n",
    "    print(mod)\n",
    "    for p in classifier.mods.__getattr__(mod).parameters():\n",
    "        print(mod, p.requires_grad)\n",
    "        break"
   ]
  },
  {
   "cell_type": "code",
   "execution_count": 294,
   "id": "6a96b8de-0ed2-4088-8f92-669771ea7d6d",
   "metadata": {},
   "outputs": [],
   "source": [
    "loss_fn = torch.nn.CrossEntropyLoss()"
   ]
  },
  {
   "cell_type": "code",
   "execution_count": 295,
   "id": "7e6f500f-6d2a-41da-8e76-bca22eb9a408",
   "metadata": {
    "scrolled": true
   },
   "outputs": [
    {
     "name": "stderr",
     "output_type": "stream",
     "text": [
      "  1%|▉                                                                                            | 1/100 [00:47<1:18:09, 47.37s/it]"
     ]
    },
    {
     "name": "stdout",
     "output_type": "stream",
     "text": [
      "Epoch 0: Train Loss: 1.0797, Validation Loss: 1.0608\n"
     ]
    },
    {
     "name": "stderr",
     "output_type": "stream",
     "text": [
      "  2%|█▊                                                                                           | 2/100 [01:33<1:15:44, 46.37s/it]"
     ]
    },
    {
     "name": "stdout",
     "output_type": "stream",
     "text": [
      "Epoch 1: Train Loss: 1.0528, Validation Loss: 1.0359\n"
     ]
    },
    {
     "name": "stderr",
     "output_type": "stream",
     "text": [
      "  3%|██▊                                                                                          | 3/100 [02:18<1:13:57, 45.75s/it]"
     ]
    },
    {
     "name": "stdout",
     "output_type": "stream",
     "text": [
      "Epoch 2: Train Loss: 1.0326, Validation Loss: 1.0170\n"
     ]
    },
    {
     "name": "stderr",
     "output_type": "stream",
     "text": [
      "  4%|███▋                                                                                         | 4/100 [03:03<1:12:43, 45.45s/it]"
     ]
    },
    {
     "name": "stdout",
     "output_type": "stream",
     "text": [
      "Epoch 3: Train Loss: 1.0190, Validation Loss: 1.0028\n"
     ]
    },
    {
     "name": "stderr",
     "output_type": "stream",
     "text": [
      "  5%|████▋                                                                                        | 5/100 [03:47<1:11:40, 45.27s/it]"
     ]
    },
    {
     "name": "stdout",
     "output_type": "stream",
     "text": [
      "Epoch 4: Train Loss: 1.0083, Validation Loss: 0.9926\n"
     ]
    },
    {
     "name": "stderr",
     "output_type": "stream",
     "text": [
      "  6%|█████▌                                                                                       | 6/100 [04:29<1:08:55, 43.99s/it]"
     ]
    },
    {
     "name": "stdout",
     "output_type": "stream",
     "text": [
      "Epoch 5: Train Loss: 0.9998, Validation Loss: 0.9853\n"
     ]
    },
    {
     "name": "stderr",
     "output_type": "stream",
     "text": [
      "  7%|██████▌                                                                                      | 7/100 [05:08<1:05:29, 42.25s/it]"
     ]
    },
    {
     "name": "stdout",
     "output_type": "stream",
     "text": [
      "Epoch 6: Train Loss: 0.9945, Validation Loss: 0.9789\n"
     ]
    },
    {
     "name": "stderr",
     "output_type": "stream",
     "text": [
      "  8%|███████▍                                                                                     | 8/100 [05:46<1:02:55, 41.04s/it]"
     ]
    },
    {
     "name": "stdout",
     "output_type": "stream",
     "text": [
      "Epoch 7: Train Loss: 0.9912, Validation Loss: 0.9755\n"
     ]
    },
    {
     "name": "stderr",
     "output_type": "stream",
     "text": [
      "  9%|████████▎                                                                                    | 9/100 [06:25<1:01:00, 40.23s/it]"
     ]
    },
    {
     "name": "stdout",
     "output_type": "stream",
     "text": [
      "Epoch 8: Train Loss: 0.9873, Validation Loss: 0.9726\n"
     ]
    },
    {
     "name": "stderr",
     "output_type": "stream",
     "text": [
      " 10%|█████████▍                                                                                    | 10/100 [07:03<59:28, 39.65s/it]"
     ]
    },
    {
     "name": "stdout",
     "output_type": "stream",
     "text": [
      "Epoch 9: Train Loss: 0.9847, Validation Loss: 0.9704\n"
     ]
    },
    {
     "name": "stderr",
     "output_type": "stream",
     "text": [
      " 11%|██████████▎                                                                                   | 11/100 [07:41<58:08, 39.20s/it]"
     ]
    },
    {
     "name": "stdout",
     "output_type": "stream",
     "text": [
      "Epoch 10: Train Loss: 0.9825, Validation Loss: 0.9684\n"
     ]
    },
    {
     "name": "stderr",
     "output_type": "stream",
     "text": [
      " 12%|███████████▎                                                                                  | 12/100 [08:19<57:06, 38.93s/it]"
     ]
    },
    {
     "name": "stdout",
     "output_type": "stream",
     "text": [
      "Epoch 11: Train Loss: 0.9797, Validation Loss: 0.9670\n"
     ]
    },
    {
     "name": "stderr",
     "output_type": "stream",
     "text": [
      " 13%|████████████▏                                                                                 | 13/100 [08:58<56:13, 38.78s/it]"
     ]
    },
    {
     "name": "stdout",
     "output_type": "stream",
     "text": [
      "Epoch 12: Train Loss: 0.9794, Validation Loss: 0.9660\n"
     ]
    },
    {
     "name": "stderr",
     "output_type": "stream",
     "text": [
      " 14%|█████████████▏                                                                                | 14/100 [09:36<55:24, 38.65s/it]"
     ]
    },
    {
     "name": "stdout",
     "output_type": "stream",
     "text": [
      "Epoch 13: Train Loss: 0.9775, Validation Loss: 0.9649\n"
     ]
    },
    {
     "name": "stderr",
     "output_type": "stream",
     "text": [
      " 15%|██████████████                                                                                | 15/100 [10:15<54:41, 38.60s/it]"
     ]
    },
    {
     "name": "stdout",
     "output_type": "stream",
     "text": [
      "Epoch 14: Train Loss: 0.9773, Validation Loss: 0.9644\n"
     ]
    },
    {
     "name": "stderr",
     "output_type": "stream",
     "text": [
      " 16%|███████████████                                                                               | 16/100 [10:53<53:53, 38.50s/it]"
     ]
    },
    {
     "name": "stdout",
     "output_type": "stream",
     "text": [
      "Epoch 15: Train Loss: 0.9772, Validation Loss: 0.9637\n"
     ]
    },
    {
     "name": "stderr",
     "output_type": "stream",
     "text": [
      " 17%|███████████████▉                                                                              | 17/100 [11:31<53:11, 38.46s/it]"
     ]
    },
    {
     "name": "stdout",
     "output_type": "stream",
     "text": [
      "Epoch 16: Train Loss: 0.9756, Validation Loss: 0.9634\n"
     ]
    },
    {
     "name": "stderr",
     "output_type": "stream",
     "text": [
      " 18%|████████████████▉                                                                             | 18/100 [12:10<52:30, 38.43s/it]"
     ]
    },
    {
     "name": "stdout",
     "output_type": "stream",
     "text": [
      "Epoch 17: Train Loss: 0.9770, Validation Loss: 0.9625\n"
     ]
    },
    {
     "name": "stderr",
     "output_type": "stream",
     "text": [
      " 19%|█████████████████▊                                                                            | 19/100 [12:48<51:49, 38.38s/it]"
     ]
    },
    {
     "name": "stdout",
     "output_type": "stream",
     "text": [
      "Epoch 18: Train Loss: 0.9749, Validation Loss: 0.9623\n"
     ]
    },
    {
     "name": "stderr",
     "output_type": "stream",
     "text": [
      " 20%|██████████████████▊                                                                           | 20/100 [13:26<51:10, 38.38s/it]"
     ]
    },
    {
     "name": "stdout",
     "output_type": "stream",
     "text": [
      "Epoch 19: Train Loss: 0.9759, Validation Loss: 0.9623\n"
     ]
    },
    {
     "name": "stderr",
     "output_type": "stream",
     "text": [
      " 21%|███████████████████▋                                                                          | 21/100 [14:05<50:31, 38.38s/it]"
     ]
    },
    {
     "name": "stdout",
     "output_type": "stream",
     "text": [
      "Epoch 20: Train Loss: 0.9736, Validation Loss: 0.9620\n"
     ]
    },
    {
     "name": "stderr",
     "output_type": "stream",
     "text": [
      " 22%|████████████████████▋                                                                         | 22/100 [14:43<49:58, 38.45s/it]"
     ]
    },
    {
     "name": "stdout",
     "output_type": "stream",
     "text": [
      "Epoch 21: Train Loss: 0.9753, Validation Loss: 0.9626\n"
     ]
    },
    {
     "name": "stderr",
     "output_type": "stream",
     "text": [
      " 23%|█████████████████████▌                                                                        | 23/100 [15:22<49:22, 38.48s/it]"
     ]
    },
    {
     "name": "stdout",
     "output_type": "stream",
     "text": [
      "Epoch 22: Train Loss: 0.9771, Validation Loss: 0.9624\n"
     ]
    },
    {
     "name": "stderr",
     "output_type": "stream",
     "text": [
      " 24%|██████████████████████▌                                                                       | 24/100 [16:00<48:40, 38.43s/it]"
     ]
    },
    {
     "name": "stdout",
     "output_type": "stream",
     "text": [
      "Epoch 23: Train Loss: 0.9770, Validation Loss: 0.9617\n"
     ]
    },
    {
     "name": "stderr",
     "output_type": "stream",
     "text": [
      " 25%|███████████████████████▌                                                                      | 25/100 [16:39<48:01, 38.42s/it]"
     ]
    },
    {
     "name": "stdout",
     "output_type": "stream",
     "text": [
      "Epoch 24: Train Loss: 0.9752, Validation Loss: 0.9618\n"
     ]
    },
    {
     "name": "stderr",
     "output_type": "stream",
     "text": [
      " 26%|████████████████████████▍                                                                     | 26/100 [17:17<47:22, 38.41s/it]"
     ]
    },
    {
     "name": "stdout",
     "output_type": "stream",
     "text": [
      "Epoch 25: Train Loss: 0.9751, Validation Loss: 0.9619\n"
     ]
    },
    {
     "name": "stderr",
     "output_type": "stream",
     "text": [
      " 27%|█████████████████████████▍                                                                    | 27/100 [17:55<46:43, 38.41s/it]"
     ]
    },
    {
     "name": "stdout",
     "output_type": "stream",
     "text": [
      "Epoch 26: Train Loss: 0.9741, Validation Loss: 0.9621\n"
     ]
    },
    {
     "name": "stderr",
     "output_type": "stream",
     "text": [
      " 28%|██████████████████████████▎                                                                   | 28/100 [18:33<45:58, 38.31s/it]"
     ]
    },
    {
     "name": "stdout",
     "output_type": "stream",
     "text": [
      "Epoch 27: Train Loss: 0.9727, Validation Loss: 0.9614\n"
     ]
    },
    {
     "name": "stderr",
     "output_type": "stream",
     "text": [
      " 29%|███████████████████████████▎                                                                  | 29/100 [19:12<45:25, 38.39s/it]"
     ]
    },
    {
     "name": "stdout",
     "output_type": "stream",
     "text": [
      "Epoch 28: Train Loss: 0.9756, Validation Loss: 0.9615\n"
     ]
    },
    {
     "name": "stderr",
     "output_type": "stream",
     "text": [
      " 30%|████████████████████████████▏                                                                 | 30/100 [19:50<44:44, 38.35s/it]"
     ]
    },
    {
     "name": "stdout",
     "output_type": "stream",
     "text": [
      "Epoch 29: Train Loss: 0.9753, Validation Loss: 0.9614\n"
     ]
    },
    {
     "name": "stderr",
     "output_type": "stream",
     "text": [
      " 31%|█████████████████████████████▏                                                                | 31/100 [20:29<44:05, 38.35s/it]"
     ]
    },
    {
     "name": "stdout",
     "output_type": "stream",
     "text": [
      "Epoch 30: Train Loss: 0.9770, Validation Loss: 0.9614\n"
     ]
    },
    {
     "name": "stderr",
     "output_type": "stream",
     "text": [
      " 32%|██████████████████████████████                                                                | 32/100 [21:07<43:31, 38.41s/it]"
     ]
    },
    {
     "name": "stdout",
     "output_type": "stream",
     "text": [
      "Epoch 31: Train Loss: 0.9735, Validation Loss: 0.9617\n"
     ]
    },
    {
     "name": "stderr",
     "output_type": "stream",
     "text": [
      " 33%|███████████████████████████████                                                               | 33/100 [21:45<42:48, 38.33s/it]"
     ]
    },
    {
     "name": "stdout",
     "output_type": "stream",
     "text": [
      "Epoch 32: Train Loss: 0.9726, Validation Loss: 0.9616\n"
     ]
    },
    {
     "name": "stderr",
     "output_type": "stream",
     "text": [
      " 34%|███████████████████████████████▉                                                              | 34/100 [22:24<42:13, 38.38s/it]"
     ]
    },
    {
     "name": "stdout",
     "output_type": "stream",
     "text": [
      "Epoch 33: Train Loss: 0.9737, Validation Loss: 0.9621\n"
     ]
    },
    {
     "name": "stderr",
     "output_type": "stream",
     "text": [
      " 35%|████████████████████████████████▉                                                             | 35/100 [23:02<41:36, 38.41s/it]"
     ]
    },
    {
     "name": "stdout",
     "output_type": "stream",
     "text": [
      "Epoch 34: Train Loss: 0.9739, Validation Loss: 0.9617\n"
     ]
    },
    {
     "name": "stderr",
     "output_type": "stream",
     "text": [
      " 36%|█████████████████████████████████▊                                                            | 36/100 [23:40<40:53, 38.33s/it]"
     ]
    },
    {
     "name": "stdout",
     "output_type": "stream",
     "text": [
      "Epoch 35: Train Loss: 0.9751, Validation Loss: 0.9613\n"
     ]
    },
    {
     "name": "stderr",
     "output_type": "stream",
     "text": [
      " 37%|██████████████████████████████████▊                                                           | 37/100 [24:19<40:18, 38.39s/it]"
     ]
    },
    {
     "name": "stdout",
     "output_type": "stream",
     "text": [
      "Epoch 36: Train Loss: 0.9766, Validation Loss: 0.9614\n"
     ]
    },
    {
     "name": "stderr",
     "output_type": "stream",
     "text": [
      " 38%|███████████████████████████████████▋                                                          | 38/100 [24:57<39:35, 38.31s/it]"
     ]
    },
    {
     "name": "stdout",
     "output_type": "stream",
     "text": [
      "Epoch 37: Train Loss: 0.9739, Validation Loss: 0.9612\n"
     ]
    },
    {
     "name": "stderr",
     "output_type": "stream",
     "text": [
      " 39%|████████████████████████████████████▋                                                         | 39/100 [25:35<38:58, 38.34s/it]"
     ]
    },
    {
     "name": "stdout",
     "output_type": "stream",
     "text": [
      "Epoch 38: Train Loss: 0.9735, Validation Loss: 0.9611\n"
     ]
    },
    {
     "name": "stderr",
     "output_type": "stream",
     "text": [
      " 40%|█████████████████████████████████████▌                                                        | 40/100 [26:14<38:19, 38.32s/it]"
     ]
    },
    {
     "name": "stdout",
     "output_type": "stream",
     "text": [
      "Epoch 39: Train Loss: 0.9724, Validation Loss: 0.9615\n"
     ]
    },
    {
     "name": "stderr",
     "output_type": "stream",
     "text": [
      " 41%|██████████████████████████████████████▌                                                       | 41/100 [26:52<37:41, 38.33s/it]"
     ]
    },
    {
     "name": "stdout",
     "output_type": "stream",
     "text": [
      "Epoch 40: Train Loss: 0.9751, Validation Loss: 0.9617\n"
     ]
    },
    {
     "name": "stderr",
     "output_type": "stream",
     "text": [
      " 42%|███████████████████████████████████████▍                                                      | 42/100 [27:31<37:17, 38.57s/it]"
     ]
    },
    {
     "name": "stdout",
     "output_type": "stream",
     "text": [
      "Epoch 41: Train Loss: 0.9722, Validation Loss: 0.9617\n"
     ]
    },
    {
     "name": "stderr",
     "output_type": "stream",
     "text": [
      " 42%|███████████████████████████████████████▍                                                      | 42/100 [27:46<38:20, 39.67s/it]\n"
     ]
    },
    {
     "ename": "KeyboardInterrupt",
     "evalue": "",
     "output_type": "error",
     "traceback": [
      "\u001b[0;31m---------------------------------------------------------------------------\u001b[0m",
      "\u001b[0;31mKeyboardInterrupt\u001b[0m                         Traceback (most recent call last)",
      "Cell \u001b[0;32mIn[295], line 16\u001b[0m\n\u001b[1;32m     13\u001b[0m     losses\u001b[38;5;241m.\u001b[39mappend(loss\u001b[38;5;241m.\u001b[39mitem())\n\u001b[1;32m     14\u001b[0m train_loss\u001b[38;5;241m.\u001b[39mappend(np\u001b[38;5;241m.\u001b[39mmean(losses))\n\u001b[0;32m---> 16\u001b[0m val_preds, \u001b[38;5;241m*\u001b[39m_ \u001b[38;5;241m=\u001b[39m \u001b[43mclassifier\u001b[49m\u001b[43m(\u001b[49m\u001b[43mXval\u001b[49m\u001b[43m)\u001b[49m    \n\u001b[1;32m     17\u001b[0m val_loss_ \u001b[38;5;241m=\u001b[39m loss_fn(val_preds, yval)\n\u001b[1;32m     18\u001b[0m val_loss\u001b[38;5;241m.\u001b[39mappend(val_loss_\u001b[38;5;241m.\u001b[39mitem())\n",
      "File \u001b[0;32m~/.local/lib/python3.11/site-packages/torch/nn/modules/module.py:1518\u001b[0m, in \u001b[0;36mModule._wrapped_call_impl\u001b[0;34m(self, *args, **kwargs)\u001b[0m\n\u001b[1;32m   1516\u001b[0m     \u001b[38;5;28;01mreturn\u001b[39;00m \u001b[38;5;28mself\u001b[39m\u001b[38;5;241m.\u001b[39m_compiled_call_impl(\u001b[38;5;241m*\u001b[39margs, \u001b[38;5;241m*\u001b[39m\u001b[38;5;241m*\u001b[39mkwargs)  \u001b[38;5;66;03m# type: ignore[misc]\u001b[39;00m\n\u001b[1;32m   1517\u001b[0m \u001b[38;5;28;01melse\u001b[39;00m:\n\u001b[0;32m-> 1518\u001b[0m     \u001b[38;5;28;01mreturn\u001b[39;00m \u001b[38;5;28;43mself\u001b[39;49m\u001b[38;5;241;43m.\u001b[39;49m\u001b[43m_call_impl\u001b[49m\u001b[43m(\u001b[49m\u001b[38;5;241;43m*\u001b[39;49m\u001b[43margs\u001b[49m\u001b[43m,\u001b[49m\u001b[43m \u001b[49m\u001b[38;5;241;43m*\u001b[39;49m\u001b[38;5;241;43m*\u001b[39;49m\u001b[43mkwargs\u001b[49m\u001b[43m)\u001b[49m\n",
      "File \u001b[0;32m~/.local/lib/python3.11/site-packages/torch/nn/modules/module.py:1527\u001b[0m, in \u001b[0;36mModule._call_impl\u001b[0;34m(self, *args, **kwargs)\u001b[0m\n\u001b[1;32m   1522\u001b[0m \u001b[38;5;66;03m# If we don't have any hooks, we want to skip the rest of the logic in\u001b[39;00m\n\u001b[1;32m   1523\u001b[0m \u001b[38;5;66;03m# this function, and just call forward.\u001b[39;00m\n\u001b[1;32m   1524\u001b[0m \u001b[38;5;28;01mif\u001b[39;00m \u001b[38;5;129;01mnot\u001b[39;00m (\u001b[38;5;28mself\u001b[39m\u001b[38;5;241m.\u001b[39m_backward_hooks \u001b[38;5;129;01mor\u001b[39;00m \u001b[38;5;28mself\u001b[39m\u001b[38;5;241m.\u001b[39m_backward_pre_hooks \u001b[38;5;129;01mor\u001b[39;00m \u001b[38;5;28mself\u001b[39m\u001b[38;5;241m.\u001b[39m_forward_hooks \u001b[38;5;129;01mor\u001b[39;00m \u001b[38;5;28mself\u001b[39m\u001b[38;5;241m.\u001b[39m_forward_pre_hooks\n\u001b[1;32m   1525\u001b[0m         \u001b[38;5;129;01mor\u001b[39;00m _global_backward_pre_hooks \u001b[38;5;129;01mor\u001b[39;00m _global_backward_hooks\n\u001b[1;32m   1526\u001b[0m         \u001b[38;5;129;01mor\u001b[39;00m _global_forward_hooks \u001b[38;5;129;01mor\u001b[39;00m _global_forward_pre_hooks):\n\u001b[0;32m-> 1527\u001b[0m     \u001b[38;5;28;01mreturn\u001b[39;00m \u001b[43mforward_call\u001b[49m\u001b[43m(\u001b[49m\u001b[38;5;241;43m*\u001b[39;49m\u001b[43margs\u001b[49m\u001b[43m,\u001b[49m\u001b[43m \u001b[49m\u001b[38;5;241;43m*\u001b[39;49m\u001b[38;5;241;43m*\u001b[39;49m\u001b[43mkwargs\u001b[49m\u001b[43m)\u001b[49m\n\u001b[1;32m   1529\u001b[0m \u001b[38;5;28;01mtry\u001b[39;00m:\n\u001b[1;32m   1530\u001b[0m     result \u001b[38;5;241m=\u001b[39m \u001b[38;5;28;01mNone\u001b[39;00m\n",
      "File \u001b[0;32m~/.local/lib/python3.11/site-packages/speechbrain/inference/classifiers.py:184\u001b[0m, in \u001b[0;36mEncoderClassifier.forward\u001b[0;34m(self, wavs, wav_lens)\u001b[0m\n\u001b[1;32m    182\u001b[0m \u001b[38;5;28;01mdef\u001b[39;00m \u001b[38;5;21mforward\u001b[39m(\u001b[38;5;28mself\u001b[39m, wavs, wav_lens\u001b[38;5;241m=\u001b[39m\u001b[38;5;28;01mNone\u001b[39;00m):\n\u001b[1;32m    183\u001b[0m \u001b[38;5;250m    \u001b[39m\u001b[38;5;124;03m\"\"\"Runs the classification\"\"\"\u001b[39;00m\n\u001b[0;32m--> 184\u001b[0m     \u001b[38;5;28;01mreturn\u001b[39;00m \u001b[38;5;28;43mself\u001b[39;49m\u001b[38;5;241;43m.\u001b[39;49m\u001b[43mclassify_batch\u001b[49m\u001b[43m(\u001b[49m\u001b[43mwavs\u001b[49m\u001b[43m,\u001b[49m\u001b[43m \u001b[49m\u001b[43mwav_lens\u001b[49m\u001b[43m)\u001b[49m\n",
      "File \u001b[0;32m~/.local/lib/python3.11/site-packages/speechbrain/inference/classifiers.py:146\u001b[0m, in \u001b[0;36mEncoderClassifier.classify_batch\u001b[0;34m(self, wavs, wav_lens)\u001b[0m\n\u001b[1;32m    117\u001b[0m \u001b[38;5;28;01mdef\u001b[39;00m \u001b[38;5;21mclassify_batch\u001b[39m(\u001b[38;5;28mself\u001b[39m, wavs, wav_lens\u001b[38;5;241m=\u001b[39m\u001b[38;5;28;01mNone\u001b[39;00m):\n\u001b[1;32m    118\u001b[0m \u001b[38;5;250m    \u001b[39m\u001b[38;5;124;03m\"\"\"Performs classification on the top of the encoded features.\u001b[39;00m\n\u001b[1;32m    119\u001b[0m \n\u001b[1;32m    120\u001b[0m \u001b[38;5;124;03m    It returns the posterior probabilities, the index and, if the label\u001b[39;00m\n\u001b[0;32m   (...)\u001b[0m\n\u001b[1;32m    144\u001b[0m \u001b[38;5;124;03m        (label encoder should be provided).\u001b[39;00m\n\u001b[1;32m    145\u001b[0m \u001b[38;5;124;03m    \"\"\"\u001b[39;00m\n\u001b[0;32m--> 146\u001b[0m     emb \u001b[38;5;241m=\u001b[39m \u001b[38;5;28;43mself\u001b[39;49m\u001b[38;5;241;43m.\u001b[39;49m\u001b[43mencode_batch\u001b[49m\u001b[43m(\u001b[49m\u001b[43mwavs\u001b[49m\u001b[43m,\u001b[49m\u001b[43m \u001b[49m\u001b[43mwav_lens\u001b[49m\u001b[43m)\u001b[49m\n\u001b[1;32m    147\u001b[0m     out_prob \u001b[38;5;241m=\u001b[39m \u001b[38;5;28mself\u001b[39m\u001b[38;5;241m.\u001b[39mmods\u001b[38;5;241m.\u001b[39mclassifier(emb)\u001b[38;5;241m.\u001b[39msqueeze(\u001b[38;5;241m1\u001b[39m)\n\u001b[1;32m    148\u001b[0m     score, index \u001b[38;5;241m=\u001b[39m torch\u001b[38;5;241m.\u001b[39mmax(out_prob, dim\u001b[38;5;241m=\u001b[39m\u001b[38;5;241m-\u001b[39m\u001b[38;5;241m1\u001b[39m)\n",
      "File \u001b[0;32m~/.local/lib/python3.11/site-packages/speechbrain/inference/classifiers.py:110\u001b[0m, in \u001b[0;36mEncoderClassifier.encode_batch\u001b[0;34m(self, wavs, wav_lens, normalize)\u001b[0m\n\u001b[1;32m    108\u001b[0m feats \u001b[38;5;241m=\u001b[39m \u001b[38;5;28mself\u001b[39m\u001b[38;5;241m.\u001b[39mmods\u001b[38;5;241m.\u001b[39mcompute_features(wavs)\n\u001b[1;32m    109\u001b[0m feats \u001b[38;5;241m=\u001b[39m \u001b[38;5;28mself\u001b[39m\u001b[38;5;241m.\u001b[39mmods\u001b[38;5;241m.\u001b[39mmean_var_norm(feats, wav_lens)\n\u001b[0;32m--> 110\u001b[0m embeddings \u001b[38;5;241m=\u001b[39m \u001b[38;5;28;43mself\u001b[39;49m\u001b[38;5;241;43m.\u001b[39;49m\u001b[43mmods\u001b[49m\u001b[38;5;241;43m.\u001b[39;49m\u001b[43membedding_model\u001b[49m\u001b[43m(\u001b[49m\u001b[43mfeats\u001b[49m\u001b[43m,\u001b[49m\u001b[43m \u001b[49m\u001b[43mwav_lens\u001b[49m\u001b[43m)\u001b[49m\n\u001b[1;32m    111\u001b[0m \u001b[38;5;28;01mif\u001b[39;00m normalize:\n\u001b[1;32m    112\u001b[0m     embeddings \u001b[38;5;241m=\u001b[39m \u001b[38;5;28mself\u001b[39m\u001b[38;5;241m.\u001b[39mhparams\u001b[38;5;241m.\u001b[39mmean_var_norm_emb(\n\u001b[1;32m    113\u001b[0m         embeddings, torch\u001b[38;5;241m.\u001b[39mones(embeddings\u001b[38;5;241m.\u001b[39mshape[\u001b[38;5;241m0\u001b[39m], device\u001b[38;5;241m=\u001b[39m\u001b[38;5;28mself\u001b[39m\u001b[38;5;241m.\u001b[39mdevice)\n\u001b[1;32m    114\u001b[0m     )\n",
      "File \u001b[0;32m~/.local/lib/python3.11/site-packages/torch/nn/modules/module.py:1518\u001b[0m, in \u001b[0;36mModule._wrapped_call_impl\u001b[0;34m(self, *args, **kwargs)\u001b[0m\n\u001b[1;32m   1516\u001b[0m     \u001b[38;5;28;01mreturn\u001b[39;00m \u001b[38;5;28mself\u001b[39m\u001b[38;5;241m.\u001b[39m_compiled_call_impl(\u001b[38;5;241m*\u001b[39margs, \u001b[38;5;241m*\u001b[39m\u001b[38;5;241m*\u001b[39mkwargs)  \u001b[38;5;66;03m# type: ignore[misc]\u001b[39;00m\n\u001b[1;32m   1517\u001b[0m \u001b[38;5;28;01melse\u001b[39;00m:\n\u001b[0;32m-> 1518\u001b[0m     \u001b[38;5;28;01mreturn\u001b[39;00m \u001b[38;5;28;43mself\u001b[39;49m\u001b[38;5;241;43m.\u001b[39;49m\u001b[43m_call_impl\u001b[49m\u001b[43m(\u001b[49m\u001b[38;5;241;43m*\u001b[39;49m\u001b[43margs\u001b[49m\u001b[43m,\u001b[49m\u001b[43m \u001b[49m\u001b[38;5;241;43m*\u001b[39;49m\u001b[38;5;241;43m*\u001b[39;49m\u001b[43mkwargs\u001b[49m\u001b[43m)\u001b[49m\n",
      "File \u001b[0;32m~/.local/lib/python3.11/site-packages/torch/nn/modules/module.py:1527\u001b[0m, in \u001b[0;36mModule._call_impl\u001b[0;34m(self, *args, **kwargs)\u001b[0m\n\u001b[1;32m   1522\u001b[0m \u001b[38;5;66;03m# If we don't have any hooks, we want to skip the rest of the logic in\u001b[39;00m\n\u001b[1;32m   1523\u001b[0m \u001b[38;5;66;03m# this function, and just call forward.\u001b[39;00m\n\u001b[1;32m   1524\u001b[0m \u001b[38;5;28;01mif\u001b[39;00m \u001b[38;5;129;01mnot\u001b[39;00m (\u001b[38;5;28mself\u001b[39m\u001b[38;5;241m.\u001b[39m_backward_hooks \u001b[38;5;129;01mor\u001b[39;00m \u001b[38;5;28mself\u001b[39m\u001b[38;5;241m.\u001b[39m_backward_pre_hooks \u001b[38;5;129;01mor\u001b[39;00m \u001b[38;5;28mself\u001b[39m\u001b[38;5;241m.\u001b[39m_forward_hooks \u001b[38;5;129;01mor\u001b[39;00m \u001b[38;5;28mself\u001b[39m\u001b[38;5;241m.\u001b[39m_forward_pre_hooks\n\u001b[1;32m   1525\u001b[0m         \u001b[38;5;129;01mor\u001b[39;00m _global_backward_pre_hooks \u001b[38;5;129;01mor\u001b[39;00m _global_backward_hooks\n\u001b[1;32m   1526\u001b[0m         \u001b[38;5;129;01mor\u001b[39;00m _global_forward_hooks \u001b[38;5;129;01mor\u001b[39;00m _global_forward_pre_hooks):\n\u001b[0;32m-> 1527\u001b[0m     \u001b[38;5;28;01mreturn\u001b[39;00m \u001b[43mforward_call\u001b[49m\u001b[43m(\u001b[49m\u001b[38;5;241;43m*\u001b[39;49m\u001b[43margs\u001b[49m\u001b[43m,\u001b[49m\u001b[43m \u001b[49m\u001b[38;5;241;43m*\u001b[39;49m\u001b[38;5;241;43m*\u001b[39;49m\u001b[43mkwargs\u001b[49m\u001b[43m)\u001b[49m\n\u001b[1;32m   1529\u001b[0m \u001b[38;5;28;01mtry\u001b[39;00m:\n\u001b[1;32m   1530\u001b[0m     result \u001b[38;5;241m=\u001b[39m \u001b[38;5;28;01mNone\u001b[39;00m\n",
      "File \u001b[0;32m~/.local/lib/python3.11/site-packages/speechbrain/lobes/models/ECAPA_TDNN.py:486\u001b[0m, in \u001b[0;36mECAPA_TDNN.forward\u001b[0;34m(self, x, lengths)\u001b[0m\n\u001b[1;32m    484\u001b[0m \u001b[38;5;28;01mfor\u001b[39;00m layer \u001b[38;5;129;01min\u001b[39;00m \u001b[38;5;28mself\u001b[39m\u001b[38;5;241m.\u001b[39mblocks:\n\u001b[1;32m    485\u001b[0m     \u001b[38;5;28;01mtry\u001b[39;00m:\n\u001b[0;32m--> 486\u001b[0m         x \u001b[38;5;241m=\u001b[39m \u001b[43mlayer\u001b[49m\u001b[43m(\u001b[49m\u001b[43mx\u001b[49m\u001b[43m,\u001b[49m\u001b[43m \u001b[49m\u001b[43mlengths\u001b[49m\u001b[38;5;241;43m=\u001b[39;49m\u001b[43mlengths\u001b[49m\u001b[43m)\u001b[49m\n\u001b[1;32m    487\u001b[0m     \u001b[38;5;28;01mexcept\u001b[39;00m \u001b[38;5;167;01mTypeError\u001b[39;00m:\n\u001b[1;32m    488\u001b[0m         x \u001b[38;5;241m=\u001b[39m layer(x)\n",
      "File \u001b[0;32m~/.local/lib/python3.11/site-packages/torch/nn/modules/module.py:1518\u001b[0m, in \u001b[0;36mModule._wrapped_call_impl\u001b[0;34m(self, *args, **kwargs)\u001b[0m\n\u001b[1;32m   1516\u001b[0m     \u001b[38;5;28;01mreturn\u001b[39;00m \u001b[38;5;28mself\u001b[39m\u001b[38;5;241m.\u001b[39m_compiled_call_impl(\u001b[38;5;241m*\u001b[39margs, \u001b[38;5;241m*\u001b[39m\u001b[38;5;241m*\u001b[39mkwargs)  \u001b[38;5;66;03m# type: ignore[misc]\u001b[39;00m\n\u001b[1;32m   1517\u001b[0m \u001b[38;5;28;01melse\u001b[39;00m:\n\u001b[0;32m-> 1518\u001b[0m     \u001b[38;5;28;01mreturn\u001b[39;00m \u001b[38;5;28;43mself\u001b[39;49m\u001b[38;5;241;43m.\u001b[39;49m\u001b[43m_call_impl\u001b[49m\u001b[43m(\u001b[49m\u001b[38;5;241;43m*\u001b[39;49m\u001b[43margs\u001b[49m\u001b[43m,\u001b[49m\u001b[43m \u001b[49m\u001b[38;5;241;43m*\u001b[39;49m\u001b[38;5;241;43m*\u001b[39;49m\u001b[43mkwargs\u001b[49m\u001b[43m)\u001b[49m\n",
      "File \u001b[0;32m~/.local/lib/python3.11/site-packages/torch/nn/modules/module.py:1527\u001b[0m, in \u001b[0;36mModule._call_impl\u001b[0;34m(self, *args, **kwargs)\u001b[0m\n\u001b[1;32m   1522\u001b[0m \u001b[38;5;66;03m# If we don't have any hooks, we want to skip the rest of the logic in\u001b[39;00m\n\u001b[1;32m   1523\u001b[0m \u001b[38;5;66;03m# this function, and just call forward.\u001b[39;00m\n\u001b[1;32m   1524\u001b[0m \u001b[38;5;28;01mif\u001b[39;00m \u001b[38;5;129;01mnot\u001b[39;00m (\u001b[38;5;28mself\u001b[39m\u001b[38;5;241m.\u001b[39m_backward_hooks \u001b[38;5;129;01mor\u001b[39;00m \u001b[38;5;28mself\u001b[39m\u001b[38;5;241m.\u001b[39m_backward_pre_hooks \u001b[38;5;129;01mor\u001b[39;00m \u001b[38;5;28mself\u001b[39m\u001b[38;5;241m.\u001b[39m_forward_hooks \u001b[38;5;129;01mor\u001b[39;00m \u001b[38;5;28mself\u001b[39m\u001b[38;5;241m.\u001b[39m_forward_pre_hooks\n\u001b[1;32m   1525\u001b[0m         \u001b[38;5;129;01mor\u001b[39;00m _global_backward_pre_hooks \u001b[38;5;129;01mor\u001b[39;00m _global_backward_hooks\n\u001b[1;32m   1526\u001b[0m         \u001b[38;5;129;01mor\u001b[39;00m _global_forward_hooks \u001b[38;5;129;01mor\u001b[39;00m _global_forward_pre_hooks):\n\u001b[0;32m-> 1527\u001b[0m     \u001b[38;5;28;01mreturn\u001b[39;00m \u001b[43mforward_call\u001b[49m\u001b[43m(\u001b[49m\u001b[38;5;241;43m*\u001b[39;49m\u001b[43margs\u001b[49m\u001b[43m,\u001b[49m\u001b[43m \u001b[49m\u001b[38;5;241;43m*\u001b[39;49m\u001b[38;5;241;43m*\u001b[39;49m\u001b[43mkwargs\u001b[49m\u001b[43m)\u001b[49m\n\u001b[1;32m   1529\u001b[0m \u001b[38;5;28;01mtry\u001b[39;00m:\n\u001b[1;32m   1530\u001b[0m     result \u001b[38;5;241m=\u001b[39m \u001b[38;5;28;01mNone\u001b[39;00m\n",
      "File \u001b[0;32m~/.local/lib/python3.11/site-packages/speechbrain/lobes/models/ECAPA_TDNN.py:363\u001b[0m, in \u001b[0;36mSERes2NetBlock.forward\u001b[0;34m(self, x, lengths)\u001b[0m\n\u001b[1;32m    361\u001b[0m x \u001b[38;5;241m=\u001b[39m \u001b[38;5;28mself\u001b[39m\u001b[38;5;241m.\u001b[39mres2net_block(x)\n\u001b[1;32m    362\u001b[0m x \u001b[38;5;241m=\u001b[39m \u001b[38;5;28mself\u001b[39m\u001b[38;5;241m.\u001b[39mtdnn2(x)\n\u001b[0;32m--> 363\u001b[0m x \u001b[38;5;241m=\u001b[39m \u001b[38;5;28;43mself\u001b[39;49m\u001b[38;5;241;43m.\u001b[39;49m\u001b[43mse_block\u001b[49m\u001b[43m(\u001b[49m\u001b[43mx\u001b[49m\u001b[43m,\u001b[49m\u001b[43m \u001b[49m\u001b[43mlengths\u001b[49m\u001b[43m)\u001b[49m\n\u001b[1;32m    365\u001b[0m \u001b[38;5;28;01mreturn\u001b[39;00m x \u001b[38;5;241m+\u001b[39m residual\n",
      "File \u001b[0;32m~/.local/lib/python3.11/site-packages/torch/nn/modules/module.py:1518\u001b[0m, in \u001b[0;36mModule._wrapped_call_impl\u001b[0;34m(self, *args, **kwargs)\u001b[0m\n\u001b[1;32m   1516\u001b[0m     \u001b[38;5;28;01mreturn\u001b[39;00m \u001b[38;5;28mself\u001b[39m\u001b[38;5;241m.\u001b[39m_compiled_call_impl(\u001b[38;5;241m*\u001b[39margs, \u001b[38;5;241m*\u001b[39m\u001b[38;5;241m*\u001b[39mkwargs)  \u001b[38;5;66;03m# type: ignore[misc]\u001b[39;00m\n\u001b[1;32m   1517\u001b[0m \u001b[38;5;28;01melse\u001b[39;00m:\n\u001b[0;32m-> 1518\u001b[0m     \u001b[38;5;28;01mreturn\u001b[39;00m \u001b[38;5;28;43mself\u001b[39;49m\u001b[38;5;241;43m.\u001b[39;49m\u001b[43m_call_impl\u001b[49m\u001b[43m(\u001b[49m\u001b[38;5;241;43m*\u001b[39;49m\u001b[43margs\u001b[49m\u001b[43m,\u001b[49m\u001b[43m \u001b[49m\u001b[38;5;241;43m*\u001b[39;49m\u001b[38;5;241;43m*\u001b[39;49m\u001b[43mkwargs\u001b[49m\u001b[43m)\u001b[49m\n",
      "File \u001b[0;32m~/.local/lib/python3.11/site-packages/torch/nn/modules/module.py:1527\u001b[0m, in \u001b[0;36mModule._call_impl\u001b[0;34m(self, *args, **kwargs)\u001b[0m\n\u001b[1;32m   1522\u001b[0m \u001b[38;5;66;03m# If we don't have any hooks, we want to skip the rest of the logic in\u001b[39;00m\n\u001b[1;32m   1523\u001b[0m \u001b[38;5;66;03m# this function, and just call forward.\u001b[39;00m\n\u001b[1;32m   1524\u001b[0m \u001b[38;5;28;01mif\u001b[39;00m \u001b[38;5;129;01mnot\u001b[39;00m (\u001b[38;5;28mself\u001b[39m\u001b[38;5;241m.\u001b[39m_backward_hooks \u001b[38;5;129;01mor\u001b[39;00m \u001b[38;5;28mself\u001b[39m\u001b[38;5;241m.\u001b[39m_backward_pre_hooks \u001b[38;5;129;01mor\u001b[39;00m \u001b[38;5;28mself\u001b[39m\u001b[38;5;241m.\u001b[39m_forward_hooks \u001b[38;5;129;01mor\u001b[39;00m \u001b[38;5;28mself\u001b[39m\u001b[38;5;241m.\u001b[39m_forward_pre_hooks\n\u001b[1;32m   1525\u001b[0m         \u001b[38;5;129;01mor\u001b[39;00m _global_backward_pre_hooks \u001b[38;5;129;01mor\u001b[39;00m _global_backward_hooks\n\u001b[1;32m   1526\u001b[0m         \u001b[38;5;129;01mor\u001b[39;00m _global_forward_hooks \u001b[38;5;129;01mor\u001b[39;00m _global_forward_pre_hooks):\n\u001b[0;32m-> 1527\u001b[0m     \u001b[38;5;28;01mreturn\u001b[39;00m \u001b[43mforward_call\u001b[49m\u001b[43m(\u001b[49m\u001b[38;5;241;43m*\u001b[39;49m\u001b[43margs\u001b[49m\u001b[43m,\u001b[49m\u001b[43m \u001b[49m\u001b[38;5;241;43m*\u001b[39;49m\u001b[38;5;241;43m*\u001b[39;49m\u001b[43mkwargs\u001b[49m\u001b[43m)\u001b[49m\n\u001b[1;32m   1529\u001b[0m \u001b[38;5;28;01mtry\u001b[39;00m:\n\u001b[1;32m   1530\u001b[0m     result \u001b[38;5;241m=\u001b[39m \u001b[38;5;28;01mNone\u001b[39;00m\n",
      "File \u001b[0;32m~/.local/lib/python3.11/site-packages/speechbrain/lobes/models/ECAPA_TDNN.py:191\u001b[0m, in \u001b[0;36mSEBlock.forward\u001b[0;34m(self, x, lengths)\u001b[0m\n\u001b[1;32m    188\u001b[0m \u001b[38;5;28;01melse\u001b[39;00m:\n\u001b[1;32m    189\u001b[0m     s \u001b[38;5;241m=\u001b[39m x\u001b[38;5;241m.\u001b[39mmean(dim\u001b[38;5;241m=\u001b[39m\u001b[38;5;241m2\u001b[39m, keepdim\u001b[38;5;241m=\u001b[39m\u001b[38;5;28;01mTrue\u001b[39;00m)\n\u001b[0;32m--> 191\u001b[0m s \u001b[38;5;241m=\u001b[39m \u001b[38;5;28mself\u001b[39m\u001b[38;5;241m.\u001b[39mrelu(\u001b[38;5;28;43mself\u001b[39;49m\u001b[38;5;241;43m.\u001b[39;49m\u001b[43mconv1\u001b[49m\u001b[43m(\u001b[49m\u001b[43ms\u001b[49m\u001b[43m)\u001b[49m)\n\u001b[1;32m    192\u001b[0m s \u001b[38;5;241m=\u001b[39m \u001b[38;5;28mself\u001b[39m\u001b[38;5;241m.\u001b[39msigmoid(\u001b[38;5;28mself\u001b[39m\u001b[38;5;241m.\u001b[39mconv2(s))\n\u001b[1;32m    194\u001b[0m \u001b[38;5;28;01mreturn\u001b[39;00m s \u001b[38;5;241m*\u001b[39m x\n",
      "File \u001b[0;32m~/.local/lib/python3.11/site-packages/torch/nn/modules/module.py:1518\u001b[0m, in \u001b[0;36mModule._wrapped_call_impl\u001b[0;34m(self, *args, **kwargs)\u001b[0m\n\u001b[1;32m   1516\u001b[0m     \u001b[38;5;28;01mreturn\u001b[39;00m \u001b[38;5;28mself\u001b[39m\u001b[38;5;241m.\u001b[39m_compiled_call_impl(\u001b[38;5;241m*\u001b[39margs, \u001b[38;5;241m*\u001b[39m\u001b[38;5;241m*\u001b[39mkwargs)  \u001b[38;5;66;03m# type: ignore[misc]\u001b[39;00m\n\u001b[1;32m   1517\u001b[0m \u001b[38;5;28;01melse\u001b[39;00m:\n\u001b[0;32m-> 1518\u001b[0m     \u001b[38;5;28;01mreturn\u001b[39;00m \u001b[38;5;28;43mself\u001b[39;49m\u001b[38;5;241;43m.\u001b[39;49m\u001b[43m_call_impl\u001b[49m\u001b[43m(\u001b[49m\u001b[38;5;241;43m*\u001b[39;49m\u001b[43margs\u001b[49m\u001b[43m,\u001b[49m\u001b[43m \u001b[49m\u001b[38;5;241;43m*\u001b[39;49m\u001b[38;5;241;43m*\u001b[39;49m\u001b[43mkwargs\u001b[49m\u001b[43m)\u001b[49m\n",
      "File \u001b[0;32m~/.local/lib/python3.11/site-packages/torch/nn/modules/module.py:1527\u001b[0m, in \u001b[0;36mModule._call_impl\u001b[0;34m(self, *args, **kwargs)\u001b[0m\n\u001b[1;32m   1522\u001b[0m \u001b[38;5;66;03m# If we don't have any hooks, we want to skip the rest of the logic in\u001b[39;00m\n\u001b[1;32m   1523\u001b[0m \u001b[38;5;66;03m# this function, and just call forward.\u001b[39;00m\n\u001b[1;32m   1524\u001b[0m \u001b[38;5;28;01mif\u001b[39;00m \u001b[38;5;129;01mnot\u001b[39;00m (\u001b[38;5;28mself\u001b[39m\u001b[38;5;241m.\u001b[39m_backward_hooks \u001b[38;5;129;01mor\u001b[39;00m \u001b[38;5;28mself\u001b[39m\u001b[38;5;241m.\u001b[39m_backward_pre_hooks \u001b[38;5;129;01mor\u001b[39;00m \u001b[38;5;28mself\u001b[39m\u001b[38;5;241m.\u001b[39m_forward_hooks \u001b[38;5;129;01mor\u001b[39;00m \u001b[38;5;28mself\u001b[39m\u001b[38;5;241m.\u001b[39m_forward_pre_hooks\n\u001b[1;32m   1525\u001b[0m         \u001b[38;5;129;01mor\u001b[39;00m _global_backward_pre_hooks \u001b[38;5;129;01mor\u001b[39;00m _global_backward_hooks\n\u001b[1;32m   1526\u001b[0m         \u001b[38;5;129;01mor\u001b[39;00m _global_forward_hooks \u001b[38;5;129;01mor\u001b[39;00m _global_forward_pre_hooks):\n\u001b[0;32m-> 1527\u001b[0m     \u001b[38;5;28;01mreturn\u001b[39;00m \u001b[43mforward_call\u001b[49m\u001b[43m(\u001b[49m\u001b[38;5;241;43m*\u001b[39;49m\u001b[43margs\u001b[49m\u001b[43m,\u001b[49m\u001b[43m \u001b[49m\u001b[38;5;241;43m*\u001b[39;49m\u001b[38;5;241;43m*\u001b[39;49m\u001b[43mkwargs\u001b[49m\u001b[43m)\u001b[49m\n\u001b[1;32m   1529\u001b[0m \u001b[38;5;28;01mtry\u001b[39;00m:\n\u001b[1;32m   1530\u001b[0m     result \u001b[38;5;241m=\u001b[39m \u001b[38;5;28;01mNone\u001b[39;00m\n",
      "File \u001b[0;32m~/.local/lib/python3.11/site-packages/speechbrain/nnet/CNN.py:445\u001b[0m, in \u001b[0;36mConv1d.forward\u001b[0;34m(self, x)\u001b[0m\n\u001b[1;32m    439\u001b[0m \u001b[38;5;28;01melse\u001b[39;00m:\n\u001b[1;32m    440\u001b[0m     \u001b[38;5;28;01mraise\u001b[39;00m \u001b[38;5;167;01mValueError\u001b[39;00m(\n\u001b[1;32m    441\u001b[0m         \u001b[38;5;124m\"\u001b[39m\u001b[38;5;124mPadding must be \u001b[39m\u001b[38;5;124m'\u001b[39m\u001b[38;5;124msame\u001b[39m\u001b[38;5;124m'\u001b[39m\u001b[38;5;124m, \u001b[39m\u001b[38;5;124m'\u001b[39m\u001b[38;5;124mvalid\u001b[39m\u001b[38;5;124m'\u001b[39m\u001b[38;5;124m or \u001b[39m\u001b[38;5;124m'\u001b[39m\u001b[38;5;124mcausal\u001b[39m\u001b[38;5;124m'\u001b[39m\u001b[38;5;124m. Got \u001b[39m\u001b[38;5;124m\"\u001b[39m\n\u001b[1;32m    442\u001b[0m         \u001b[38;5;241m+\u001b[39m \u001b[38;5;28mself\u001b[39m\u001b[38;5;241m.\u001b[39mpadding\n\u001b[1;32m    443\u001b[0m     )\n\u001b[0;32m--> 445\u001b[0m wx \u001b[38;5;241m=\u001b[39m \u001b[38;5;28;43mself\u001b[39;49m\u001b[38;5;241;43m.\u001b[39;49m\u001b[43mconv\u001b[49m\u001b[43m(\u001b[49m\u001b[43mx\u001b[49m\u001b[43m)\u001b[49m\n\u001b[1;32m    447\u001b[0m \u001b[38;5;28;01mif\u001b[39;00m \u001b[38;5;28mself\u001b[39m\u001b[38;5;241m.\u001b[39munsqueeze:\n\u001b[1;32m    448\u001b[0m     wx \u001b[38;5;241m=\u001b[39m wx\u001b[38;5;241m.\u001b[39msqueeze(\u001b[38;5;241m1\u001b[39m)\n",
      "File \u001b[0;32m~/.local/lib/python3.11/site-packages/torch/nn/modules/module.py:1518\u001b[0m, in \u001b[0;36mModule._wrapped_call_impl\u001b[0;34m(self, *args, **kwargs)\u001b[0m\n\u001b[1;32m   1516\u001b[0m     \u001b[38;5;28;01mreturn\u001b[39;00m \u001b[38;5;28mself\u001b[39m\u001b[38;5;241m.\u001b[39m_compiled_call_impl(\u001b[38;5;241m*\u001b[39margs, \u001b[38;5;241m*\u001b[39m\u001b[38;5;241m*\u001b[39mkwargs)  \u001b[38;5;66;03m# type: ignore[misc]\u001b[39;00m\n\u001b[1;32m   1517\u001b[0m \u001b[38;5;28;01melse\u001b[39;00m:\n\u001b[0;32m-> 1518\u001b[0m     \u001b[38;5;28;01mreturn\u001b[39;00m \u001b[38;5;28;43mself\u001b[39;49m\u001b[38;5;241;43m.\u001b[39;49m\u001b[43m_call_impl\u001b[49m\u001b[43m(\u001b[49m\u001b[38;5;241;43m*\u001b[39;49m\u001b[43margs\u001b[49m\u001b[43m,\u001b[49m\u001b[43m \u001b[49m\u001b[38;5;241;43m*\u001b[39;49m\u001b[38;5;241;43m*\u001b[39;49m\u001b[43mkwargs\u001b[49m\u001b[43m)\u001b[49m\n",
      "File \u001b[0;32m~/.local/lib/python3.11/site-packages/torch/nn/modules/module.py:1527\u001b[0m, in \u001b[0;36mModule._call_impl\u001b[0;34m(self, *args, **kwargs)\u001b[0m\n\u001b[1;32m   1522\u001b[0m \u001b[38;5;66;03m# If we don't have any hooks, we want to skip the rest of the logic in\u001b[39;00m\n\u001b[1;32m   1523\u001b[0m \u001b[38;5;66;03m# this function, and just call forward.\u001b[39;00m\n\u001b[1;32m   1524\u001b[0m \u001b[38;5;28;01mif\u001b[39;00m \u001b[38;5;129;01mnot\u001b[39;00m (\u001b[38;5;28mself\u001b[39m\u001b[38;5;241m.\u001b[39m_backward_hooks \u001b[38;5;129;01mor\u001b[39;00m \u001b[38;5;28mself\u001b[39m\u001b[38;5;241m.\u001b[39m_backward_pre_hooks \u001b[38;5;129;01mor\u001b[39;00m \u001b[38;5;28mself\u001b[39m\u001b[38;5;241m.\u001b[39m_forward_hooks \u001b[38;5;129;01mor\u001b[39;00m \u001b[38;5;28mself\u001b[39m\u001b[38;5;241m.\u001b[39m_forward_pre_hooks\n\u001b[1;32m   1525\u001b[0m         \u001b[38;5;129;01mor\u001b[39;00m _global_backward_pre_hooks \u001b[38;5;129;01mor\u001b[39;00m _global_backward_hooks\n\u001b[1;32m   1526\u001b[0m         \u001b[38;5;129;01mor\u001b[39;00m _global_forward_hooks \u001b[38;5;129;01mor\u001b[39;00m _global_forward_pre_hooks):\n\u001b[0;32m-> 1527\u001b[0m     \u001b[38;5;28;01mreturn\u001b[39;00m \u001b[43mforward_call\u001b[49m\u001b[43m(\u001b[49m\u001b[38;5;241;43m*\u001b[39;49m\u001b[43margs\u001b[49m\u001b[43m,\u001b[49m\u001b[43m \u001b[49m\u001b[38;5;241;43m*\u001b[39;49m\u001b[38;5;241;43m*\u001b[39;49m\u001b[43mkwargs\u001b[49m\u001b[43m)\u001b[49m\n\u001b[1;32m   1529\u001b[0m \u001b[38;5;28;01mtry\u001b[39;00m:\n\u001b[1;32m   1530\u001b[0m     result \u001b[38;5;241m=\u001b[39m \u001b[38;5;28;01mNone\u001b[39;00m\n",
      "File \u001b[0;32m~/.local/lib/python3.11/site-packages/torch/nn/modules/conv.py:310\u001b[0m, in \u001b[0;36mConv1d.forward\u001b[0;34m(self, input)\u001b[0m\n\u001b[1;32m    309\u001b[0m \u001b[38;5;28;01mdef\u001b[39;00m \u001b[38;5;21mforward\u001b[39m(\u001b[38;5;28mself\u001b[39m, \u001b[38;5;28minput\u001b[39m: Tensor) \u001b[38;5;241m-\u001b[39m\u001b[38;5;241m>\u001b[39m Tensor:\n\u001b[0;32m--> 310\u001b[0m     \u001b[38;5;28;01mreturn\u001b[39;00m \u001b[38;5;28;43mself\u001b[39;49m\u001b[38;5;241;43m.\u001b[39;49m\u001b[43m_conv_forward\u001b[49m\u001b[43m(\u001b[49m\u001b[38;5;28;43minput\u001b[39;49m\u001b[43m,\u001b[49m\u001b[43m \u001b[49m\u001b[38;5;28;43mself\u001b[39;49m\u001b[38;5;241;43m.\u001b[39;49m\u001b[43mweight\u001b[49m\u001b[43m,\u001b[49m\u001b[43m \u001b[49m\u001b[38;5;28;43mself\u001b[39;49m\u001b[38;5;241;43m.\u001b[39;49m\u001b[43mbias\u001b[49m\u001b[43m)\u001b[49m\n",
      "File \u001b[0;32m~/.local/lib/python3.11/site-packages/torch/nn/modules/conv.py:306\u001b[0m, in \u001b[0;36mConv1d._conv_forward\u001b[0;34m(self, input, weight, bias)\u001b[0m\n\u001b[1;32m    302\u001b[0m \u001b[38;5;28;01mif\u001b[39;00m \u001b[38;5;28mself\u001b[39m\u001b[38;5;241m.\u001b[39mpadding_mode \u001b[38;5;241m!=\u001b[39m \u001b[38;5;124m'\u001b[39m\u001b[38;5;124mzeros\u001b[39m\u001b[38;5;124m'\u001b[39m:\n\u001b[1;32m    303\u001b[0m     \u001b[38;5;28;01mreturn\u001b[39;00m F\u001b[38;5;241m.\u001b[39mconv1d(F\u001b[38;5;241m.\u001b[39mpad(\u001b[38;5;28minput\u001b[39m, \u001b[38;5;28mself\u001b[39m\u001b[38;5;241m.\u001b[39m_reversed_padding_repeated_twice, mode\u001b[38;5;241m=\u001b[39m\u001b[38;5;28mself\u001b[39m\u001b[38;5;241m.\u001b[39mpadding_mode),\n\u001b[1;32m    304\u001b[0m                     weight, bias, \u001b[38;5;28mself\u001b[39m\u001b[38;5;241m.\u001b[39mstride,\n\u001b[1;32m    305\u001b[0m                     _single(\u001b[38;5;241m0\u001b[39m), \u001b[38;5;28mself\u001b[39m\u001b[38;5;241m.\u001b[39mdilation, \u001b[38;5;28mself\u001b[39m\u001b[38;5;241m.\u001b[39mgroups)\n\u001b[0;32m--> 306\u001b[0m \u001b[38;5;28;01mreturn\u001b[39;00m \u001b[43mF\u001b[49m\u001b[38;5;241;43m.\u001b[39;49m\u001b[43mconv1d\u001b[49m\u001b[43m(\u001b[49m\u001b[38;5;28;43minput\u001b[39;49m\u001b[43m,\u001b[49m\u001b[43m \u001b[49m\u001b[43mweight\u001b[49m\u001b[43m,\u001b[49m\u001b[43m \u001b[49m\u001b[43mbias\u001b[49m\u001b[43m,\u001b[49m\u001b[43m \u001b[49m\u001b[38;5;28;43mself\u001b[39;49m\u001b[38;5;241;43m.\u001b[39;49m\u001b[43mstride\u001b[49m\u001b[43m,\u001b[49m\n\u001b[1;32m    307\u001b[0m \u001b[43m                \u001b[49m\u001b[38;5;28;43mself\u001b[39;49m\u001b[38;5;241;43m.\u001b[39;49m\u001b[43mpadding\u001b[49m\u001b[43m,\u001b[49m\u001b[43m \u001b[49m\u001b[38;5;28;43mself\u001b[39;49m\u001b[38;5;241;43m.\u001b[39;49m\u001b[43mdilation\u001b[49m\u001b[43m,\u001b[49m\u001b[43m \u001b[49m\u001b[38;5;28;43mself\u001b[39;49m\u001b[38;5;241;43m.\u001b[39;49m\u001b[43mgroups\u001b[49m\u001b[43m)\u001b[49m\n",
      "\u001b[0;31mKeyboardInterrupt\u001b[0m: "
     ]
    }
   ],
   "source": [
    "train_loss = []\n",
    "val_loss = []\n",
    "reset_weights()\n",
    "optimizer = torch.optim.Adam(classifier.mods.classifier.parameters(), lr=0.001)\n",
    "for epoch in tqdm(range(100)):\n",
    "    losses = []\n",
    "    for batch_idx, (X, y) in enumerate(train_dl):\n",
    "        logits, confidences, classes, decoded_classes = classifier(X)\n",
    "        loss = loss_fn(logits, y)\n",
    "        optimizer.zero_grad()\n",
    "        loss.backward()\n",
    "        optimizer.step()\n",
    "        losses.append(loss.item())\n",
    "    train_loss.append(np.mean(losses))\n",
    "    \n",
    "    val_preds, *_ = classifier(Xval)    \n",
    "    val_loss_ = loss_fn(val_preds, yval)\n",
    "    val_loss.append(val_loss_.item())\n",
    "\n",
    "    print(f\"Epoch {epoch}: Train Loss: {train_loss[-1]:.4f}, Validation Loss: {val_loss[-1]:.4f}\")"
   ]
  },
  {
   "cell_type": "code",
   "execution_count": 296,
   "id": "1ed48124-7fde-4c6c-93a4-41cd1fb56b2a",
   "metadata": {},
   "outputs": [
    {
     "data": {
      "image/png": "[encoded data removed]",
      "text/plain": [
       "<Figure size 640x480 with 1 Axes>"
      ]
     },
     "metadata": {},
     "output_type": "display_data"
    }
   ],
   "source": [
    "plt.plot(train_loss)\n",
    "plt.plot(val_loss)\n",
    "plt.legend(['train','val'])\n",
    "plt.show();"
   ]
  },
  {
   "cell_type": "markdown",
   "id": "d35711b3-401c-4668-bbee-610fb0385998",
   "metadata": {},
   "source": [
    "### Validation accuracy "
   ]
  },
  {
   "cell_type": "code",
   "execution_count": 297,
   "id": "47c12d93-65b3-4594-9903-7f2a5b1a7f6c",
   "metadata": {},
   "outputs": [
    {
     "data": {
      "text/plain": [
       "['air', 'vac', 'off']"
      ]
     },
     "execution_count": 297,
     "metadata": {},
     "output_type": "execute_result"
    }
   ],
   "source": [
    "CATS"
   ]
  },
  {
   "cell_type": "code",
   "execution_count": 298,
   "id": "d0c5d6d1-998e-4c70-8e12-de4d5e60fc75",
   "metadata": {},
   "outputs": [],
   "source": [
    "preds, *rest = classifier(Xval)"
   ]
  },
  {
   "cell_type": "code",
   "execution_count": 299,
   "id": "f4ffa15a-3cad-437b-bae0-a4cfd51b1470",
   "metadata": {},
   "outputs": [
    {
     "data": {
      "text/plain": [
       "tensor([2, 2, 0, 0, 2, 1, 0, 1, 1, 0, 1, 2, 1, 2, 2, 2, 0, 2, 1, 0, 2, 2, 2, 0,\n",
       "        2, 2, 2, 0, 2, 2, 1, 2, 2, 1, 2, 1, 2, 2, 0, 2, 1, 1, 1, 1, 1, 2, 2, 2,\n",
       "        1, 0, 0, 2, 2, 2, 1, 0, 2, 2, 1, 1, 2, 1, 2, 0, 0, 2, 0, 2, 1, 1, 1, 2,\n",
       "        1, 2, 2, 0, 2, 2, 0, 2, 2, 0, 2, 2, 2, 2, 1, 2, 1, 1, 0, 2, 2, 0, 1, 2])"
      ]
     },
     "execution_count": 299,
     "metadata": {},
     "output_type": "execute_result"
    }
   ],
   "source": [
    "preds.argmax(axis=1)"
   ]
  },
  {
   "cell_type": "code",
   "execution_count": 300,
   "id": "0df37bba-6218-498b-8e7e-4ea1e932cb42",
   "metadata": {},
   "outputs": [
    {
     "data": {
      "text/plain": [
       "tensor([2, 0, 0, 0, 2, 2, 0, 1, 1, 1, 1, 2, 1, 2, 0, 1, 0, 2, 2, 0, 2, 0, 2, 1,\n",
       "        2, 2, 0, 0, 2, 2, 1, 2, 0, 1, 1, 1, 2, 2, 0, 2, 1, 1, 1, 1, 0, 0, 2, 2,\n",
       "        0, 0, 0, 1, 0, 0, 2, 0, 2, 2, 1, 2, 1, 1, 0, 0, 0, 1, 1, 2, 1, 0, 0, 2,\n",
       "        1, 2, 0, 0, 2, 2, 0, 2, 2, 0, 2, 2, 1, 1, 1, 1, 1, 1, 0, 1, 0, 0, 1, 2])"
      ]
     },
     "execution_count": 300,
     "metadata": {},
     "output_type": "execute_result"
    }
   ],
   "source": [
    "yval.argmax(axis=1)"
   ]
  },
  {
   "cell_type": "code",
   "execution_count": 301,
   "id": "991325d5-fc70-4d4f-84a6-94b4ec8a1ded",
   "metadata": {},
   "outputs": [
    {
     "data": {
      "text/plain": [
       "tensor(0.6771)"
      ]
     },
     "execution_count": 301,
     "metadata": {},
     "output_type": "execute_result"
    }
   ],
   "source": [
    "(preds.argmax(axis=1) == yval.argmax(axis=1)).float().mean()"
   ]
  },
  {
   "cell_type": "markdown",
   "id": "0cff356d-9e15-4e34-b764-c7e862ffb552",
   "metadata": {},
   "source": [
    "### Train accuracy "
   ]
  },
  {
   "cell_type": "code",
   "execution_count": 302,
   "id": "872d2a4c-113d-4302-bba0-e676120d1e9e",
   "metadata": {},
   "outputs": [
    {
     "data": {
      "text/plain": [
       "tensor([2, 0, 2, 0, 2, 1, 1, 1, 0, 0, 2, 1, 2, 0, 2, 1, 1, 2, 2, 2, 1, 2, 2, 1,\n",
       "        1, 0, 1, 1, 1, 2, 0, 2, 0, 1, 2, 0, 1, 1, 1, 1, 1, 2, 0, 0, 1, 1, 1, 0,\n",
       "        1, 2, 2, 2, 0, 2, 2, 1, 1, 0, 0, 0, 2, 0, 2, 2, 0, 0, 1, 2, 1, 1, 0, 1,\n",
       "        2, 2, 0, 2, 0, 2, 0, 1, 1, 0, 2, 0, 0, 1, 0, 1, 0, 0, 2, 2, 1, 1, 0, 2,\n",
       "        1, 1, 2, 1, 0, 0, 2, 2, 1, 0, 2, 1, 1, 0, 1, 0, 2, 1, 1, 0, 1, 1, 2, 1,\n",
       "        0, 1, 1, 0, 2, 2, 1, 2, 0, 1, 0, 1, 2, 0, 1, 0, 2, 1, 2, 2, 1, 1, 2, 0,\n",
       "        1, 1, 2, 2, 2, 0, 2, 2, 1, 1, 2, 2, 0, 0, 0, 0, 1, 2, 1, 2, 1, 1, 1, 0,\n",
       "        0, 1, 1, 0, 1, 0, 2, 2, 0, 1, 2, 2, 0, 2, 0, 2, 2, 2, 2, 2, 0, 0, 2, 0,\n",
       "        0, 0, 1, 0, 0, 2, 0, 2, 2, 0, 2, 0, 1, 0, 1, 1, 2, 2, 1, 0, 1, 1, 2, 0,\n",
       "        1, 2, 0, 1, 2, 0, 1, 0, 1, 0, 0, 1, 2, 0, 2, 0, 2, 2, 1, 0, 0, 1, 0, 1,\n",
       "        0, 1, 0, 2, 0, 1, 2, 0, 0, 1, 1, 2, 0, 2, 2, 2, 2, 0, 1, 0, 2, 0, 1, 1,\n",
       "        2, 0, 2, 0, 1, 0, 2, 1, 1, 2, 1, 0, 2, 2, 2, 2, 1, 1, 0, 1, 0, 2, 0, 2,\n",
       "        2, 1, 2, 1, 1, 2, 2, 2, 0, 1, 1, 0, 1, 0, 0, 2, 1, 2, 0, 0, 1, 0, 2, 2,\n",
       "        1, 2, 0, 2, 2, 2, 2, 1, 2, 1, 0, 1, 2, 2, 2, 2, 1, 1, 0, 2, 0, 1, 2, 2,\n",
       "        2, 2, 1, 0, 1, 1, 2, 2, 0, 2, 0, 0, 2, 0, 1, 2, 0, 1, 1, 1, 2, 0, 0, 0,\n",
       "        0, 0, 0, 0, 1, 1, 1, 2, 1, 2, 0, 1, 0, 1, 1, 0, 0, 1, 0, 1, 0, 0, 2, 2,\n",
       "        2, 2, 1, 1, 0, 1, 1, 1, 2, 2, 1, 1, 2, 1, 2, 1, 2, 1, 0, 2, 2, 0, 1, 1,\n",
       "        0, 0, 1, 2, 0, 1, 2, 1, 1, 0, 0, 0, 1, 2, 2, 0, 0, 1, 2, 2, 1, 1, 0, 0,\n",
       "        2, 2, 2, 0, 2, 1, 0, 2, 0, 2, 0, 1, 1, 2, 0, 0, 2, 2, 2, 2, 2, 2, 0, 1,\n",
       "        2, 1, 1, 0, 1, 2, 0, 0, 0, 0, 0, 0, 0, 1, 1, 1, 2, 1, 1, 2, 2, 0, 1, 2,\n",
       "        2, 2, 1, 0, 0, 2, 0, 1, 2, 0, 0, 0, 2, 1, 2, 0, 0, 2, 1, 0, 1, 1, 0, 2,\n",
       "        0, 0, 0, 2, 2, 0, 0, 1, 2, 1, 0, 1, 0, 2, 0, 2, 1, 0, 0, 1, 1, 0, 0, 1,\n",
       "        2, 2, 1, 0, 2, 0, 1, 2, 1, 2])"
      ]
     },
     "execution_count": 302,
     "metadata": {},
     "output_type": "execute_result"
    }
   ],
   "source": [
    "torch.tensor([CATS.index(val) for val in ytrain])"
   ]
  },
  {
   "cell_type": "code",
   "execution_count": 303,
   "id": "6538e28f-09bd-48ed-92d8-3c8714aac3f1",
   "metadata": {},
   "outputs": [
    {
     "data": {
      "text/plain": [
       "tensor([2, 2, 2, 2, 2, 1, 1, 2, 2, 0, 2, 1, 2, 0, 2, 1, 2, 1, 2, 2, 2, 2, 2, 0,\n",
       "        1, 2, 2, 1, 0, 2, 2, 2, 2, 1, 1, 0, 1, 1, 1, 1, 1, 2, 2, 0, 2, 1, 1, 0,\n",
       "        1, 2, 0, 2, 2, 2, 2, 1, 2, 2, 1, 0, 2, 1, 2, 2, 0, 1, 1, 1, 2, 1, 0, 1,\n",
       "        2, 1, 2, 2, 1, 2, 0, 2, 1, 2, 0, 2, 0, 2, 0, 1, 0, 1, 2, 2, 1, 2, 0, 2,\n",
       "        1, 1, 1, 2, 0, 0, 2, 2, 1, 1, 2, 1, 1, 0, 1, 0, 2, 2, 1, 2, 1, 2, 2, 1,\n",
       "        1, 1, 2, 1, 2, 2, 1, 2, 0, 1, 1, 2, 2, 2, 1, 2, 2, 2, 2, 2, 1, 2, 2, 0,\n",
       "        1, 2, 2, 2, 2, 1, 2, 2, 1, 1, 2, 2, 2, 1, 0, 0, 1, 2, 1, 2, 1, 2, 2, 0,\n",
       "        0, 1, 1, 0, 2, 0, 2, 2, 0, 2, 2, 2, 2, 2, 0, 1, 2, 2, 2, 2, 1, 0, 2, 0,\n",
       "        2, 0, 1, 2, 2, 2, 1, 2, 2, 2, 2, 2, 2, 0, 1, 2, 0, 2, 1, 0, 1, 1, 2, 0,\n",
       "        1, 2, 1, 2, 2, 2, 2, 1, 1, 1, 0, 1, 2, 1, 2, 0, 2, 2, 0, 1, 0, 1, 0, 2,\n",
       "        1, 1, 2, 2, 0, 1, 0, 1, 0, 1, 1, 2, 0, 1, 1, 2, 2, 0, 1, 1, 1, 2, 1, 2,\n",
       "        0, 0, 2, 1, 0, 0, 2, 1, 2, 2, 2, 2, 2, 2, 2, 2, 1, 2, 0, 2, 1, 2, 0, 2,\n",
       "        2, 2, 2, 1, 1, 1, 2, 2, 2, 1, 0, 2, 1, 0, 0, 2, 2, 2, 2, 2, 1, 1, 1, 2,\n",
       "        1, 2, 0, 2, 2, 2, 2, 2, 2, 1, 0, 1, 2, 1, 2, 2, 0, 1, 2, 2, 1, 2, 2, 2,\n",
       "        2, 2, 1, 0, 0, 1, 2, 2, 0, 1, 1, 2, 2, 2, 2, 2, 0, 2, 1, 1, 1, 0, 1, 1,\n",
       "        0, 1, 0, 1, 1, 2, 2, 2, 1, 1, 0, 2, 1, 0, 1, 2, 2, 2, 0, 1, 2, 1, 2, 2,\n",
       "        2, 2, 1, 2, 1, 2, 2, 1, 2, 2, 2, 0, 2, 1, 2, 2, 2, 1, 0, 2, 2, 0, 1, 1,\n",
       "        0, 0, 1, 2, 0, 1, 2, 1, 2, 2, 0, 0, 1, 2, 2, 0, 0, 2, 2, 2, 2, 1, 2, 0,\n",
       "        2, 1, 2, 2, 2, 1, 0, 2, 2, 2, 0, 0, 0, 2, 0, 2, 2, 2, 2, 2, 0, 2, 1, 1,\n",
       "        2, 0, 2, 2, 1, 2, 0, 0, 2, 1, 1, 0, 0, 2, 1, 1, 1, 2, 2, 2, 2, 0, 1, 2,\n",
       "        2, 2, 1, 2, 1, 2, 1, 1, 0, 2, 1, 2, 2, 0, 2, 2, 1, 2, 2, 1, 2, 2, 2, 2,\n",
       "        0, 0, 0, 2, 2, 2, 0, 0, 2, 1, 2, 1, 2, 2, 1, 2, 2, 2, 0, 2, 1, 2, 2, 2,\n",
       "        2, 2, 1, 0, 0, 0, 1, 2, 0, 2])"
      ]
     },
     "execution_count": 303,
     "metadata": {},
     "output_type": "execute_result"
    }
   ],
   "source": [
    "train_preds, *rest = classifier(Xtrain)\n",
    "train_preds.argmax(axis=1)"
   ]
  },
  {
   "cell_type": "code",
   "execution_count": 304,
   "id": "98f3075c-3c42-4103-86a1-509309309445",
   "metadata": {},
   "outputs": [
    {
     "data": {
      "text/plain": [
       "tensor(0.6357)"
      ]
     },
     "execution_count": 304,
     "metadata": {},
     "output_type": "execute_result"
    }
   ],
   "source": [
    "(torch.tensor([CATS.index(val) for val in ytrain]) == train_preds.argmax(axis=1)).float().mean()"
   ]
  },
  {
   "cell_type": "code",
   "execution_count": null,
   "id": "3ca5ad0c-7686-4c2d-9bdd-ebe63bc1b2a8",
   "metadata": {},
   "outputs": [],
   "source": []
  }
 ],
 "metadata": {
  "kernelspec": {
   "display_name": "Python 3 (ipykernel)",
   "language": "python",
   "name": "python3"
  },
  "language_info": {
   "codemirror_mode": {
    "name": "ipython",
    "version": 3
   },
   "file_extension": ".py",
   "mimetype": "text/x-python",
   "name": "python",
   "nbconvert_exporter": "python",
   "pygments_lexer": "ipython3",
   "version": "3.11.6"
  }
 },
 "nbformat": 4,
 "nbformat_minor": 5
}
