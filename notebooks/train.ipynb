{
 "cells": [
  {
   "cell_type": "code",
   "execution_count": 63,
   "id": "518dbb12-4466-4405-acdd-97b0f88f0a27",
   "metadata": {},
   "outputs": [],
   "source": [
    "# !pip install speechbrain==1.0.0\n",
    "# !pip install torch torchaudio"
   ]
  },
  {
   "cell_type": "code",
   "execution_count": 64,
   "id": "375f7164-40f9-466c-b68e-db27045335ff",
   "metadata": {},
   "outputs": [
    {
     "name": "stdout",
     "output_type": "stream",
     "text": [
      "Requirement already satisfied: audiosegment in /Users/jonas/Library/CloudStorage/OneDrive-UniversityofExeter/sound_recognition/api/.venv/lib/python3.12/site-packages (0.23.0)\n",
      "Requirement already satisfied: pydub in /Users/jonas/Library/CloudStorage/OneDrive-UniversityofExeter/sound_recognition/api/.venv/lib/python3.12/site-packages (from audiosegment) (0.25.1)\n",
      "Requirement already satisfied: webrtcvad in /Users/jonas/Library/CloudStorage/OneDrive-UniversityofExeter/sound_recognition/api/.venv/lib/python3.12/site-packages (from audiosegment) (2.0.10)\n",
      "Requirement already satisfied: numpy in /Users/jonas/Library/CloudStorage/OneDrive-UniversityofExeter/sound_recognition/api/.venv/lib/python3.12/site-packages (from audiosegment) (2.0.0)\n",
      "\n",
      "\u001b[1m[\u001b[0m\u001b[34;49mnotice\u001b[0m\u001b[1;39;49m]\u001b[0m\u001b[39;49m A new release of pip is available: \u001b[0m\u001b[31;49m23.3.1\u001b[0m\u001b[39;49m -> \u001b[0m\u001b[32;49m24.2\u001b[0m\n",
      "\u001b[1m[\u001b[0m\u001b[34;49mnotice\u001b[0m\u001b[1;39;49m]\u001b[0m\u001b[39;49m To update, run: \u001b[0m\u001b[32;49mpip install --upgrade pip\u001b[0m\n"
     ]
    }
   ],
   "source": [
    "# !pip install librosa \n",
    "#!pip install wonderwords\n"
   ]
  },
  {
   "cell_type": "markdown",
   "id": "15323714",
   "metadata": {},
   "source": [
    "from pathlib import Path \n",
    "from pydub import AudioSegment\n",
    "import glob\n",
    "from tqdm import tqdm\n",
    "import IPython.display as display\n",
    "from IPython.display import Audio\n",
    "import pandas as pd, numpy as np, matplotlib.pyplot as plt\n",
    "\n",
    "import torchaudio\n",
    "import librosa\n",
    "import librosa.display"
   ]
  },
  {
   "cell_type": "code",
   "execution_count": 112,
   "id": "86dd7742",
   "metadata": {},
   "outputs": [
    {
     "name": "stderr",
     "output_type": "stream",
     "text": [
      "/Users/jonas/Library/CloudStorage/OneDrive-UniversityofExeter/sound_recognition/api/.venv/lib/python3.12/site-packages/wonderwords/random_word.py:74: SyntaxWarning: invalid escape sequence '\\*'\n",
      "  \"\"\"The RandomWord class encapsulates multiple methods dealing with the\n"
     ]
    }
   ],
   "source": [
    "from pathlib import Path \n",
    "from pydub import AudioSegment\n",
    "import glob\n",
    "from tqdm import tqdm\n",
    "import IPython.display as display\n",
    "from IPython.display import Audio\n",
    "import pandas as pd, numpy as np, matplotlib.pyplot as plt\n",
    "import torchaudio\n",
    "import librosa\n",
    "import librosa.display\n",
    "import wonderwords"
   ]
  },
  {
   "cell_type": "code",
   "execution_count": 66,
   "id": "933e267c",
   "metadata": {},
   "outputs": [
    {
     "name": "stdout",
     "output_type": "stream",
     "text": [
      "/Users/jonas/Library/CloudStorage/OneDrive-UniversityofExeter/sound_recognition/data/g28_huawei/air/air_0.wav\n",
      "/Users/jonas/Library/CloudStorage/OneDrive-UniversityofExeter/sound_recognition/data/g28_huawei/air/air_1.wav\n",
      "/Users/jonas/Library/CloudStorage/OneDrive-UniversityofExeter/sound_recognition/data/g28_huawei/air/air_2.wav\n",
      "/Users/jonas/Library/CloudStorage/OneDrive-UniversityofExeter/sound_recognition/data/g28_huawei/air/air_3.wav\n",
      "/Users/jonas/Library/CloudStorage/OneDrive-UniversityofExeter/sound_recognition/data/g28_huawei/air/air_4.wav\n",
      "/Users/jonas/Library/CloudStorage/OneDrive-UniversityofExeter/sound_recognition/data/g28_huawei/air/air_5.wav\n",
      "/Users/jonas/Library/CloudStorage/OneDrive-UniversityofExeter/sound_recognition/data/g28_huawei/air/air_6.wav\n",
      "/Users/jonas/Library/CloudStorage/OneDrive-UniversityofExeter/sound_recognition/data/g28_huawei/air/air_7.wav\n",
      "/Users/jonas/Library/CloudStorage/OneDrive-UniversityofExeter/sound_recognition/data/g28_huawei/air/air_8.wav\n",
      "/Users/jonas/Library/CloudStorage/OneDrive-UniversityofExeter/sound_recognition/data/g28_huawei/air/air_9.wav\n",
      "/Users/jonas/Library/CloudStorage/OneDrive-UniversityofExeter/sound_recognition/data/g28_huawei/air/air_10.wav\n",
      "/Users/jonas/Library/CloudStorage/OneDrive-UniversityofExeter/sound_recognition/data/g28_huawei/air/air_11.wav\n",
      "/Users/jonas/Library/CloudStorage/OneDrive-UniversityofExeter/sound_recognition/data/g28_huawei/air/air_12.wav\n",
      "/Users/jonas/Library/CloudStorage/OneDrive-UniversityofExeter/sound_recognition/data/g28_huawei/air/air_13.wav\n",
      "/Users/jonas/Library/CloudStorage/OneDrive-UniversityofExeter/sound_recognition/data/g28_huawei/air/air_14.wav\n",
      "/Users/jonas/Library/CloudStorage/OneDrive-UniversityofExeter/sound_recognition/data/g28_huawei/air/air_15.wav\n",
      "/Users/jonas/Library/CloudStorage/OneDrive-UniversityofExeter/sound_recognition/data/g28_huawei/air/air_16.wav\n",
      "/Users/jonas/Library/CloudStorage/OneDrive-UniversityofExeter/sound_recognition/data/g28_huawei/air/air_17.wav\n",
      "/Users/jonas/Library/CloudStorage/OneDrive-UniversityofExeter/sound_recognition/data/g28_huawei/air/air_18.wav\n",
      "/Users/jonas/Library/CloudStorage/OneDrive-UniversityofExeter/sound_recognition/data/g28_huawei/air/air_19.wav\n",
      "/Users/jonas/Library/CloudStorage/OneDrive-UniversityofExeter/sound_recognition/data/g28_huawei/air/air_20.wav\n",
      "/Users/jonas/Library/CloudStorage/OneDrive-UniversityofExeter/sound_recognition/data/g28_huawei/air/air_21.wav\n",
      "/Users/jonas/Library/CloudStorage/OneDrive-UniversityofExeter/sound_recognition/data/g28_huawei/air/air_22.wav\n",
      "/Users/jonas/Library/CloudStorage/OneDrive-UniversityofExeter/sound_recognition/data/g28_huawei/air/air_23.wav\n",
      "/Users/jonas/Library/CloudStorage/OneDrive-UniversityofExeter/sound_recognition/data/g28_huawei/air/air_24.wav\n",
      "/Users/jonas/Library/CloudStorage/OneDrive-UniversityofExeter/sound_recognition/data/g28_huawei/air/air_25.wav\n",
      "/Users/jonas/Library/CloudStorage/OneDrive-UniversityofExeter/sound_recognition/data/g28_huawei/air/air_26.wav\n",
      "/Users/jonas/Library/CloudStorage/OneDrive-UniversityofExeter/sound_recognition/data/g28_huawei/air/air_27.wav\n",
      "/Users/jonas/Library/CloudStorage/OneDrive-UniversityofExeter/sound_recognition/data/g28_huawei/air/air_28.wav\n",
      "/Users/jonas/Library/CloudStorage/OneDrive-UniversityofExeter/sound_recognition/data/g28_huawei/air/air_29.wav\n",
      "/Users/jonas/Library/CloudStorage/OneDrive-UniversityofExeter/sound_recognition/data/g28_huawei/air/air_30.wav\n",
      "/Users/jonas/Library/CloudStorage/OneDrive-UniversityofExeter/sound_recognition/data/g28_huawei/vac/vac_0.wav\n",
      "/Users/jonas/Library/CloudStorage/OneDrive-UniversityofExeter/sound_recognition/data/g28_huawei/vac/vac_1.wav\n",
      "/Users/jonas/Library/CloudStorage/OneDrive-UniversityofExeter/sound_recognition/data/g28_huawei/vac/vac_2.wav\n",
      "/Users/jonas/Library/CloudStorage/OneDrive-UniversityofExeter/sound_recognition/data/g28_huawei/vac/vac_3.wav\n",
      "/Users/jonas/Library/CloudStorage/OneDrive-UniversityofExeter/sound_recognition/data/g28_huawei/vac/vac_4.wav\n",
      "/Users/jonas/Library/CloudStorage/OneDrive-UniversityofExeter/sound_recognition/data/g28_huawei/vac/vac_5.wav\n",
      "/Users/jonas/Library/CloudStorage/OneDrive-UniversityofExeter/sound_recognition/data/g28_huawei/vac/vac_6.wav\n",
      "/Users/jonas/Library/CloudStorage/OneDrive-UniversityofExeter/sound_recognition/data/g28_huawei/vac/vac_7.wav\n",
      "/Users/jonas/Library/CloudStorage/OneDrive-UniversityofExeter/sound_recognition/data/g28_huawei/vac/vac_8.wav\n",
      "/Users/jonas/Library/CloudStorage/OneDrive-UniversityofExeter/sound_recognition/data/g28_huawei/vac/vac_9.wav\n",
      "/Users/jonas/Library/CloudStorage/OneDrive-UniversityofExeter/sound_recognition/data/g28_huawei/vac/vac_10.wav\n",
      "/Users/jonas/Library/CloudStorage/OneDrive-UniversityofExeter/sound_recognition/data/g28_huawei/vac/vac_11.wav\n",
      "/Users/jonas/Library/CloudStorage/OneDrive-UniversityofExeter/sound_recognition/data/g28_huawei/vac/vac_12.wav\n",
      "/Users/jonas/Library/CloudStorage/OneDrive-UniversityofExeter/sound_recognition/data/g28_huawei/vac/vac_13.wav\n",
      "/Users/jonas/Library/CloudStorage/OneDrive-UniversityofExeter/sound_recognition/data/g28_huawei/vac/vac_14.wav\n",
      "/Users/jonas/Library/CloudStorage/OneDrive-UniversityofExeter/sound_recognition/data/g28_huawei/vac/vac_15.wav\n",
      "/Users/jonas/Library/CloudStorage/OneDrive-UniversityofExeter/sound_recognition/data/g28_huawei/vac/vac_16.wav\n",
      "/Users/jonas/Library/CloudStorage/OneDrive-UniversityofExeter/sound_recognition/data/g28_huawei/vac/vac_17.wav\n",
      "/Users/jonas/Library/CloudStorage/OneDrive-UniversityofExeter/sound_recognition/data/g28_huawei/vac/vac_18.wav\n",
      "/Users/jonas/Library/CloudStorage/OneDrive-UniversityofExeter/sound_recognition/data/g28_huawei/vac/vac_19.wav\n",
      "/Users/jonas/Library/CloudStorage/OneDrive-UniversityofExeter/sound_recognition/data/g28_huawei/vac/vac_20.wav\n",
      "/Users/jonas/Library/CloudStorage/OneDrive-UniversityofExeter/sound_recognition/data/g28_huawei/vac/vac_21.wav\n",
      "/Users/jonas/Library/CloudStorage/OneDrive-UniversityofExeter/sound_recognition/data/g28_huawei/vac/vac_22.wav\n",
      "/Users/jonas/Library/CloudStorage/OneDrive-UniversityofExeter/sound_recognition/data/g28_huawei/vac/vac_23.wav\n",
      "/Users/jonas/Library/CloudStorage/OneDrive-UniversityofExeter/sound_recognition/data/g28_huawei/vac/vac_24.wav\n",
      "/Users/jonas/Library/CloudStorage/OneDrive-UniversityofExeter/sound_recognition/data/g28_huawei/vac/vac_25.wav\n",
      "/Users/jonas/Library/CloudStorage/OneDrive-UniversityofExeter/sound_recognition/data/g28_huawei/vac/vac_26.wav\n",
      "/Users/jonas/Library/CloudStorage/OneDrive-UniversityofExeter/sound_recognition/data/g28_huawei/vac/vac_27.wav\n",
      "/Users/jonas/Library/CloudStorage/OneDrive-UniversityofExeter/sound_recognition/data/g28_huawei/vac/vac_28.wav\n",
      "/Users/jonas/Library/CloudStorage/OneDrive-UniversityofExeter/sound_recognition/data/g28_huawei/vac/vac_29.wav\n",
      "/Users/jonas/Library/CloudStorage/OneDrive-UniversityofExeter/sound_recognition/data/g28_huawei/vac/vac_30.wav\n",
      "/Users/jonas/Library/CloudStorage/OneDrive-UniversityofExeter/sound_recognition/data/g28_huawei/off/off_0.wav\n",
      "/Users/jonas/Library/CloudStorage/OneDrive-UniversityofExeter/sound_recognition/data/g28_huawei/off/off_1.wav\n",
      "/Users/jonas/Library/CloudStorage/OneDrive-UniversityofExeter/sound_recognition/data/g28_huawei/off/off_2.wav\n",
      "/Users/jonas/Library/CloudStorage/OneDrive-UniversityofExeter/sound_recognition/data/g28_huawei/off/off_3.wav\n",
      "/Users/jonas/Library/CloudStorage/OneDrive-UniversityofExeter/sound_recognition/data/g28_huawei/off/off_4.wav\n",
      "/Users/jonas/Library/CloudStorage/OneDrive-UniversityofExeter/sound_recognition/data/g28_huawei/off/off_5.wav\n",
      "/Users/jonas/Library/CloudStorage/OneDrive-UniversityofExeter/sound_recognition/data/g28_huawei/off/off_6.wav\n",
      "/Users/jonas/Library/CloudStorage/OneDrive-UniversityofExeter/sound_recognition/data/g28_huawei/off/off_7.wav\n",
      "/Users/jonas/Library/CloudStorage/OneDrive-UniversityofExeter/sound_recognition/data/g28_huawei/off/off_8.wav\n",
      "/Users/jonas/Library/CloudStorage/OneDrive-UniversityofExeter/sound_recognition/data/g28_huawei/off/off_9.wav\n",
      "/Users/jonas/Library/CloudStorage/OneDrive-UniversityofExeter/sound_recognition/data/g28_huawei/off/off_10.wav\n",
      "/Users/jonas/Library/CloudStorage/OneDrive-UniversityofExeter/sound_recognition/data/g28_huawei/off/off_11.wav\n",
      "/Users/jonas/Library/CloudStorage/OneDrive-UniversityofExeter/sound_recognition/data/g28_huawei/off/off_12.wav\n",
      "/Users/jonas/Library/CloudStorage/OneDrive-UniversityofExeter/sound_recognition/data/g28_huawei/off/off_13.wav\n",
      "/Users/jonas/Library/CloudStorage/OneDrive-UniversityofExeter/sound_recognition/data/g28_huawei/off/off_14.wav\n",
      "/Users/jonas/Library/CloudStorage/OneDrive-UniversityofExeter/sound_recognition/data/g28_huawei/off/off_15.wav\n",
      "/Users/jonas/Library/CloudStorage/OneDrive-UniversityofExeter/sound_recognition/data/g28_huawei/off/off_16.wav\n",
      "/Users/jonas/Library/CloudStorage/OneDrive-UniversityofExeter/sound_recognition/data/g28_huawei/off/off_17.wav\n",
      "/Users/jonas/Library/CloudStorage/OneDrive-UniversityofExeter/sound_recognition/data/g28_huawei/off/off_18.wav\n",
      "/Users/jonas/Library/CloudStorage/OneDrive-UniversityofExeter/sound_recognition/data/g28_huawei/off/off_19.wav\n",
      "/Users/jonas/Library/CloudStorage/OneDrive-UniversityofExeter/sound_recognition/data/g28_huawei/off/off_20.wav\n",
      "/Users/jonas/Library/CloudStorage/OneDrive-UniversityofExeter/sound_recognition/data/g28_huawei/off/off_21.wav\n",
      "/Users/jonas/Library/CloudStorage/OneDrive-UniversityofExeter/sound_recognition/data/g28_huawei/off/off_22.wav\n",
      "/Users/jonas/Library/CloudStorage/OneDrive-UniversityofExeter/sound_recognition/data/g28_huawei/off/off_23.wav\n",
      "/Users/jonas/Library/CloudStorage/OneDrive-UniversityofExeter/sound_recognition/data/g28_huawei/off/off_24.wav\n",
      "/Users/jonas/Library/CloudStorage/OneDrive-UniversityofExeter/sound_recognition/data/g28_huawei/off/off_25.wav\n",
      "/Users/jonas/Library/CloudStorage/OneDrive-UniversityofExeter/sound_recognition/data/g28_huawei/off/off_26.wav\n",
      "/Users/jonas/Library/CloudStorage/OneDrive-UniversityofExeter/sound_recognition/data/g28_huawei/off/off_27.wav\n",
      "/Users/jonas/Library/CloudStorage/OneDrive-UniversityofExeter/sound_recognition/data/g28_huawei/off/off_28.wav\n",
      "/Users/jonas/Library/CloudStorage/OneDrive-UniversityofExeter/sound_recognition/data/g28_huawei/off/off_29.wav\n",
      "/Users/jonas/Library/CloudStorage/OneDrive-UniversityofExeter/sound_recognition/data/g28_huawei/off/off_30.wav\n"
     ]
    }
   ],
   "source": [
    "# Run only if you havent already diced up the files\n",
    "\n",
    "import audiosegment\n",
    "\n",
    "states = ['air', 'vac', 'off']\n",
    "\n",
    "path = Path(\"/Users/jonas/Library/CloudStorage/OneDrive-UniversityofExeter/sound_recognition/data/g28_huawei/\")\n",
    "files = list(path.glob(\"*\"))\n",
    "\n",
    "for state in states:\n",
    "    file = list((path / state).glob(\"*.m4a\"))[0]\n",
    "    audio = audiosegment.from_file(file).dice(4)\n",
    "    for numb, aud in enumerate(audio):\n",
    "        name = f\"{state}_{numb}.wav\"\n",
    "        dirs = path / state / name\n",
    "        print(dirs)\n",
    "        aud.export(dirs , format='wav')"
   ]
  },
  {
   "cell_type": "markdown",
   "id": "db74c881-3839-44fd-b947-191c98ba0fa5",
   "metadata": {
    "jp-MarkdownHeadingCollapsed": true
   },
   "source": [
    "## Inspect training data "
   ]
  },
  {
   "cell_type": "code",
   "execution_count": 67,
   "id": "8d6180ac-441c-40bc-bef7-eb9837419cc8",
   "metadata": {},
   "outputs": [],
   "source": [
    "cats = ['air', 'vac', 'off']\n",
    "files_path = \"/Users/jonas/Library/CloudStorage/OneDrive-UniversityofExeter/sound_recognition/data/g28_huawei\"\n",
    "#files_path2 = \"/Users/jonas/Library/CloudStorage/OneDrive-UniversityofExeter/sound_recognition/g28\"\n",
    "\n",
    "path = Path(files_path)\n",
    "#path2 = Path(files_path2)\n",
    "\n",
    "files = []\n",
    "for p in path.rglob(\"*.wav\"):\n",
    "    files.append(str(p))\n",
    "    #files += glob.glob(f\"../data/{cls}/*.wav\")\n",
    "#for p in path2.rglob(\"*.wav\"):\n",
    "#    files.append(str(p))\n",
    "#    #files += glob.glob(f\"../data/{cls}/*.wav\")"
   ]
  },
  {
   "cell_type": "code",
   "execution_count": 68,
   "id": "6423dcd0",
   "metadata": {},
   "outputs": [
    {
     "name": "stdout",
     "output_type": "stream",
     "text": [
      "['/Users/jonas/Library/CloudStorage/OneDrive-UniversityofExeter/sound_recognition/data/g28_huawei/air/air_54.wav', '/Users/jonas/Library/CloudStorage/OneDrive-UniversityofExeter/sound_recognition/data/g28_huawei/air/air_40.wav', '/Users/jonas/Library/CloudStorage/OneDrive-UniversityofExeter/sound_recognition/data/g28_huawei/air/air_41.wav', '/Users/jonas/Library/CloudStorage/OneDrive-UniversityofExeter/sound_recognition/data/g28_huawei/air/air_55.wav', '/Users/jonas/Library/CloudStorage/OneDrive-UniversityofExeter/sound_recognition/data/g28_huawei/air/air_43.wav', '/Users/jonas/Library/CloudStorage/OneDrive-UniversityofExeter/sound_recognition/data/g28_huawei/air/air_57.wav', '/Users/jonas/Library/CloudStorage/OneDrive-UniversityofExeter/sound_recognition/data/g28_huawei/air/air_56.wav', '/Users/jonas/Library/CloudStorage/OneDrive-UniversityofExeter/sound_recognition/data/g28_huawei/air/air_42.wav', '/Users/jonas/Library/CloudStorage/OneDrive-UniversityofExeter/sound_recognition/data/g28_huawei/air/air_46.wav', '/Users/jonas/Library/CloudStorage/OneDrive-UniversityofExeter/sound_recognition/data/g28_huawei/air/air_52.wav', '/Users/jonas/Library/CloudStorage/OneDrive-UniversityofExeter/sound_recognition/data/g28_huawei/air/air_53.wav', '/Users/jonas/Library/CloudStorage/OneDrive-UniversityofExeter/sound_recognition/data/g28_huawei/air/air_47.wav', '/Users/jonas/Library/CloudStorage/OneDrive-UniversityofExeter/sound_recognition/data/g28_huawei/air/air_8.wav', '/Users/jonas/Library/CloudStorage/OneDrive-UniversityofExeter/sound_recognition/data/g28_huawei/air/air_51.wav', '/Users/jonas/Library/CloudStorage/OneDrive-UniversityofExeter/sound_recognition/data/g28_huawei/air/air_45.wav', '/Users/jonas/Library/CloudStorage/OneDrive-UniversityofExeter/sound_recognition/data/g28_huawei/air/air_44.wav', '/Users/jonas/Library/CloudStorage/OneDrive-UniversityofExeter/sound_recognition/data/g28_huawei/air/air_50.wav', '/Users/jonas/Library/CloudStorage/OneDrive-UniversityofExeter/sound_recognition/data/g28_huawei/air/air_9.wav', '/Users/jonas/Library/CloudStorage/OneDrive-UniversityofExeter/sound_recognition/data/g28_huawei/air/air_37.wav', '/Users/jonas/Library/CloudStorage/OneDrive-UniversityofExeter/sound_recognition/data/g28_huawei/air/air_23.wav', '/Users/jonas/Library/CloudStorage/OneDrive-UniversityofExeter/sound_recognition/data/g28_huawei/air/air_22.wav', '/Users/jonas/Library/CloudStorage/OneDrive-UniversityofExeter/sound_recognition/data/g28_huawei/air/air_36.wav', '/Users/jonas/Library/CloudStorage/OneDrive-UniversityofExeter/sound_recognition/data/g28_huawei/air/air_20.wav', '/Users/jonas/Library/CloudStorage/OneDrive-UniversityofExeter/sound_recognition/data/g28_huawei/air/air_34.wav', '/Users/jonas/Library/CloudStorage/OneDrive-UniversityofExeter/sound_recognition/data/g28_huawei/air/air_35.wav', '/Users/jonas/Library/CloudStorage/OneDrive-UniversityofExeter/sound_recognition/data/g28_huawei/air/air_21.wav', '/Users/jonas/Library/CloudStorage/OneDrive-UniversityofExeter/sound_recognition/data/g28_huawei/air/air_25.wav', '/Users/jonas/Library/CloudStorage/OneDrive-UniversityofExeter/sound_recognition/data/g28_huawei/air/air_31.wav', '/Users/jonas/Library/CloudStorage/OneDrive-UniversityofExeter/sound_recognition/data/g28_huawei/air/air_19.wav', '/Users/jonas/Library/CloudStorage/OneDrive-UniversityofExeter/sound_recognition/data/g28_huawei/air/air_18.wav', '/Users/jonas/Library/CloudStorage/OneDrive-UniversityofExeter/sound_recognition/data/g28_huawei/air/air_30.wav', '/Users/jonas/Library/CloudStorage/OneDrive-UniversityofExeter/sound_recognition/data/g28_huawei/air/air_24.wav', '/Users/jonas/Library/CloudStorage/OneDrive-UniversityofExeter/sound_recognition/data/g28_huawei/air/air_32.wav', '/Users/jonas/Library/CloudStorage/OneDrive-UniversityofExeter/sound_recognition/data/g28_huawei/air/air_26.wav', '/Users/jonas/Library/CloudStorage/OneDrive-UniversityofExeter/sound_recognition/data/g28_huawei/air/air_27.wav', '/Users/jonas/Library/CloudStorage/OneDrive-UniversityofExeter/sound_recognition/data/g28_huawei/air/air_33.wav', '/Users/jonas/Library/CloudStorage/OneDrive-UniversityofExeter/sound_recognition/data/g28_huawei/air/air_16.wav', '/Users/jonas/Library/CloudStorage/OneDrive-UniversityofExeter/sound_recognition/data/g28_huawei/air/air_17.wav', '/Users/jonas/Library/CloudStorage/OneDrive-UniversityofExeter/sound_recognition/data/g28_huawei/air/air_29.wav', '/Users/jonas/Library/CloudStorage/OneDrive-UniversityofExeter/sound_recognition/data/g28_huawei/air/air_15.wav', '/Users/jonas/Library/CloudStorage/OneDrive-UniversityofExeter/sound_recognition/data/g28_huawei/air/air_14.wav', '/Users/jonas/Library/CloudStorage/OneDrive-UniversityofExeter/sound_recognition/data/g28_huawei/air/air_28.wav', '/Users/jonas/Library/CloudStorage/OneDrive-UniversityofExeter/sound_recognition/data/g28_huawei/air/air_10.wav', '/Users/jonas/Library/CloudStorage/OneDrive-UniversityofExeter/sound_recognition/data/g28_huawei/air/air_38.wav', '/Users/jonas/Library/CloudStorage/OneDrive-UniversityofExeter/sound_recognition/data/g28_huawei/air/air_39.wav', '/Users/jonas/Library/CloudStorage/OneDrive-UniversityofExeter/sound_recognition/data/g28_huawei/air/air_11.wav', '/Users/jonas/Library/CloudStorage/OneDrive-UniversityofExeter/sound_recognition/data/g28_huawei/air/air_13.wav', '/Users/jonas/Library/CloudStorage/OneDrive-UniversityofExeter/sound_recognition/data/g28_huawei/air/air_12.wav', '/Users/jonas/Library/CloudStorage/OneDrive-UniversityofExeter/sound_recognition/data/g28_huawei/air/air_4.wav', '/Users/jonas/Library/CloudStorage/OneDrive-UniversityofExeter/sound_recognition/data/g28_huawei/air/air_49.wav', '/Users/jonas/Library/CloudStorage/OneDrive-UniversityofExeter/sound_recognition/data/g28_huawei/air/air_61.wav', '/Users/jonas/Library/CloudStorage/OneDrive-UniversityofExeter/sound_recognition/data/g28_huawei/air/air_60.wav', '/Users/jonas/Library/CloudStorage/OneDrive-UniversityofExeter/sound_recognition/data/g28_huawei/air/air_48.wav', '/Users/jonas/Library/CloudStorage/OneDrive-UniversityofExeter/sound_recognition/data/g28_huawei/air/air_5.wav', '/Users/jonas/Library/CloudStorage/OneDrive-UniversityofExeter/sound_recognition/data/g28_huawei/air/air_7.wav', '/Users/jonas/Library/CloudStorage/OneDrive-UniversityofExeter/sound_recognition/data/g28_huawei/air/air_6.wav', '/Users/jonas/Library/CloudStorage/OneDrive-UniversityofExeter/sound_recognition/data/g28_huawei/air/air_2.wav', '/Users/jonas/Library/CloudStorage/OneDrive-UniversityofExeter/sound_recognition/data/g28_huawei/air/air_3.wav', '/Users/jonas/Library/CloudStorage/OneDrive-UniversityofExeter/sound_recognition/data/g28_huawei/air/air_1.wav', '/Users/jonas/Library/CloudStorage/OneDrive-UniversityofExeter/sound_recognition/data/g28_huawei/air/air_58.wav', '/Users/jonas/Library/CloudStorage/OneDrive-UniversityofExeter/sound_recognition/data/g28_huawei/air/air_59.wav', '/Users/jonas/Library/CloudStorage/OneDrive-UniversityofExeter/sound_recognition/data/g28_huawei/air/air_0.wav', '/Users/jonas/Library/CloudStorage/OneDrive-UniversityofExeter/sound_recognition/data/g28_huawei/vac/vac_37.wav', '/Users/jonas/Library/CloudStorage/OneDrive-UniversityofExeter/sound_recognition/data/g28_huawei/vac/vac_23.wav', '/Users/jonas/Library/CloudStorage/OneDrive-UniversityofExeter/sound_recognition/data/g28_huawei/vac/vac_7.wav', '/Users/jonas/Library/CloudStorage/OneDrive-UniversityofExeter/sound_recognition/data/g28_huawei/vac/vac_6.wav', '/Users/jonas/Library/CloudStorage/OneDrive-UniversityofExeter/sound_recognition/data/g28_huawei/vac/vac_22.wav', '/Users/jonas/Library/CloudStorage/OneDrive-UniversityofExeter/sound_recognition/data/g28_huawei/vac/vac_36.wav', '/Users/jonas/Library/CloudStorage/OneDrive-UniversityofExeter/sound_recognition/data/g28_huawei/vac/vac_20.wav', '/Users/jonas/Library/CloudStorage/OneDrive-UniversityofExeter/sound_recognition/data/g28_huawei/vac/vac_34.wav', '/Users/jonas/Library/CloudStorage/OneDrive-UniversityofExeter/sound_recognition/data/g28_huawei/vac/vac_4.wav', '/Users/jonas/Library/CloudStorage/OneDrive-UniversityofExeter/sound_recognition/data/g28_huawei/vac/vac_5.wav', '/Users/jonas/Library/CloudStorage/OneDrive-UniversityofExeter/sound_recognition/data/g28_huawei/vac/vac_35.wav', '/Users/jonas/Library/CloudStorage/OneDrive-UniversityofExeter/sound_recognition/data/g28_huawei/vac/vac_21.wav', '/Users/jonas/Library/CloudStorage/OneDrive-UniversityofExeter/sound_recognition/data/g28_huawei/vac/vac_19.wav', '/Users/jonas/Library/CloudStorage/OneDrive-UniversityofExeter/sound_recognition/data/g28_huawei/vac/vac_25.wav', '/Users/jonas/Library/CloudStorage/OneDrive-UniversityofExeter/sound_recognition/data/g28_huawei/vac/vac_31.wav', '/Users/jonas/Library/CloudStorage/OneDrive-UniversityofExeter/sound_recognition/data/g28_huawei/vac/vac_1.wav', '/Users/jonas/Library/CloudStorage/OneDrive-UniversityofExeter/sound_recognition/data/g28_huawei/vac/vac_0.wav', '/Users/jonas/Library/CloudStorage/OneDrive-UniversityofExeter/sound_recognition/data/g28_huawei/vac/vac_30.wav', '/Users/jonas/Library/CloudStorage/OneDrive-UniversityofExeter/sound_recognition/data/g28_huawei/vac/vac_24.wav', '/Users/jonas/Library/CloudStorage/OneDrive-UniversityofExeter/sound_recognition/data/g28_huawei/vac/vac_18.wav', '/Users/jonas/Library/CloudStorage/OneDrive-UniversityofExeter/sound_recognition/data/g28_huawei/vac/vac_32.wav', '/Users/jonas/Library/CloudStorage/OneDrive-UniversityofExeter/sound_recognition/data/g28_huawei/vac/vac_26.wav', '/Users/jonas/Library/CloudStorage/OneDrive-UniversityofExeter/sound_recognition/data/g28_huawei/vac/vac_2.wav', '/Users/jonas/Library/CloudStorage/OneDrive-UniversityofExeter/sound_recognition/data/g28_huawei/vac/vac_3.wav', '/Users/jonas/Library/CloudStorage/OneDrive-UniversityofExeter/sound_recognition/data/g28_huawei/vac/vac_27.wav', '/Users/jonas/Library/CloudStorage/OneDrive-UniversityofExeter/sound_recognition/data/g28_huawei/vac/vac_33.wav', '/Users/jonas/Library/CloudStorage/OneDrive-UniversityofExeter/sound_recognition/data/g28_huawei/vac/vac_54.wav', '/Users/jonas/Library/CloudStorage/OneDrive-UniversityofExeter/sound_recognition/data/g28_huawei/vac/vac_40.wav', '/Users/jonas/Library/CloudStorage/OneDrive-UniversityofExeter/sound_recognition/data/g28_huawei/vac/vac_41.wav', '/Users/jonas/Library/CloudStorage/OneDrive-UniversityofExeter/sound_recognition/data/g28_huawei/vac/vac_55.wav', '/Users/jonas/Library/CloudStorage/OneDrive-UniversityofExeter/sound_recognition/data/g28_huawei/vac/vac_43.wav', '/Users/jonas/Library/CloudStorage/OneDrive-UniversityofExeter/sound_recognition/data/g28_huawei/vac/vac_57.wav', '/Users/jonas/Library/CloudStorage/OneDrive-UniversityofExeter/sound_recognition/data/g28_huawei/vac/vac_56.wav', '/Users/jonas/Library/CloudStorage/OneDrive-UniversityofExeter/sound_recognition/data/g28_huawei/vac/vac_42.wav', '/Users/jonas/Library/CloudStorage/OneDrive-UniversityofExeter/sound_recognition/data/g28_huawei/vac/vac_46.wav', '/Users/jonas/Library/CloudStorage/OneDrive-UniversityofExeter/sound_recognition/data/g28_huawei/vac/vac_52.wav', '/Users/jonas/Library/CloudStorage/OneDrive-UniversityofExeter/sound_recognition/data/g28_huawei/vac/vac_53.wav', '/Users/jonas/Library/CloudStorage/OneDrive-UniversityofExeter/sound_recognition/data/g28_huawei/vac/vac_47.wav', '/Users/jonas/Library/CloudStorage/OneDrive-UniversityofExeter/sound_recognition/data/g28_huawei/vac/vac_51.wav', '/Users/jonas/Library/CloudStorage/OneDrive-UniversityofExeter/sound_recognition/data/g28_huawei/vac/vac_45.wav', '/Users/jonas/Library/CloudStorage/OneDrive-UniversityofExeter/sound_recognition/data/g28_huawei/vac/vac_44.wav', '/Users/jonas/Library/CloudStorage/OneDrive-UniversityofExeter/sound_recognition/data/g28_huawei/vac/vac_50.wav', '/Users/jonas/Library/CloudStorage/OneDrive-UniversityofExeter/sound_recognition/data/g28_huawei/vac/vac_61.wav', '/Users/jonas/Library/CloudStorage/OneDrive-UniversityofExeter/sound_recognition/data/g28_huawei/vac/vac_49.wav', '/Users/jonas/Library/CloudStorage/OneDrive-UniversityofExeter/sound_recognition/data/g28_huawei/vac/vac_48.wav', '/Users/jonas/Library/CloudStorage/OneDrive-UniversityofExeter/sound_recognition/data/g28_huawei/vac/vac_60.wav', '/Users/jonas/Library/CloudStorage/OneDrive-UniversityofExeter/sound_recognition/data/g28_huawei/vac/vac_58.wav', '/Users/jonas/Library/CloudStorage/OneDrive-UniversityofExeter/sound_recognition/data/g28_huawei/vac/vac_59.wav', '/Users/jonas/Library/CloudStorage/OneDrive-UniversityofExeter/sound_recognition/data/g28_huawei/vac/vac_16.wav', '/Users/jonas/Library/CloudStorage/OneDrive-UniversityofExeter/sound_recognition/data/g28_huawei/vac/vac_17.wav', '/Users/jonas/Library/CloudStorage/OneDrive-UniversityofExeter/sound_recognition/data/g28_huawei/vac/vac_15.wav', '/Users/jonas/Library/CloudStorage/OneDrive-UniversityofExeter/sound_recognition/data/g28_huawei/vac/vac_29.wav', '/Users/jonas/Library/CloudStorage/OneDrive-UniversityofExeter/sound_recognition/data/g28_huawei/vac/vac_28.wav', '/Users/jonas/Library/CloudStorage/OneDrive-UniversityofExeter/sound_recognition/data/g28_huawei/vac/vac_14.wav', '/Users/jonas/Library/CloudStorage/OneDrive-UniversityofExeter/sound_recognition/data/g28_huawei/vac/vac_38.wav', '/Users/jonas/Library/CloudStorage/OneDrive-UniversityofExeter/sound_recognition/data/g28_huawei/vac/vac_10.wav', '/Users/jonas/Library/CloudStorage/OneDrive-UniversityofExeter/sound_recognition/data/g28_huawei/vac/vac_8.wav', '/Users/jonas/Library/CloudStorage/OneDrive-UniversityofExeter/sound_recognition/data/g28_huawei/vac/vac_9.wav', '/Users/jonas/Library/CloudStorage/OneDrive-UniversityofExeter/sound_recognition/data/g28_huawei/vac/vac_11.wav', '/Users/jonas/Library/CloudStorage/OneDrive-UniversityofExeter/sound_recognition/data/g28_huawei/vac/vac_39.wav', '/Users/jonas/Library/CloudStorage/OneDrive-UniversityofExeter/sound_recognition/data/g28_huawei/vac/vac_13.wav', '/Users/jonas/Library/CloudStorage/OneDrive-UniversityofExeter/sound_recognition/data/g28_huawei/vac/vac_12.wav', '/Users/jonas/Library/CloudStorage/OneDrive-UniversityofExeter/sound_recognition/data/g28_huawei/off/off_26.wav', '/Users/jonas/Library/CloudStorage/OneDrive-UniversityofExeter/sound_recognition/data/g28_huawei/off/off_32.wav', '/Users/jonas/Library/CloudStorage/OneDrive-UniversityofExeter/sound_recognition/data/g28_huawei/off/off_33.wav', '/Users/jonas/Library/CloudStorage/OneDrive-UniversityofExeter/sound_recognition/data/g28_huawei/off/off_27.wav', '/Users/jonas/Library/CloudStorage/OneDrive-UniversityofExeter/sound_recognition/data/g28_huawei/off/off_31.wav', '/Users/jonas/Library/CloudStorage/OneDrive-UniversityofExeter/sound_recognition/data/g28_huawei/off/off_25.wav', '/Users/jonas/Library/CloudStorage/OneDrive-UniversityofExeter/sound_recognition/data/g28_huawei/off/off_19.wav', '/Users/jonas/Library/CloudStorage/OneDrive-UniversityofExeter/sound_recognition/data/g28_huawei/off/off_18.wav', '/Users/jonas/Library/CloudStorage/OneDrive-UniversityofExeter/sound_recognition/data/g28_huawei/off/off_24.wav', '/Users/jonas/Library/CloudStorage/OneDrive-UniversityofExeter/sound_recognition/data/g28_huawei/off/off_30.wav', '/Users/jonas/Library/CloudStorage/OneDrive-UniversityofExeter/sound_recognition/data/g28_huawei/off/off_34.wav', '/Users/jonas/Library/CloudStorage/OneDrive-UniversityofExeter/sound_recognition/data/g28_huawei/off/off_20.wav', '/Users/jonas/Library/CloudStorage/OneDrive-UniversityofExeter/sound_recognition/data/g28_huawei/off/off_21.wav', '/Users/jonas/Library/CloudStorage/OneDrive-UniversityofExeter/sound_recognition/data/g28_huawei/off/off_35.wav', '/Users/jonas/Library/CloudStorage/OneDrive-UniversityofExeter/sound_recognition/data/g28_huawei/off/off_23.wav', '/Users/jonas/Library/CloudStorage/OneDrive-UniversityofExeter/sound_recognition/data/g28_huawei/off/off_37.wav', '/Users/jonas/Library/CloudStorage/OneDrive-UniversityofExeter/sound_recognition/data/g28_huawei/off/off_36.wav', '/Users/jonas/Library/CloudStorage/OneDrive-UniversityofExeter/sound_recognition/data/g28_huawei/off/off_22.wav', '/Users/jonas/Library/CloudStorage/OneDrive-UniversityofExeter/sound_recognition/data/g28_huawei/off/off_45.wav', '/Users/jonas/Library/CloudStorage/OneDrive-UniversityofExeter/sound_recognition/data/g28_huawei/off/off_51.wav', '/Users/jonas/Library/CloudStorage/OneDrive-UniversityofExeter/sound_recognition/data/g28_huawei/off/off_7.wav', '/Users/jonas/Library/CloudStorage/OneDrive-UniversityofExeter/sound_recognition/data/g28_huawei/off/off_6.wav', '/Users/jonas/Library/CloudStorage/OneDrive-UniversityofExeter/sound_recognition/data/g28_huawei/off/off_50.wav', '/Users/jonas/Library/CloudStorage/OneDrive-UniversityofExeter/sound_recognition/data/g28_huawei/off/off_44.wav', '/Users/jonas/Library/CloudStorage/OneDrive-UniversityofExeter/sound_recognition/data/g28_huawei/off/off_52.wav', '/Users/jonas/Library/CloudStorage/OneDrive-UniversityofExeter/sound_recognition/data/g28_huawei/off/off_46.wav', '/Users/jonas/Library/CloudStorage/OneDrive-UniversityofExeter/sound_recognition/data/g28_huawei/off/off_4.wav', '/Users/jonas/Library/CloudStorage/OneDrive-UniversityofExeter/sound_recognition/data/g28_huawei/off/off_5.wav', '/Users/jonas/Library/CloudStorage/OneDrive-UniversityofExeter/sound_recognition/data/g28_huawei/off/off_47.wav', '/Users/jonas/Library/CloudStorage/OneDrive-UniversityofExeter/sound_recognition/data/g28_huawei/off/off_53.wav', '/Users/jonas/Library/CloudStorage/OneDrive-UniversityofExeter/sound_recognition/data/g28_huawei/off/off_57.wav', '/Users/jonas/Library/CloudStorage/OneDrive-UniversityofExeter/sound_recognition/data/g28_huawei/off/off_43.wav', '/Users/jonas/Library/CloudStorage/OneDrive-UniversityofExeter/sound_recognition/data/g28_huawei/off/off_1.wav', '/Users/jonas/Library/CloudStorage/OneDrive-UniversityofExeter/sound_recognition/data/g28_huawei/off/off_0.wav', '/Users/jonas/Library/CloudStorage/OneDrive-UniversityofExeter/sound_recognition/data/g28_huawei/off/off_42.wav', '/Users/jonas/Library/CloudStorage/OneDrive-UniversityofExeter/sound_recognition/data/g28_huawei/off/off_56.wav', '/Users/jonas/Library/CloudStorage/OneDrive-UniversityofExeter/sound_recognition/data/g28_huawei/off/off_40.wav', '/Users/jonas/Library/CloudStorage/OneDrive-UniversityofExeter/sound_recognition/data/g28_huawei/off/off_54.wav', '/Users/jonas/Library/CloudStorage/OneDrive-UniversityofExeter/sound_recognition/data/g28_huawei/off/off_2.wav', '/Users/jonas/Library/CloudStorage/OneDrive-UniversityofExeter/sound_recognition/data/g28_huawei/off/off_3.wav', '/Users/jonas/Library/CloudStorage/OneDrive-UniversityofExeter/sound_recognition/data/g28_huawei/off/off_55.wav', '/Users/jonas/Library/CloudStorage/OneDrive-UniversityofExeter/sound_recognition/data/g28_huawei/off/off_41.wav', '/Users/jonas/Library/CloudStorage/OneDrive-UniversityofExeter/sound_recognition/data/g28_huawei/off/off_58.wav', '/Users/jonas/Library/CloudStorage/OneDrive-UniversityofExeter/sound_recognition/data/g28_huawei/off/off_59.wav', '/Users/jonas/Library/CloudStorage/OneDrive-UniversityofExeter/sound_recognition/data/g28_huawei/off/off_8.wav', '/Users/jonas/Library/CloudStorage/OneDrive-UniversityofExeter/sound_recognition/data/g28_huawei/off/off_9.wav', '/Users/jonas/Library/CloudStorage/OneDrive-UniversityofExeter/sound_recognition/data/g28_huawei/off/off_49.wav', '/Users/jonas/Library/CloudStorage/OneDrive-UniversityofExeter/sound_recognition/data/g28_huawei/off/off_61.wav', '/Users/jonas/Library/CloudStorage/OneDrive-UniversityofExeter/sound_recognition/data/g28_huawei/off/off_60.wav', '/Users/jonas/Library/CloudStorage/OneDrive-UniversityofExeter/sound_recognition/data/g28_huawei/off/off_48.wav', '/Users/jonas/Library/CloudStorage/OneDrive-UniversityofExeter/sound_recognition/data/g28_huawei/off/off_13.wav', '/Users/jonas/Library/CloudStorage/OneDrive-UniversityofExeter/sound_recognition/data/g28_huawei/off/off_12.wav', '/Users/jonas/Library/CloudStorage/OneDrive-UniversityofExeter/sound_recognition/data/g28_huawei/off/off_10.wav', '/Users/jonas/Library/CloudStorage/OneDrive-UniversityofExeter/sound_recognition/data/g28_huawei/off/off_38.wav', '/Users/jonas/Library/CloudStorage/OneDrive-UniversityofExeter/sound_recognition/data/g28_huawei/off/off_39.wav', '/Users/jonas/Library/CloudStorage/OneDrive-UniversityofExeter/sound_recognition/data/g28_huawei/off/off_11.wav', '/Users/jonas/Library/CloudStorage/OneDrive-UniversityofExeter/sound_recognition/data/g28_huawei/off/off_29.wav', '/Users/jonas/Library/CloudStorage/OneDrive-UniversityofExeter/sound_recognition/data/g28_huawei/off/off_15.wav', '/Users/jonas/Library/CloudStorage/OneDrive-UniversityofExeter/sound_recognition/data/g28_huawei/off/off_14.wav', '/Users/jonas/Library/CloudStorage/OneDrive-UniversityofExeter/sound_recognition/data/g28_huawei/off/off_28.wav', '/Users/jonas/Library/CloudStorage/OneDrive-UniversityofExeter/sound_recognition/data/g28_huawei/off/off_16.wav', '/Users/jonas/Library/CloudStorage/OneDrive-UniversityofExeter/sound_recognition/data/g28_huawei/off/off_17.wav']\n"
     ]
    }
   ],
   "source": [
    "print(files)"
   ]
  },
  {
   "cell_type": "code",
   "execution_count": 69,
   "id": "b8c6dd63-ec9a-486b-9aa0-ea862701f6ce",
   "metadata": {},
   "outputs": [
    {
     "data": {
      "text/html": [
       "<div>\n",
       "<style scoped>\n",
       "    .dataframe tbody tr th:only-of-type {\n",
       "        vertical-align: middle;\n",
       "    }\n",
       "\n",
       "    .dataframe tbody tr th {\n",
       "        vertical-align: top;\n",
       "    }\n",
       "\n",
       "    .dataframe thead th {\n",
       "        text-align: right;\n",
       "    }\n",
       "</style>\n",
       "<table border=\"1\" class=\"dataframe\">\n",
       "  <thead>\n",
       "    <tr style=\"text-align: right;\">\n",
       "      <th></th>\n",
       "      <th>filepath</th>\n",
       "      <th>label</th>\n",
       "      <th>name</th>\n",
       "      <th>duration</th>\n",
       "    </tr>\n",
       "  </thead>\n",
       "  <tbody>\n",
       "    <tr>\n",
       "      <th>18</th>\n",
       "      <td>/Users/jonas/Library/CloudStorage/OneDrive-Uni...</td>\n",
       "      <td>air</td>\n",
       "      <td>air_37.wav</td>\n",
       "      <td>4.0</td>\n",
       "    </tr>\n",
       "    <tr>\n",
       "      <th>173</th>\n",
       "      <td>/Users/jonas/Library/CloudStorage/OneDrive-Uni...</td>\n",
       "      <td>off</td>\n",
       "      <td>off_48.wav</td>\n",
       "      <td>4.0</td>\n",
       "    </tr>\n",
       "    <tr>\n",
       "      <th>14</th>\n",
       "      <td>/Users/jonas/Library/CloudStorage/OneDrive-Uni...</td>\n",
       "      <td>air</td>\n",
       "      <td>air_45.wav</td>\n",
       "      <td>4.0</td>\n",
       "    </tr>\n",
       "    <tr>\n",
       "      <th>82</th>\n",
       "      <td>/Users/jonas/Library/CloudStorage/OneDrive-Uni...</td>\n",
       "      <td>vac</td>\n",
       "      <td>vac_32.wav</td>\n",
       "      <td>4.0</td>\n",
       "    </tr>\n",
       "    <tr>\n",
       "      <th>110</th>\n",
       "      <td>/Users/jonas/Library/CloudStorage/OneDrive-Uni...</td>\n",
       "      <td>vac</td>\n",
       "      <td>vac_16.wav</td>\n",
       "      <td>4.0</td>\n",
       "    </tr>\n",
       "  </tbody>\n",
       "</table>\n",
       "</div>"
      ],
      "text/plain": [
       "                                              filepath label        name  \\\n",
       "18   /Users/jonas/Library/CloudStorage/OneDrive-Uni...   air  air_37.wav   \n",
       "173  /Users/jonas/Library/CloudStorage/OneDrive-Uni...   off  off_48.wav   \n",
       "14   /Users/jonas/Library/CloudStorage/OneDrive-Uni...   air  air_45.wav   \n",
       "82   /Users/jonas/Library/CloudStorage/OneDrive-Uni...   vac  vac_32.wav   \n",
       "110  /Users/jonas/Library/CloudStorage/OneDrive-Uni...   vac  vac_16.wav   \n",
       "\n",
       "     duration  \n",
       "18        4.0  \n",
       "173       4.0  \n",
       "14        4.0  \n",
       "82        4.0  \n",
       "110       4.0  "
      ]
     },
     "execution_count": 69,
     "metadata": {},
     "output_type": "execute_result"
    }
   ],
   "source": [
    "df = pd.DataFrame(dict(filepath=files))\n",
    "df[\"label\"] = df.filepath.apply(lambda x: Path(x).parent.name)\n",
    "df[\"name\"] = df.filepath.apply(lambda x: Path(x).name)\n",
    "df[\"duration\"] = df.filepath.apply(lambda x: librosa.get_duration(path=x))\n",
    "df.sample(5)"
   ]
  },
  {
   "cell_type": "code",
   "execution_count": 70,
   "id": "3e336f4e-6aca-4261-9070-ef8db382ed3a",
   "metadata": {},
   "outputs": [
    {
     "data": {
      "text/plain": [
       "duration\n",
       "4.0    180\n",
       "Name: count, dtype: int64"
      ]
     },
     "execution_count": 70,
     "metadata": {},
     "output_type": "execute_result"
    }
   ],
   "source": [
    "# drop samples that are to short in duration (< 3.5 secs)\n",
    "df = df.drop(df[(df.duration < 3.99)].index)\n",
    "df.duration.value_counts()"
   ]
  },
  {
   "cell_type": "code",
   "execution_count": 71,
   "id": "e25783d7",
   "metadata": {},
   "outputs": [],
   "source": [
    "# Drop the first sample in all categories\n",
    "# as first sample often has silence in it\n",
    "#df_0 = df[df.name.str.contains(\"_0.wav\")]\n",
    "df = df[~df.name.str.contains(\"_0.wav\")]\n",
    "df = df[~df.name.str.contains(\"_31.wav\")]\n"
   ]
  },
  {
   "cell_type": "code",
   "execution_count": 72,
   "id": "edf66cb7",
   "metadata": {},
   "outputs": [
    {
     "data": {
      "text/plain": [
       "label\n",
       "air    58\n",
       "vac    58\n",
       "off    58\n",
       "Name: count, dtype: int64"
      ]
     },
     "execution_count": 72,
     "metadata": {},
     "output_type": "execute_result"
    }
   ],
   "source": [
    "df.label.value_counts()"
   ]
  },
  {
   "cell_type": "code",
   "execution_count": 73,
   "id": "42278b54-1381-4086-bbdc-153bd51b6515",
   "metadata": {},
   "outputs": [],
   "source": [
    "def get_sample_of(cls: str, random_state=None):\n",
    "    return df[df.label == cls].sample(random_state=random_state).iloc[0]\n",
    "    \n",
    "def play_sample(sample):\n",
    "    print(sample.filepath, sample.label)\n",
    "    return display.Audio(sample.filepath, autoplay=True)\n",
    "\n",
    "def play_sample_of(cls: str, random_state=None):\n",
    "    sample = get_sample_of(cls, random_state)\n",
    "    return play_sample(sample)"
   ]
  },
  {
   "cell_type": "code",
   "execution_count": 169,
   "id": "67ad43ae-7a10-45ab-9d44-b2ed7b66834a",
   "metadata": {},
   "outputs": [],
   "source": [
    "def plot_spectrogram(filepath, title=None):\n",
    "    y, sr = librosa.load(filepath)\n",
    "    duration = librosa.get_duration(y=y, sr=sr)\n",
    "    S = librosa.feature.melspectrogram(y=y, sr=sr)\n",
    "    S_dB = librosa.power_to_db(S, ref=np.max)\n",
    "    plt.figure(figsize=(10, 4))\n",
    "    librosa.display.specshow(S_dB, x_axis='time', y_axis='mel', sr=sr, fmax=8000)\n",
    "    plt.colorbar(format='%+2.0f dB')\n",
    "    plt.title(f'Mel-frequency spectrogram ({title} ({duration}))')\n",
    "    plt.tight_layout()\n",
    "    plt.show()\n",
    "\n",
    "def show_sample(sample, **kwargs):\n",
    "    plot_spectrogram(sample.filepath, **kwargs)\n",
    "\n",
    "def show_sample_of(cls: str, random_state=None):\n",
    "    sample = get_sample_of(cls, random_state)\n",
    "    return show_sample(sample)"
   ]
  },
  {
   "cell_type": "code",
   "execution_count": 170,
   "id": "5500ede9",
   "metadata": {},
   "outputs": [
    {
     "name": "stderr",
     "output_type": "stream",
     "text": [
      "/var/folders/20/v5qs226j45jcs30s4fxf1b5c0000gn/T/ipykernel_93087/22297144.py:2: UserWarning: PySoundFile failed. Trying audioread instead.\n",
      "  y, sr = librosa.load(filepath)\n",
      "/Users/jonas/Library/CloudStorage/OneDrive-UniversityofExeter/sound_recognition/api/.venv/lib/python3.12/site-packages/librosa/core/audio.py:184: FutureWarning: librosa.core.audio.__audioread_load\n",
      "\tDeprecated as of librosa version 0.10.0.\n",
      "\tIt will be removed in librosa version 1.0.\n",
      "  y, sr_native = __audioread_load(path, offset, duration, dtype)\n"
     ]
    },
    {
     "data": {
      "image/png": "[encoded data removed]",
      "text/plain": [
       "<Figure size 1000x400 with 2 Axes>"
      ]
     },
     "metadata": {},
     "output_type": "display_data"
    }
   ],
   "source": [
    "plot_spectrogram(\"/Users/jonas/Library/CloudStorage/OneDrive-UniversityofExeter/sound_recognition/data/debug/debug_debug_test_mon_1728562429428.m4a\", \"air\")"
   ]
  },
  {
   "cell_type": "code",
   "execution_count": 171,
   "id": "e3cff06b",
   "metadata": {},
   "outputs": [
    {
     "name": "stderr",
     "output_type": "stream",
     "text": [
      "/var/folders/20/v5qs226j45jcs30s4fxf1b5c0000gn/T/ipykernel_93087/22297144.py:2: UserWarning: PySoundFile failed. Trying audioread instead.\n",
      "  y, sr = librosa.load(filepath)\n"
     ]
    },
    {
     "data": {
      "image/png": "[encoded data removed]",
      "text/plain": [
       "<Figure size 1000x400 with 2 Axes>"
      ]
     },
     "metadata": {},
     "output_type": "display_data"
    }
   ],
   "source": [
    "plot_spectrogram(\"/Users/jonas/Library/CloudStorage/OneDrive-UniversityofExeter/sound_recognition/data/debug/debug_debug_test_mon_1728562669419.m4a\", \"vac\")\n",
    "\n"
   ]
  },
  {
   "cell_type": "code",
   "execution_count": 166,
   "id": "e8e4b507",
   "metadata": {},
   "outputs": [
    {
     "name": "stderr",
     "output_type": "stream",
     "text": [
      "/var/folders/20/v5qs226j45jcs30s4fxf1b5c0000gn/T/ipykernel_93087/2226110338.py:2: UserWarning: PySoundFile failed. Trying audioread instead.\n",
      "  y, sr = librosa.load(filepath)\n",
      "/Users/jonas/Library/CloudStorage/OneDrive-UniversityofExeter/sound_recognition/api/.venv/lib/python3.12/site-packages/librosa/core/audio.py:184: FutureWarning: librosa.core.audio.__audioread_load\n",
      "\tDeprecated as of librosa version 0.10.0.\n",
      "\tIt will be removed in librosa version 1.0.\n",
      "  y, sr_native = __audioread_load(path, offset, duration, dtype)\n"
     ]
    },
    {
     "data": {
      "image/png": "[encoded data removed]",
      "text/plain": [
       "<Figure size 1000x400 with 2 Axes>"
      ]
     },
     "metadata": {},
     "output_type": "display_data"
    }
   ],
   "source": [
    "plot_spectrogram(\"/Users/jonas/Library/CloudStorage/OneDrive-UniversityofExeter/sound_recognition/data/g28_huawei/debug/g28_off_test_mon_1727950893257.m4a\", \"off\")\n",
    "\n"
   ]
  },
  {
   "cell_type": "markdown",
   "id": "eb1cb028-546a-405c-b183-414027ca634f",
   "metadata": {},
   "source": [
    "## Train/validation split\n",
    "\n",
    "Split data into training and validation "
   ]
  },
  {
   "cell_type": "code",
   "execution_count": 75,
   "id": "ccc5f4b0-5ef9-4560-a4d2-0687bde34dfe",
   "metadata": {},
   "outputs": [],
   "source": [
    "from sklearn.model_selection import train_test_split"
   ]
  },
  {
   "cell_type": "code",
   "execution_count": 76,
   "id": "2070c83a-ce72-4d72-ace4-7ef4a3a59a11",
   "metadata": {},
   "outputs": [
    {
     "data": {
      "text/plain": [
       "((139, 4), (35, 4))"
      ]
     },
     "execution_count": 76,
     "metadata": {},
     "output_type": "execute_result"
    }
   ],
   "source": [
    "train, val = train_test_split(df, stratify=df.label, random_state=0, test_size=0.20)\n",
    "train.shape, val.shape"
   ]
  },
  {
   "cell_type": "code",
   "execution_count": 77,
   "id": "77119351-a85d-4a42-82b0-ff349120b7e6",
   "metadata": {},
   "outputs": [],
   "source": [
    "df['isval'] = [i in val.index for i in df.index]"
   ]
  },
  {
   "cell_type": "code",
   "execution_count": 78,
   "id": "d317fff1-9507-4f0c-96bd-b35dd65c833b",
   "metadata": {},
   "outputs": [
    {
     "data": {
      "text/plain": [
       "isval\n",
       "False    139\n",
       "True      35\n",
       "Name: count, dtype: int64"
      ]
     },
     "execution_count": 78,
     "metadata": {},
     "output_type": "execute_result"
    }
   ],
   "source": [
    "df.isval.value_counts()"
   ]
  },
  {
   "cell_type": "code",
   "execution_count": 79,
   "id": "a274f2d7-a99c-455d-9ced-3ddedee8ee21",
   "metadata": {},
   "outputs": [
    {
     "data": {
      "text/plain": [
       "label\n",
       "vac    47\n",
       "air    46\n",
       "off    46\n",
       "Name: count, dtype: int64"
      ]
     },
     "execution_count": 79,
     "metadata": {},
     "output_type": "execute_result"
    }
   ],
   "source": [
    "train.label.value_counts()"
   ]
  },
  {
   "cell_type": "code",
   "execution_count": 80,
   "id": "771d4e08-234c-4e2a-aece-0215b7292561",
   "metadata": {},
   "outputs": [
    {
     "data": {
      "text/plain": [
       "105    vac_49.wav\n",
       "6      air_56.wav\n",
       "129    off_25.wav\n",
       "19     air_23.wav\n",
       "180    off_29.wav\n",
       "88     vac_54.wav\n",
       "109    vac_59.wav\n",
       "23     air_34.wav\n",
       "75     vac_25.wav\n",
       "9      air_52.wav\n",
       "62     vac_37.wav\n",
       "71      vac_5.wav\n",
       "3      air_55.wav\n",
       "72     vac_35.wav\n",
       "158    off_42.wav\n",
       "56      air_2.wav\n",
       "130    off_19.wav\n",
       "169     off_9.wav\n",
       "41     air_28.wav\n",
       "163     off_3.wav\n",
       "116    vac_38.wav\n",
       "114    vac_28.wav\n",
       "168     off_8.wav\n",
       "58      air_1.wav\n",
       "167    off_59.wav\n",
       "38     air_29.wav\n",
       "165    off_41.wav\n",
       "64      vac_7.wav\n",
       "21     air_36.wav\n",
       "0      air_54.wav\n",
       "141    off_22.wav\n",
       "86     vac_27.wav\n",
       "181    off_15.wav\n",
       "24     air_35.wav\n",
       "143    off_51.wav\n",
       "Name: name, dtype: object"
      ]
     },
     "execution_count": 80,
     "metadata": {},
     "output_type": "execute_result"
    }
   ],
   "source": [
    "val.name"
   ]
  },
  {
   "cell_type": "markdown",
   "id": "0ea5e100-6db8-488c-baed-74efc6492845",
   "metadata": {
    "jp-MarkdownHeadingCollapsed": true
   },
   "source": [
    "## Import / download pretrained model (speechbrain urbansound)"
   ]
  },
  {
   "cell_type": "code",
   "execution_count": 81,
   "id": "27ae1a98-1898-451b-b19d-f2174d986c96",
   "metadata": {},
   "outputs": [
    {
     "name": "stdout",
     "output_type": "stream",
     "text": [
      "['dog_bark']\n"
     ]
    }
   ],
   "source": [
    "import torchaudio\n",
    "from speechbrain.inference.classifiers import EncoderClassifier\n",
    "classifier = EncoderClassifier.from_hparams(source=\"speechbrain/urbansound8k_ecapa\", savedir=\"models/gurbansound8k_ecapa\")\n",
    "out_prob, score, index, text_lab = classifier.classify_file('speechbrain/urbansound8k_ecapa/dog_bark.wav')\n",
    "print(text_lab)"
   ]
  },
  {
   "cell_type": "markdown",
   "id": "4c607d70",
   "metadata": {},
   "source": [
    "# Check that our files are compatible with the downloaded classifier "
   ]
  },
  {
   "cell_type": "code",
   "execution_count": 82,
   "id": "41c989ee-139c-4b58-a2d0-638700a0b35c",
   "metadata": {},
   "outputs": [
    {
     "data": {
      "text/plain": [
       "(tensor([[-0.2448, -0.2221,  0.4067, -0.4413, -0.0444, -0.1651,  0.5004,  0.3076,\n",
       "           0.1879, -0.1033]]),\n",
       " tensor([0.5004]),\n",
       " tensor([6]),\n",
       " ['engine_idling'])"
      ]
     },
     "execution_count": 82,
     "metadata": {},
     "output_type": "execute_result"
    }
   ],
   "source": [
    "import random\n",
    "rand = random.randint(0,(len(cats) - 1))\n",
    "sample = get_sample_of(cats[rand], random_state=1)\n",
    "classifier.classify_file(sample.filepath)"
   ]
  },
  {
   "cell_type": "markdown",
   "id": "348e937b-16c7-49f5-bc51-dbdeff6587ca",
   "metadata": {
    "jp-MarkdownHeadingCollapsed": true
   },
   "source": [
    "## Convert audio to tensors for training "
   ]
  },
  {
   "cell_type": "code",
   "execution_count": 83,
   "id": "2bb72294-59a9-47fb-bc4f-54fa3c2cff68",
   "metadata": {},
   "outputs": [],
   "source": [
    "import torchaudio\n",
    "import torch"
   ]
  },
  {
   "cell_type": "code",
   "execution_count": 84,
   "id": "c301e06e",
   "metadata": {},
   "outputs": [
    {
     "data": {
      "text/plain": [
       "'/Users/jonas/Library/CloudStorage/OneDrive-UniversityofExeter/sound_recognition/data/g28_huawei/air/air_54.wav'"
      ]
     },
     "execution_count": 84,
     "metadata": {},
     "output_type": "execute_result"
    }
   ],
   "source": [
    "df.iloc[0].filepath"
   ]
  },
  {
   "cell_type": "markdown",
   "id": "6d7f4ee2-4675-4298-be99-d78dde51cce2",
   "metadata": {},
   "source": [
    "different samples have different length tensor (longer or shorter time series) "
   ]
  },
  {
   "cell_type": "code",
   "execution_count": 85,
   "id": "c2712ca7",
   "metadata": {},
   "outputs": [],
   "source": [
    "from numpy import random\n",
    "import numpy as np\n",
    "from torchaudio import transforms\n",
    "from torchaudio.io import AudioEffector\n",
    "import matplotlib.pyplot as plt\n",
    "\n",
    "class AudioUtil():\n",
    "    #---------------\n",
    "    # Load an audio file. Return the signal as a tensor and the sample rate\n",
    "    #---------------\n",
    "    @staticmethod\n",
    "    def open(audio_file):\n",
    "        sig, sr = torchaudio.load(audio_file)\n",
    "        \n",
    "        return (sig, sr)\n",
    "\n",
    "    @staticmethod\n",
    "    def apply_gain(aud, sig_max=0.9):\n",
    "        sig, sr = aud\n",
    "        gn = sig_max / sig.max()\n",
    "\n",
    "        transform = transforms.Vol(gain=gn, gain_type=\"amplitude\")\n",
    "        \n",
    "        sig_amp = transform(sig)\n",
    "        \n",
    "        return (sig_amp, sr)\n",
    "    \n",
    "    #---------------\n",
    "    # Convert soundfile to desired number of channels\n",
    "    #---------------\n",
    "    @staticmethod\n",
    "    def rechannel(aud, new_channel):\n",
    "        \n",
    "        sig, sr = aud\n",
    "        \n",
    "        if sig.shape[0] == new_channel:\n",
    "            #Nothing todo\n",
    "            return aud\n",
    "        \n",
    "        if (new_channel == 1):\n",
    "            #Convert stereo to mono by selecting only the first channel\n",
    "            resig = sig[:1, :]\n",
    "        else:\n",
    "            #Convert from mono to sterio by duplicating the first channel\n",
    "            resig = torch.cat([sig,sig])\n",
    "        return ((resig, sr))\n",
    "    \n",
    "    #---------------\n",
    "    #Resample to make sure samplerate is the same for all files - resample applies to one channel at a time\n",
    "    #---------------\n",
    "    @staticmethod\n",
    "    def resample(aud, newsr):\n",
    "        \n",
    "        sig, sr = aud\n",
    "        \n",
    "        if (sr == newsr):\n",
    "            #do nothing\n",
    "            return aud\n",
    "        \n",
    "        num_channels = sig.shape[0]\n",
    "        \n",
    "        #resample first channel\n",
    "        resig = torchaudio.transforms.Resample(sr, newsr)(sig[:1,:])\n",
    "        \n",
    "        if (num_channels > 1):\n",
    "            #Resample the second channel and merge both\n",
    "            retwo = torchaudio.transforms.Resample(sr, newsr)(sig[1:,:])\n",
    "            resig = torch.cat([resig, retwo])\n",
    "            \n",
    "        return ((resig, newsr))\n",
    "    \n",
    "    \n",
    "    #-----------------\n",
    "    #Pad or turncate the signal to be off a standard length in milliseconds\n",
    "    #-----------------\n",
    "    @staticmethod\n",
    "    def pad_trunc(aud, max_ms):\n",
    "\n",
    "        sig, sr = aud\n",
    "        num_rows, sig_len = sig.shape\n",
    "        max_len = sr * max_ms / 1000\n",
    "        \n",
    "        if (sig_len > max_len):\n",
    "            #Turncate the signal to the given length\n",
    "            print(f\"Signal length larger than max length {sig_len} > {max_len}\")\n",
    "            sig = sig[:,:max_len]\n",
    "        elif (sig_len < max_len):\n",
    "            print(f\"Signal length smaller than max length {sig_len} < {max_len}\")\n",
    "\n",
    "            pad_begin_len = random.randint(0, max_len - sig_len)\n",
    "            pad_end_len = max_len - sig_len - pad_begin_len\n",
    "            \n",
    "            #pad with zeroes\n",
    "            pad_begin = torch.zeros((num_rows, pad_begin_len))\n",
    "            pad_end = torch.zeros((num_rows, pad_end_len))\n",
    "            \n",
    "            sig = torch.cat((pad_begin, sig, pad_end), 1)\n",
    "        \n",
    "        return (sig, sr)\n",
    "\n",
    "    #--------------------\n",
    "    #Shift the signal by a random bit, end of signal is wrapped around \n",
    "    #to beginning\n",
    "    #--------------------\n",
    "    @staticmethod\n",
    "    def time_shift(aud, shift_limit):\n",
    "        sig, sr = aud\n",
    "        \n",
    "        _, sig_len = sig.shape\n",
    "        shift_amt = int(random.random() * shift_limit * sig_len)\n",
    "        return (sig.roll(shift_amt), sr)\n",
    "\n",
    "    #--------------------\n",
    "    #Add eccho or vibrato to the signal. \n",
    "    #This method is intented for the generation of synthetic data,\n",
    "    #using a limited dataset. \n",
    "    #--------------------\n",
    "    @staticmethod\n",
    "    def add_rand_effect(aud):\n",
    "        sig, sr = aud    \n",
    "        effect = random.randint(0,1)\n",
    "        if effect ==0:\n",
    "            delay = random.randint(40,100)\n",
    "            decay = round(random.uniform(0.2,0.7), 2)\n",
    "            effect = \"aecho=in_gain=0.8:out_gain=0.9:delays={}:decays={}\".format(delay, decay)\n",
    "        elif effect == 1:\n",
    "            freq = random.randint(9,15)\n",
    "            decay = round(random.uniform(0.15,0.4), 2)\n",
    "            effect = \"vibrato=f={}:d={}\".format(freq, decay)\n",
    "        effector = AudioEffector(effect=effect, pad_end=False)\n",
    "        sig_ef = effector.apply(sig.T, int(sr)) # int(sr)\n",
    "        sig_ef = sig_ef.T\n",
    "\n",
    "        return (sig_ef, sr)\n",
    "    \n",
    "    #----------------------------------\n",
    "    #Genetate spectrogram\n",
    "    #----------------------------------\n",
    "    @staticmethod\n",
    "    def spectro_gram(aud, n_mels=64, n_fft=1024, hop_len=None):\n",
    "        sig,sr = aud\n",
    "        top_db = 80\n",
    "        \n",
    "        #spec has shape [channel, n_mels, time]\n",
    "        spec = transforms.MelSpectrogram(sr, n_fft=n_fft, hop_length=hop_len, n_mels=n_mels)(sig)\n",
    "        \n",
    "        #convert to db\n",
    "        spec = transforms.AmplitudeToDB(top_db=top_db)(spec)\n",
    "        \n",
    "        return spec\n",
    "    \n",
    "    \n",
    "    #Augment the spectrogram by masking out some sections of it in both the frequency\n",
    "    #dimencion (Horizontal) and the time dimension (vertical bars)\n",
    "    \n",
    "    @staticmethod\n",
    "    def spectro_augment(spec, max_mask_pct=0.1, n_freq_masks=1, n_time_masks=1):\n",
    "        _, n_mels, n_steps = spec.shape\n",
    "        mask_value = spec.mean()\n",
    "        aug_spec = spec\n",
    "        \n",
    "        freq_mask_param = max_mask_pct * n_mels\n",
    "        for _ in range(n_freq_masks):\n",
    "            aug_spec = transforms.FrequencyMasking(freq_mask_param)(aug_spec, mask_value)\n",
    "        \n",
    "        time_mask_param = max_mask_pct * n_steps\n",
    "        for _ in range(n_time_masks):\n",
    "            aug_spec = transforms.TimeMasking(time_mask_param)(aug_spec, mask_value)\n",
    "        \n",
    "        return np.absolute(aug_spec) # Jonas added np.absolute\n",
    "    \n",
    "        "
   ]
  },
  {
   "cell_type": "code",
   "execution_count": 86,
   "id": "cea554cc",
   "metadata": {},
   "outputs": [],
   "source": [
    "from speechbrain.dataio.preprocess import AudioNormalizer\n",
    "\n",
    "class LoadTransform():\n",
    "    def __init__(self):\n",
    "        self.duration = 4000\n",
    "        self.sr_classifier = 16000 # this is the required sample rate for the classifier\n",
    "        self.channel = 1\n",
    "        self.shift_pct = 0.3\n",
    "        self.audio_normalizer = AudioNormalizer(sample_rate=self.sr_classifier)\n",
    "    \n",
    "    def load_audio(self, file_path, return_spectrogram=False):\n",
    "        signal = AudioUtil.open(file_path)\n",
    "        #print(f\"Audio tensor shape ={signal[0].shape}\")\n",
    "\n",
    "        signal = AudioUtil.rechannel(signal, self.channel)\n",
    "        #print(f\"rechan tensor shape ={signal[0].shape}\")\n",
    "\n",
    "        signal = AudioUtil.pad_trunc(signal, self.duration)\n",
    "        #print(f\"dur_aud tensor shape ={signal[0].shape}\")\n",
    "\n",
    "        signal = AudioUtil.time_shift(signal, self.shift_pct)\n",
    "        #print(f\"ts_aud tensor shape ={signal[0].shape}\")\n",
    "    \n",
    "        if return_spectrogram:\n",
    "            return AudioUtil.spectro_gram(signal)\n",
    "\n",
    "        signal, sr = signal[0].T, signal[1]\n",
    "        #print(f\"Audio sample rate ={sr}\")\n",
    "\n",
    "\n",
    "        return self.audio_normalizer(signal, sr)"
   ]
  },
  {
   "cell_type": "code",
   "execution_count": 87,
   "id": "83280057",
   "metadata": {},
   "outputs": [],
   "source": [
    "from torch.utils.data import DataLoader, Dataset, random_split\n",
    "#----------------\n",
    "#Sound dataset\n",
    "#----------------\n",
    "    \n",
    "class SoundDS(Dataset):\n",
    "    def __init__(self, X, y):\n",
    "        #self.df = df\n",
    "        #self.data_paths = data_paths\n",
    "        self.X = X\n",
    "        self.y = y\n",
    "        self.duration = 4000\n",
    "        self.sr = 44100\n",
    "        self.channel = 2\n",
    "        self.shift_pct = 0.3\n",
    "    \n",
    "    #------------------\n",
    "    #Number of items in dataset\n",
    "    #------------------\n",
    "    def __len__(self):\n",
    "        return len(self.y)\n",
    "\n",
    "    #------------------\n",
    "    #Get i'th item in dataset\n",
    "    #------------------\n",
    "    def __getitem__(self, idx):\n",
    "        # Get the class ID  \n",
    "        #class_id = self.df.loc[idx, 'label']\n",
    "        #audio_file = str(self.df.loc[idx, 'filepath'])\n",
    "        audio_file = self.X[idx]\n",
    "        aud = AudioUtil.open(audio_file)\n",
    "        reaud = AudioUtil.resample(aud, self.sr)\n",
    "        rechan = AudioUtil.rechannel(reaud, self.channel)\n",
    "        dur_aud = AudioUtil.pad_trunc(rechan, self.duration)\n",
    "        ts_aud = AudioUtil.time_shift(dur_aud, self.shift_pct)\n",
    "        y = torch.zeros(3)\n",
    "        y[cats.index(self.y[idx])] = 1.\n",
    "        #sgram = AudioUtil.spectro_gram(dur_aud, n_mels=64, n_fft=1024, hop_len=None)\n",
    "        return ts_aud, y\n"
   ]
  },
  {
   "cell_type": "markdown",
   "id": "158356d3-c2b7-491f-a027-d693883c6e64",
   "metadata": {},
   "source": [
    "the classifier's `load_audio` function does some extra stuff like normalization, so let's use that \n"
   ]
  },
  {
   "cell_type": "code",
   "execution_count": 88,
   "id": "8fc677f1",
   "metadata": {},
   "outputs": [
    {
     "data": {
      "text/plain": [
       "'/Users/jonas/Library/CloudStorage/OneDrive-UniversityofExeter/sound_recognition/data/g28_huawei/air/air_54.wav'"
      ]
     },
     "execution_count": 88,
     "metadata": {},
     "output_type": "execute_result"
    }
   ],
   "source": [
    "filep = df.iloc[0].filepath\n",
    "filep"
   ]
  },
  {
   "cell_type": "code",
   "execution_count": 89,
   "id": "d83dfb9c-27d1-45bd-a1d5-0d846ac88505",
   "metadata": {},
   "outputs": [
    {
     "name": "stdout",
     "output_type": "stream",
     "text": [
      "Classifier tensor shape = torch.Size([64000])\n",
      "Transfrom tensor shape = torch.Size([64000])\n"
     ]
    }
   ],
   "source": [
    "tens = classifier.load_audio(sample.filepath)\n",
    "Transform = LoadTransform()\n",
    "tens2 = Transform.load_audio(sample.filepath)\n",
    "print(f\"Classifier tensor shape = {tens.shape}\")\n",
    "print(f\"Transfrom tensor shape = {tens2.shape}\")\n"
   ]
  },
  {
   "cell_type": "code",
   "execution_count": 90,
   "id": "fbfdebe9-606e-4203-b98d-52fe04c3ddf7",
   "metadata": {},
   "outputs": [
    {
     "data": {
      "text/plain": [
       "torch.Size([1, 64000])"
      ]
     },
     "execution_count": 90,
     "metadata": {},
     "output_type": "execute_result"
    }
   ],
   "source": [
    "tens2.unsqueeze(0).shape"
   ]
  },
  {
   "cell_type": "code",
   "execution_count": 91,
   "id": "db9a63fd-465f-4bc1-9e92-61acfec23d57",
   "metadata": {},
   "outputs": [
    {
     "data": {
      "text/plain": [
       "torch.Size([1, 1, 192])"
      ]
     },
     "execution_count": 91,
     "metadata": {},
     "output_type": "execute_result"
    }
   ],
   "source": [
    "rel_length =  torch.tensor([1.])\n",
    "enc = classifier.encode_batch(tens2.unsqueeze(0), rel_length)\n",
    "enc.shape"
   ]
  },
  {
   "cell_type": "code",
   "execution_count": 92,
   "id": "a41a0ea9-01e5-45f7-a135-a3723e718490",
   "metadata": {},
   "outputs": [
    {
     "data": {
      "text/plain": [
       "tensor([[-0.2511, -0.2226,  0.4351, -0.4299, -0.0444, -0.1714,  0.4929,  0.3036,\n",
       "          0.1701, -0.0985]])"
      ]
     },
     "execution_count": 92,
     "metadata": {},
     "output_type": "execute_result"
    }
   ],
   "source": [
    "# probabilities of each class\n",
    "preds = classifier.mods.classifier(enc).squeeze(1); preds"
   ]
  },
  {
   "cell_type": "code",
   "execution_count": 93,
   "id": "de168ba5-2376-41c2-8f30-9a15341e47ba",
   "metadata": {},
   "outputs": [
    {
     "data": {
      "text/plain": [
       "torch.Size([1, 10])"
      ]
     },
     "execution_count": 93,
     "metadata": {},
     "output_type": "execute_result"
    }
   ],
   "source": [
    "# batch of preds, but just 1 in the batch \n",
    "preds.shape"
   ]
  },
  {
   "cell_type": "code",
   "execution_count": 94,
   "id": "90941511-53c3-4c9c-8ced-f72cb776d984",
   "metadata": {},
   "outputs": [
    {
     "data": {
      "text/plain": [
       "(tensor([[-0.2448, -0.2221,  0.4067, -0.4413, -0.0444, -0.1651,  0.5004,  0.3076,\n",
       "           0.1879, -0.1033]]),\n",
       " tensor([0.5004]),\n",
       " tensor([6]),\n",
       " ['engine_idling'])"
      ]
     },
     "execution_count": 94,
     "metadata": {},
     "output_type": "execute_result"
    }
   ],
   "source": [
    "# check that our work agrees with the full implementation \n",
    "classifier.classify_file(str(sample.filepath))"
   ]
  },
  {
   "cell_type": "markdown",
   "id": "ace62738-b25a-4a0e-b999-843f2dd2090b",
   "metadata": {},
   "source": [
    "## Create dataset "
   ]
  },
  {
   "cell_type": "code",
   "execution_count": 95,
   "id": "a747206e-986d-4de7-9b4f-4e145e70cd45",
   "metadata": {},
   "outputs": [],
   "source": [
    "from torch.utils.data import Dataset\n",
    "import torch.nn.functional as F"
   ]
  },
  {
   "cell_type": "code",
   "execution_count": 96,
   "id": "3bc48d3c-719b-4b5d-b851-7717aef3c47b",
   "metadata": {},
   "outputs": [
    {
     "data": {
      "text/plain": [
       "['air', 'vac', 'off']"
      ]
     },
     "execution_count": 96,
     "metadata": {},
     "output_type": "execute_result"
    }
   ],
   "source": [
    "cats"
   ]
  },
  {
   "cell_type": "code",
   "execution_count": 97,
   "id": "c8ea7ebf-c071-4b6b-9bd3-d09f18e929ec",
   "metadata": {},
   "outputs": [
    {
     "data": {
      "text/html": [
       "<div>\n",
       "<style scoped>\n",
       "    .dataframe tbody tr th:only-of-type {\n",
       "        vertical-align: middle;\n",
       "    }\n",
       "\n",
       "    .dataframe tbody tr th {\n",
       "        vertical-align: top;\n",
       "    }\n",
       "\n",
       "    .dataframe thead th {\n",
       "        text-align: right;\n",
       "    }\n",
       "</style>\n",
       "<table border=\"1\" class=\"dataframe\">\n",
       "  <thead>\n",
       "    <tr style=\"text-align: right;\">\n",
       "      <th></th>\n",
       "      <th>filepath</th>\n",
       "      <th>label</th>\n",
       "      <th>name</th>\n",
       "      <th>duration</th>\n",
       "    </tr>\n",
       "  </thead>\n",
       "  <tbody>\n",
       "    <tr>\n",
       "      <th>40</th>\n",
       "      <td>/Users/jonas/Library/CloudStorage/OneDrive-Uni...</td>\n",
       "      <td>air</td>\n",
       "      <td>air_14.wav</td>\n",
       "      <td>4.0</td>\n",
       "    </tr>\n",
       "    <tr>\n",
       "      <th>11</th>\n",
       "      <td>/Users/jonas/Library/CloudStorage/OneDrive-Uni...</td>\n",
       "      <td>air</td>\n",
       "      <td>air_47.wav</td>\n",
       "      <td>4.0</td>\n",
       "    </tr>\n",
       "    <tr>\n",
       "      <th>125</th>\n",
       "      <td>/Users/jonas/Library/CloudStorage/OneDrive-Uni...</td>\n",
       "      <td>off</td>\n",
       "      <td>off_32.wav</td>\n",
       "      <td>4.0</td>\n",
       "    </tr>\n",
       "  </tbody>\n",
       "</table>\n",
       "</div>"
      ],
      "text/plain": [
       "                                              filepath label        name  \\\n",
       "40   /Users/jonas/Library/CloudStorage/OneDrive-Uni...   air  air_14.wav   \n",
       "11   /Users/jonas/Library/CloudStorage/OneDrive-Uni...   air  air_47.wav   \n",
       "125  /Users/jonas/Library/CloudStorage/OneDrive-Uni...   off  off_32.wav   \n",
       "\n",
       "     duration  \n",
       "40        4.0  \n",
       "11        4.0  \n",
       "125       4.0  "
      ]
     },
     "execution_count": 97,
     "metadata": {},
     "output_type": "execute_result"
    }
   ],
   "source": [
    "train.head(3)"
   ]
  },
  {
   "cell_type": "code",
   "execution_count": 98,
   "id": "8d2e20f5-d386-4370-9a8b-16d1ba8cbcd0",
   "metadata": {},
   "outputs": [],
   "source": [
    "from functools import cache\n",
    "\n",
    "class ApplianceDS(Dataset):\n",
    "    def __init__(self, X, y):\n",
    "        self.X = X\n",
    "        self.y = y \n",
    "    def __len__(self): return len(self.y)\n",
    "    \n",
    "    @cache\n",
    "    def __getitem__(self, i):\n",
    "        y = torch.zeros(len(cats))\n",
    "        y[cats.index(self.y[i])] = 1.\n",
    "        return self.X[i], y"
   ]
  },
  {
   "cell_type": "code",
   "execution_count": 99,
   "id": "c1ed94bc-abf6-4048-81f5-cd521f512be9",
   "metadata": {},
   "outputs": [
    {
     "data": {
      "text/plain": [
       "(torch.Size([139, 64000]), torch.Size([35, 64000]))"
      ]
     },
     "execution_count": 99,
     "metadata": {},
     "output_type": "execute_result"
    }
   ],
   "source": [
    "\n",
    "#Xtrain = torch.stack([classifier.load_audio(fp) for fp in train.filepath])\n",
    "#Xtrain = torch.stack([classifier.load_audio(fp) for fp in train.filepath])\n",
    "Xtrain = torch.stack([Transform.load_audio(fp) for fp in train.filepath])\n",
    "Xval = torch.stack([Transform.load_audio(fp) for fp in val.filepath])\n",
    "#Xtest = torch.stack([Transform.load_audio(fp) for fp in test.filepath])\n",
    "\n",
    "ytrain = list(train.label)\n",
    "yval = list(val.label)\n",
    "#ytest = list(test.label)\n",
    "Xtrain.shape, Xval.shape\n",
    "\n",
    "\n",
    "# (torch.Size([59, 64000]), torch.Size([13, 64000]))\n"
   ]
  },
  {
   "cell_type": "code",
   "execution_count": 100,
   "id": "066e183d",
   "metadata": {},
   "outputs": [
    {
     "data": {
      "text/plain": [
       "['vac',\n",
       " 'air',\n",
       " 'off',\n",
       " 'air',\n",
       " 'off',\n",
       " 'vac',\n",
       " 'vac',\n",
       " 'air',\n",
       " 'vac',\n",
       " 'air',\n",
       " 'vac',\n",
       " 'vac',\n",
       " 'air',\n",
       " 'vac',\n",
       " 'off',\n",
       " 'air',\n",
       " 'off',\n",
       " 'off',\n",
       " 'air',\n",
       " 'off',\n",
       " 'vac',\n",
       " 'vac',\n",
       " 'off',\n",
       " 'air',\n",
       " 'off',\n",
       " 'air',\n",
       " 'off',\n",
       " 'vac',\n",
       " 'air',\n",
       " 'air',\n",
       " 'off',\n",
       " 'vac',\n",
       " 'off',\n",
       " 'air',\n",
       " 'off']"
      ]
     },
     "execution_count": 100,
     "metadata": {},
     "output_type": "execute_result"
    }
   ],
   "source": [
    "yval"
   ]
  },
  {
   "cell_type": "code",
   "execution_count": 101,
   "id": "ec66f0ba-8b7b-49ad-8d45-080ff254c749",
   "metadata": {},
   "outputs": [],
   "source": [
    "train_ds = ApplianceDS(Xtrain, ytrain)\n",
    "val_ds = ApplianceDS(Xval, yval)\n",
    "#test_ds = ApplianceDS(Xtest, ytest)"
   ]
  },
  {
   "cell_type": "code",
   "execution_count": 102,
   "id": "7bed9fe4-1855-4cd6-9932-ffb474d144e8",
   "metadata": {},
   "outputs": [],
   "source": [
    "train_dl = torch.utils.data.DataLoader(train_ds, batch_size=8, shuffle=True)\n",
    "# we don't need batches for the validation set so just put into a big batch \n",
    "val_dl = torch.utils.data.DataLoader(val_ds, batch_size=8, shuffle=True)\n",
    "#test_dl = torch.utils.data.DataLoader(test_ds, batch_size=len(test_ds), shuffle=True)"
   ]
  },
  {
   "cell_type": "code",
   "execution_count": 103,
   "id": "a56a718c-6710-4e09-be35-66cc8c12c7de",
   "metadata": {},
   "outputs": [
    {
     "data": {
      "text/plain": [
       "(torch.Size([8, 64000]), torch.Size([8, 3]))"
      ]
     },
     "execution_count": 103,
     "metadata": {},
     "output_type": "execute_result"
    }
   ],
   "source": [
    "Xval, yval = next(iter(val_dl))\n",
    "Xval.shape, yval.shape"
   ]
  },
  {
   "cell_type": "code",
   "execution_count": 104,
   "id": "735317d9",
   "metadata": {},
   "outputs": [],
   "source": [
    "def reset_weights():\n",
    "    classifier.mods.classifier.weight = torch.nn.Parameter(torch.FloatTensor(len(cats), 192))\n",
    "    torch.nn.init.xavier_uniform_(classifier.mods.classifier.weight)\n",
    "reset_weights()"
   ]
  },
  {
   "cell_type": "code",
   "execution_count": 105,
   "id": "a310d9f7-d007-41f1-a717-18abab7dec56",
   "metadata": {},
   "outputs": [
    {
     "name": "stdout",
     "output_type": "stream",
     "text": [
      "True\n"
     ]
    }
   ],
   "source": [
    "for param in classifier.mods.classifier.parameters():\n",
    "    print(param.requires_grad)"
   ]
  },
  {
   "cell_type": "code",
   "execution_count": 106,
   "id": "0a2cf1ee-167b-4824-87a6-4cd4e1bec357",
   "metadata": {},
   "outputs": [
    {
     "data": {
      "text/plain": [
       "Fbank(\n",
       "  (compute_STFT): STFT()\n",
       "  (compute_fbanks): Filterbank()\n",
       "  (compute_deltas): Deltas()\n",
       "  (context_window): ContextWindow()\n",
       ")"
      ]
     },
     "execution_count": 106,
     "metadata": {},
     "output_type": "execute_result"
    }
   ],
   "source": [
    "classifier.mods.compute_features"
   ]
  },
  {
   "cell_type": "code",
   "execution_count": 107,
   "id": "6dac0339-f586-4f66-925d-540af1ed5b13",
   "metadata": {},
   "outputs": [
    {
     "name": "stdout",
     "output_type": "stream",
     "text": [
      "compute_features\n",
      "mean_var_norm\n",
      "embedding_model\n",
      "embedding_model False\n",
      "classifier\n",
      "classifier True\n"
     ]
    }
   ],
   "source": [
    "for mod in classifier.mods:\n",
    "    print(mod)\n",
    "    for p in classifier.mods.__getattr__(mod).parameters():\n",
    "        print(mod, p.requires_grad)\n",
    "        break"
   ]
  },
  {
   "cell_type": "code",
   "execution_count": 108,
   "id": "6a96b8de-0ed2-4088-8f92-669771ea7d6d",
   "metadata": {},
   "outputs": [],
   "source": [
    "loss_fn = torch.nn.CrossEntropyLoss()"
   ]
  },
  {
   "cell_type": "code",
   "execution_count": 109,
   "id": "7fa6a70d",
   "metadata": {},
   "outputs": [
    {
     "name": "stderr",
     "output_type": "stream",
     "text": [
      "  1%|          | 1/100 [00:05<09:12,  5.58s/it]"
     ]
    },
    {
     "name": "stdout",
     "output_type": "stream",
     "text": [
      "Epoch 0: Train Loss: 1.0745, Validation Loss: 1.0649\n",
      "Learning Rate: 0.0009\n"
     ]
    },
    {
     "name": "stderr",
     "output_type": "stream",
     "text": [
      "  2%|▏         | 2/100 [00:11<09:37,  5.89s/it]"
     ]
    },
    {
     "name": "stdout",
     "output_type": "stream",
     "text": [
      "Epoch 1: Train Loss: 1.0320, Validation Loss: 1.0057\n",
      "Learning Rate: 0.0009\n"
     ]
    },
    {
     "name": "stderr",
     "output_type": "stream",
     "text": [
      "  3%|▎         | 3/100 [00:17<09:48,  6.06s/it]"
     ]
    },
    {
     "name": "stdout",
     "output_type": "stream",
     "text": [
      "Epoch 2: Train Loss: 0.9943, Validation Loss: 0.9488\n",
      "Learning Rate: 0.0009\n"
     ]
    },
    {
     "name": "stderr",
     "output_type": "stream",
     "text": [
      "  4%|▍         | 4/100 [00:23<09:24,  5.89s/it]"
     ]
    },
    {
     "name": "stdout",
     "output_type": "stream",
     "text": [
      "Epoch 3: Train Loss: 0.9477, Validation Loss: 0.9122\n",
      "Learning Rate: 0.0009\n"
     ]
    },
    {
     "name": "stderr",
     "output_type": "stream",
     "text": [
      "  5%|▌         | 5/100 [00:28<09:03,  5.72s/it]"
     ]
    },
    {
     "name": "stdout",
     "output_type": "stream",
     "text": [
      "Epoch 4: Train Loss: 0.9151, Validation Loss: 0.8731\n",
      "Learning Rate: 0.0009\n"
     ]
    },
    {
     "name": "stderr",
     "output_type": "stream",
     "text": [
      "  6%|▌         | 6/100 [00:34<08:37,  5.51s/it]"
     ]
    },
    {
     "name": "stdout",
     "output_type": "stream",
     "text": [
      "Epoch 5: Train Loss: 0.8892, Validation Loss: 0.8384\n",
      "Learning Rate: 0.0009\n"
     ]
    },
    {
     "name": "stderr",
     "output_type": "stream",
     "text": [
      "  7%|▋         | 7/100 [00:39<08:16,  5.34s/it]"
     ]
    },
    {
     "name": "stdout",
     "output_type": "stream",
     "text": [
      "Epoch 6: Train Loss: 0.8357, Validation Loss: 0.8089\n",
      "Learning Rate: 0.0009\n"
     ]
    },
    {
     "name": "stderr",
     "output_type": "stream",
     "text": [
      "  8%|▊         | 8/100 [00:44<08:09,  5.32s/it]"
     ]
    },
    {
     "name": "stdout",
     "output_type": "stream",
     "text": [
      "Epoch 7: Train Loss: 0.8455, Validation Loss: 0.7775\n",
      "Learning Rate: 0.0009\n"
     ]
    },
    {
     "name": "stderr",
     "output_type": "stream",
     "text": [
      "  9%|▉         | 9/100 [00:49<07:56,  5.23s/it]"
     ]
    },
    {
     "name": "stdout",
     "output_type": "stream",
     "text": [
      "Epoch 8: Train Loss: 0.8197, Validation Loss: 0.7538\n",
      "Learning Rate: 0.0009\n"
     ]
    },
    {
     "name": "stderr",
     "output_type": "stream",
     "text": [
      " 10%|█         | 10/100 [00:54<07:52,  5.25s/it]"
     ]
    },
    {
     "name": "stdout",
     "output_type": "stream",
     "text": [
      "Epoch 9: Train Loss: 0.7890, Validation Loss: 0.7462\n",
      "Learning Rate: 0.0009\n"
     ]
    },
    {
     "name": "stderr",
     "output_type": "stream",
     "text": [
      " 11%|█         | 11/100 [01:00<07:50,  5.28s/it]"
     ]
    },
    {
     "name": "stdout",
     "output_type": "stream",
     "text": [
      "Epoch 10: Train Loss: 0.7682, Validation Loss: 0.7230\n",
      "Learning Rate: 0.0009\n"
     ]
    },
    {
     "name": "stderr",
     "output_type": "stream",
     "text": [
      " 12%|█▏        | 12/100 [01:05<07:42,  5.26s/it]"
     ]
    },
    {
     "name": "stdout",
     "output_type": "stream",
     "text": [
      "Epoch 11: Train Loss: 0.7724, Validation Loss: 0.7095\n",
      "Learning Rate: 0.0009\n"
     ]
    },
    {
     "name": "stderr",
     "output_type": "stream",
     "text": [
      " 13%|█▎        | 13/100 [01:10<07:33,  5.21s/it]"
     ]
    },
    {
     "name": "stdout",
     "output_type": "stream",
     "text": [
      "Epoch 12: Train Loss: 0.7280, Validation Loss: 0.6971\n",
      "Learning Rate: 0.0009\n"
     ]
    },
    {
     "name": "stderr",
     "output_type": "stream",
     "text": [
      " 14%|█▍        | 14/100 [01:15<07:22,  5.15s/it]"
     ]
    },
    {
     "name": "stdout",
     "output_type": "stream",
     "text": [
      "Epoch 13: Train Loss: 0.7532, Validation Loss: 0.6793\n",
      "Learning Rate: 0.0009\n"
     ]
    },
    {
     "name": "stderr",
     "output_type": "stream",
     "text": [
      " 15%|█▌        | 15/100 [01:20<07:16,  5.13s/it]"
     ]
    },
    {
     "name": "stdout",
     "output_type": "stream",
     "text": [
      "Epoch 14: Train Loss: 0.7286, Validation Loss: 0.6732\n",
      "Learning Rate: 0.0009\n"
     ]
    },
    {
     "name": "stderr",
     "output_type": "stream",
     "text": [
      " 16%|█▌        | 16/100 [01:25<07:09,  5.11s/it]"
     ]
    },
    {
     "name": "stdout",
     "output_type": "stream",
     "text": [
      "Epoch 15: Train Loss: 0.7146, Validation Loss: 0.6643\n",
      "Learning Rate: 0.0009\n"
     ]
    },
    {
     "name": "stderr",
     "output_type": "stream",
     "text": [
      " 17%|█▋        | 17/100 [01:30<07:06,  5.14s/it]"
     ]
    },
    {
     "name": "stdout",
     "output_type": "stream",
     "text": [
      "Epoch 16: Train Loss: 0.7459, Validation Loss: 0.6699\n",
      "Learning Rate: 0.0009\n"
     ]
    },
    {
     "name": "stderr",
     "output_type": "stream",
     "text": [
      " 18%|█▊        | 18/100 [01:36<07:07,  5.21s/it]"
     ]
    },
    {
     "name": "stdout",
     "output_type": "stream",
     "text": [
      "Epoch 17: Train Loss: 0.7386, Validation Loss: 0.6613\n",
      "Learning Rate: 0.0009\n"
     ]
    },
    {
     "name": "stderr",
     "output_type": "stream",
     "text": [
      " 19%|█▉        | 19/100 [01:41<06:59,  5.18s/it]"
     ]
    },
    {
     "name": "stdout",
     "output_type": "stream",
     "text": [
      "Epoch 18: Train Loss: 0.7001, Validation Loss: 0.6477\n",
      "Learning Rate: 0.0009\n"
     ]
    },
    {
     "name": "stderr",
     "output_type": "stream",
     "text": [
      " 20%|██        | 20/100 [01:46<07:00,  5.25s/it]"
     ]
    },
    {
     "name": "stdout",
     "output_type": "stream",
     "text": [
      "Epoch 19: Train Loss: 0.6937, Validation Loss: 0.6493\n",
      "Learning Rate: 0.0009\n"
     ]
    },
    {
     "name": "stderr",
     "output_type": "stream",
     "text": [
      " 21%|██        | 21/100 [01:51<06:49,  5.18s/it]"
     ]
    },
    {
     "name": "stdout",
     "output_type": "stream",
     "text": [
      "Epoch 20: Train Loss: 0.6800, Validation Loss: 0.6467\n",
      "Learning Rate: 0.0009\n"
     ]
    },
    {
     "name": "stderr",
     "output_type": "stream",
     "text": [
      " 22%|██▏       | 22/100 [01:56<06:45,  5.20s/it]"
     ]
    },
    {
     "name": "stdout",
     "output_type": "stream",
     "text": [
      "Epoch 21: Train Loss: 0.6899, Validation Loss: 0.6413\n",
      "Learning Rate: 0.0009\n"
     ]
    },
    {
     "name": "stderr",
     "output_type": "stream",
     "text": [
      " 23%|██▎       | 23/100 [02:01<06:38,  5.17s/it]"
     ]
    },
    {
     "name": "stdout",
     "output_type": "stream",
     "text": [
      "Epoch 22: Train Loss: 0.6813, Validation Loss: 0.6442\n",
      "Learning Rate: 0.0009\n"
     ]
    },
    {
     "name": "stderr",
     "output_type": "stream",
     "text": [
      " 24%|██▍       | 24/100 [02:07<06:31,  5.15s/it]"
     ]
    },
    {
     "name": "stdout",
     "output_type": "stream",
     "text": [
      "Epoch 23: Train Loss: 0.6953, Validation Loss: 0.6500\n",
      "Learning Rate: 0.0009\n"
     ]
    },
    {
     "name": "stderr",
     "output_type": "stream",
     "text": [
      " 25%|██▌       | 25/100 [02:12<06:22,  5.11s/it]"
     ]
    },
    {
     "name": "stdout",
     "output_type": "stream",
     "text": [
      "Epoch 24: Train Loss: 0.6948, Validation Loss: 0.6426\n",
      "Learning Rate: 0.0009\n"
     ]
    },
    {
     "name": "stderr",
     "output_type": "stream",
     "text": [
      " 26%|██▌       | 26/100 [02:17<06:18,  5.12s/it]"
     ]
    },
    {
     "name": "stdout",
     "output_type": "stream",
     "text": [
      "Epoch 25: Train Loss: 0.6740, Validation Loss: 0.6420\n",
      "Learning Rate: 0.0009\n"
     ]
    },
    {
     "name": "stderr",
     "output_type": "stream",
     "text": [
      " 27%|██▋       | 27/100 [02:22<06:15,  5.14s/it]"
     ]
    },
    {
     "name": "stdout",
     "output_type": "stream",
     "text": [
      "Epoch 26: Train Loss: 0.7028, Validation Loss: 0.6443\n",
      "Learning Rate: 0.0009\n"
     ]
    },
    {
     "name": "stderr",
     "output_type": "stream",
     "text": [
      " 28%|██▊       | 28/100 [02:27<06:11,  5.16s/it]"
     ]
    },
    {
     "name": "stdout",
     "output_type": "stream",
     "text": [
      "Epoch 27: Train Loss: 0.6721, Validation Loss: 0.6434\n",
      "Learning Rate: 9e-05\n"
     ]
    },
    {
     "name": "stderr",
     "output_type": "stream",
     "text": [
      " 29%|██▉       | 29/100 [02:32<06:03,  5.13s/it]"
     ]
    },
    {
     "name": "stdout",
     "output_type": "stream",
     "text": [
      "Epoch 28: Train Loss: 0.6847, Validation Loss: 0.6431\n",
      "Learning Rate: 9e-05\n"
     ]
    },
    {
     "name": "stderr",
     "output_type": "stream",
     "text": [
      " 30%|███       | 30/100 [02:38<06:05,  5.22s/it]"
     ]
    },
    {
     "name": "stdout",
     "output_type": "stream",
     "text": [
      "Epoch 29: Train Loss: 0.6737, Validation Loss: 0.6451\n",
      "Learning Rate: 9e-05\n"
     ]
    },
    {
     "name": "stderr",
     "output_type": "stream",
     "text": [
      " 31%|███       | 31/100 [02:43<06:09,  5.35s/it]"
     ]
    },
    {
     "name": "stdout",
     "output_type": "stream",
     "text": [
      "Epoch 30: Train Loss: 0.6816, Validation Loss: 0.6315\n",
      "Learning Rate: 9e-05\n"
     ]
    },
    {
     "name": "stderr",
     "output_type": "stream",
     "text": [
      " 32%|███▏      | 32/100 [02:49<06:06,  5.39s/it]"
     ]
    },
    {
     "name": "stdout",
     "output_type": "stream",
     "text": [
      "Epoch 31: Train Loss: 0.6799, Validation Loss: 0.6401\n",
      "Learning Rate: 9e-05\n"
     ]
    },
    {
     "name": "stderr",
     "output_type": "stream",
     "text": [
      " 33%|███▎      | 33/100 [02:54<05:59,  5.36s/it]"
     ]
    },
    {
     "name": "stdout",
     "output_type": "stream",
     "text": [
      "Epoch 32: Train Loss: 0.6761, Validation Loss: 0.6436\n",
      "Learning Rate: 9e-05\n"
     ]
    },
    {
     "name": "stderr",
     "output_type": "stream",
     "text": [
      " 34%|███▍      | 34/100 [02:59<05:48,  5.28s/it]"
     ]
    },
    {
     "name": "stdout",
     "output_type": "stream",
     "text": [
      "Epoch 33: Train Loss: 0.6801, Validation Loss: 0.6399\n",
      "Learning Rate: 9e-05\n"
     ]
    },
    {
     "name": "stderr",
     "output_type": "stream",
     "text": [
      " 35%|███▌      | 35/100 [03:04<05:38,  5.21s/it]"
     ]
    },
    {
     "name": "stdout",
     "output_type": "stream",
     "text": [
      "Epoch 34: Train Loss: 0.6800, Validation Loss: 0.6367\n",
      "Learning Rate: 9e-05\n"
     ]
    },
    {
     "name": "stderr",
     "output_type": "stream",
     "text": [
      " 36%|███▌      | 36/100 [03:09<05:33,  5.21s/it]"
     ]
    },
    {
     "name": "stdout",
     "output_type": "stream",
     "text": [
      "Epoch 35: Train Loss: 0.6788, Validation Loss: 0.6413\n",
      "Learning Rate: 9e-05\n"
     ]
    },
    {
     "name": "stderr",
     "output_type": "stream",
     "text": [
      " 37%|███▋      | 37/100 [03:14<05:22,  5.12s/it]"
     ]
    },
    {
     "name": "stdout",
     "output_type": "stream",
     "text": [
      "Epoch 36: Train Loss: 0.6772, Validation Loss: 0.6300\n",
      "Learning Rate: 9e-05\n"
     ]
    },
    {
     "name": "stderr",
     "output_type": "stream",
     "text": [
      " 38%|███▊      | 38/100 [03:19<05:17,  5.12s/it]"
     ]
    },
    {
     "name": "stdout",
     "output_type": "stream",
     "text": [
      "Epoch 37: Train Loss: 0.6796, Validation Loss: 0.6366\n",
      "Learning Rate: 9e-05\n"
     ]
    },
    {
     "name": "stderr",
     "output_type": "stream",
     "text": [
      " 39%|███▉      | 39/100 [03:24<05:11,  5.10s/it]"
     ]
    },
    {
     "name": "stdout",
     "output_type": "stream",
     "text": [
      "Epoch 38: Train Loss: 0.6921, Validation Loss: 0.6361\n",
      "Learning Rate: 9e-05\n"
     ]
    },
    {
     "name": "stderr",
     "output_type": "stream",
     "text": [
      " 40%|████      | 40/100 [03:30<05:08,  5.13s/it]"
     ]
    },
    {
     "name": "stdout",
     "output_type": "stream",
     "text": [
      "Epoch 39: Train Loss: 0.6844, Validation Loss: 0.6317\n",
      "Learning Rate: 9e-05\n"
     ]
    },
    {
     "name": "stderr",
     "output_type": "stream",
     "text": [
      " 41%|████      | 41/100 [03:35<05:02,  5.12s/it]"
     ]
    },
    {
     "name": "stdout",
     "output_type": "stream",
     "text": [
      "Epoch 40: Train Loss: 0.6901, Validation Loss: 0.6329\n",
      "Learning Rate: 9e-05\n"
     ]
    },
    {
     "name": "stderr",
     "output_type": "stream",
     "text": [
      " 42%|████▏     | 42/100 [03:41<05:14,  5.42s/it]"
     ]
    },
    {
     "name": "stdout",
     "output_type": "stream",
     "text": [
      "Epoch 41: Train Loss: 0.6867, Validation Loss: 0.6296\n",
      "Learning Rate: 9e-05\n"
     ]
    },
    {
     "name": "stderr",
     "output_type": "stream",
     "text": [
      " 43%|████▎     | 43/100 [03:47<05:13,  5.50s/it]"
     ]
    },
    {
     "name": "stdout",
     "output_type": "stream",
     "text": [
      "Epoch 42: Train Loss: 0.6635, Validation Loss: 0.6384\n",
      "Learning Rate: 9e-05\n"
     ]
    },
    {
     "name": "stderr",
     "output_type": "stream",
     "text": [
      " 44%|████▍     | 44/100 [03:52<05:04,  5.43s/it]"
     ]
    },
    {
     "name": "stdout",
     "output_type": "stream",
     "text": [
      "Epoch 43: Train Loss: 0.6785, Validation Loss: 0.6323\n",
      "Learning Rate: 9e-05\n"
     ]
    },
    {
     "name": "stderr",
     "output_type": "stream",
     "text": [
      " 45%|████▌     | 45/100 [03:57<04:52,  5.32s/it]"
     ]
    },
    {
     "name": "stdout",
     "output_type": "stream",
     "text": [
      "Epoch 44: Train Loss: 0.6620, Validation Loss: 0.6328\n",
      "Learning Rate: 9e-05\n"
     ]
    },
    {
     "name": "stderr",
     "output_type": "stream",
     "text": [
      " 46%|████▌     | 46/100 [04:02<04:45,  5.29s/it]"
     ]
    },
    {
     "name": "stdout",
     "output_type": "stream",
     "text": [
      "Epoch 45: Train Loss: 0.7093, Validation Loss: 0.6323\n",
      "Learning Rate: 9e-05\n"
     ]
    },
    {
     "name": "stderr",
     "output_type": "stream",
     "text": [
      " 47%|████▋     | 47/100 [04:07<04:35,  5.19s/it]"
     ]
    },
    {
     "name": "stdout",
     "output_type": "stream",
     "text": [
      "Epoch 46: Train Loss: 0.7167, Validation Loss: 0.6368\n",
      "Learning Rate: 9e-05\n"
     ]
    },
    {
     "name": "stderr",
     "output_type": "stream",
     "text": [
      " 48%|████▊     | 48/100 [04:12<04:27,  5.14s/it]"
     ]
    },
    {
     "name": "stdout",
     "output_type": "stream",
     "text": [
      "Epoch 47: Train Loss: 0.6857, Validation Loss: 0.6357\n",
      "Learning Rate: 9e-06\n"
     ]
    },
    {
     "name": "stderr",
     "output_type": "stream",
     "text": [
      " 49%|████▉     | 49/100 [04:17<04:18,  5.07s/it]"
     ]
    },
    {
     "name": "stdout",
     "output_type": "stream",
     "text": [
      "Epoch 48: Train Loss: 0.7018, Validation Loss: 0.6360\n",
      "Learning Rate: 9e-06\n"
     ]
    },
    {
     "name": "stderr",
     "output_type": "stream",
     "text": [
      " 50%|█████     | 50/100 [04:22<04:17,  5.16s/it]"
     ]
    },
    {
     "name": "stdout",
     "output_type": "stream",
     "text": [
      "Epoch 49: Train Loss: 0.6570, Validation Loss: 0.6344\n",
      "Learning Rate: 9e-06\n"
     ]
    },
    {
     "name": "stderr",
     "output_type": "stream",
     "text": [
      " 51%|█████     | 51/100 [04:28<04:16,  5.23s/it]"
     ]
    },
    {
     "name": "stdout",
     "output_type": "stream",
     "text": [
      "Epoch 50: Train Loss: 0.6833, Validation Loss: 0.6372\n",
      "Learning Rate: 9e-06\n"
     ]
    },
    {
     "name": "stderr",
     "output_type": "stream",
     "text": [
      " 52%|█████▏    | 52/100 [04:33<04:08,  5.17s/it]"
     ]
    },
    {
     "name": "stdout",
     "output_type": "stream",
     "text": [
      "Epoch 51: Train Loss: 0.7145, Validation Loss: 0.6406\n",
      "Learning Rate: 9e-06\n"
     ]
    },
    {
     "name": "stderr",
     "output_type": "stream",
     "text": [
      " 53%|█████▎    | 53/100 [04:38<04:01,  5.13s/it]"
     ]
    },
    {
     "name": "stdout",
     "output_type": "stream",
     "text": [
      "Epoch 52: Train Loss: 0.6790, Validation Loss: 0.6402\n",
      "Learning Rate: 9e-06\n"
     ]
    },
    {
     "name": "stderr",
     "output_type": "stream",
     "text": [
      " 54%|█████▍    | 54/100 [04:43<03:55,  5.13s/it]"
     ]
    },
    {
     "name": "stdout",
     "output_type": "stream",
     "text": [
      "Epoch 53: Train Loss: 0.6841, Validation Loss: 0.6336\n",
      "Learning Rate: 9.000000000000001e-07\n"
     ]
    },
    {
     "name": "stderr",
     "output_type": "stream",
     "text": [
      " 55%|█████▌    | 55/100 [04:49<03:59,  5.33s/it]"
     ]
    },
    {
     "name": "stdout",
     "output_type": "stream",
     "text": [
      "Epoch 54: Train Loss: 0.6719, Validation Loss: 0.6354\n",
      "Learning Rate: 9.000000000000001e-07\n"
     ]
    },
    {
     "name": "stderr",
     "output_type": "stream",
     "text": [
      " 56%|█████▌    | 56/100 [04:54<03:50,  5.24s/it]"
     ]
    },
    {
     "name": "stdout",
     "output_type": "stream",
     "text": [
      "Epoch 55: Train Loss: 0.6801, Validation Loss: 0.6354\n",
      "Learning Rate: 9.000000000000001e-07\n"
     ]
    },
    {
     "name": "stderr",
     "output_type": "stream",
     "text": [
      " 57%|█████▋    | 57/100 [04:59<03:46,  5.26s/it]"
     ]
    },
    {
     "name": "stdout",
     "output_type": "stream",
     "text": [
      "Epoch 56: Train Loss: 0.6947, Validation Loss: 0.6355\n",
      "Learning Rate: 9.000000000000001e-07\n"
     ]
    },
    {
     "name": "stderr",
     "output_type": "stream",
     "text": [
      " 58%|█████▊    | 58/100 [05:04<03:40,  5.26s/it]"
     ]
    },
    {
     "name": "stdout",
     "output_type": "stream",
     "text": [
      "Epoch 57: Train Loss: 0.6865, Validation Loss: 0.6379\n",
      "Learning Rate: 9.000000000000001e-07\n"
     ]
    },
    {
     "name": "stderr",
     "output_type": "stream",
     "text": [
      " 59%|█████▉    | 59/100 [05:10<03:36,  5.28s/it]"
     ]
    },
    {
     "name": "stdout",
     "output_type": "stream",
     "text": [
      "Epoch 58: Train Loss: 0.6709, Validation Loss: 0.6372\n",
      "Learning Rate: 9.000000000000001e-07\n"
     ]
    },
    {
     "name": "stderr",
     "output_type": "stream",
     "text": [
      " 60%|██████    | 60/100 [05:15<03:30,  5.26s/it]"
     ]
    },
    {
     "name": "stdout",
     "output_type": "stream",
     "text": [
      "Epoch 59: Train Loss: 0.7016, Validation Loss: 0.6364\n",
      "Learning Rate: 9.000000000000001e-08\n"
     ]
    },
    {
     "name": "stderr",
     "output_type": "stream",
     "text": [
      " 61%|██████    | 61/100 [05:20<03:23,  5.21s/it]"
     ]
    },
    {
     "name": "stdout",
     "output_type": "stream",
     "text": [
      "Epoch 60: Train Loss: 0.6653, Validation Loss: 0.6349\n",
      "Learning Rate: 9.000000000000001e-08\n"
     ]
    },
    {
     "name": "stderr",
     "output_type": "stream",
     "text": [
      " 62%|██████▏   | 62/100 [05:25<03:17,  5.18s/it]"
     ]
    },
    {
     "name": "stdout",
     "output_type": "stream",
     "text": [
      "Epoch 61: Train Loss: 0.6867, Validation Loss: 0.6390\n",
      "Learning Rate: 9.000000000000001e-08\n"
     ]
    },
    {
     "name": "stderr",
     "output_type": "stream",
     "text": [
      " 63%|██████▎   | 63/100 [05:30<03:10,  5.16s/it]"
     ]
    },
    {
     "name": "stdout",
     "output_type": "stream",
     "text": [
      "Epoch 62: Train Loss: 0.6845, Validation Loss: 0.6321\n",
      "Learning Rate: 9.000000000000001e-08\n"
     ]
    },
    {
     "name": "stderr",
     "output_type": "stream",
     "text": [
      " 64%|██████▍   | 64/100 [05:36<03:10,  5.29s/it]"
     ]
    },
    {
     "name": "stdout",
     "output_type": "stream",
     "text": [
      "Epoch 63: Train Loss: 0.6837, Validation Loss: 0.6317\n",
      "Learning Rate: 9.000000000000001e-08\n"
     ]
    },
    {
     "name": "stderr",
     "output_type": "stream",
     "text": [
      " 65%|██████▌   | 65/100 [05:41<03:04,  5.27s/it]"
     ]
    },
    {
     "name": "stdout",
     "output_type": "stream",
     "text": [
      "Epoch 64: Train Loss: 0.6804, Validation Loss: 0.6340\n",
      "Learning Rate: 9.000000000000001e-08\n"
     ]
    },
    {
     "name": "stderr",
     "output_type": "stream",
     "text": [
      " 66%|██████▌   | 66/100 [05:46<02:57,  5.23s/it]"
     ]
    },
    {
     "name": "stdout",
     "output_type": "stream",
     "text": [
      "Epoch 65: Train Loss: 0.6934, Validation Loss: 0.6322\n",
      "Learning Rate: 9.000000000000001e-09\n"
     ]
    },
    {
     "name": "stderr",
     "output_type": "stream",
     "text": [
      " 67%|██████▋   | 67/100 [05:51<02:51,  5.18s/it]"
     ]
    },
    {
     "name": "stdout",
     "output_type": "stream",
     "text": [
      "Epoch 66: Train Loss: 0.6783, Validation Loss: 0.6345\n",
      "Learning Rate: 9.000000000000001e-09\n"
     ]
    },
    {
     "name": "stderr",
     "output_type": "stream",
     "text": [
      " 68%|██████▊   | 68/100 [05:57<02:47,  5.23s/it]"
     ]
    },
    {
     "name": "stdout",
     "output_type": "stream",
     "text": [
      "Epoch 67: Train Loss: 0.6814, Validation Loss: 0.6399\n",
      "Learning Rate: 9.000000000000001e-09\n"
     ]
    },
    {
     "name": "stderr",
     "output_type": "stream",
     "text": [
      " 69%|██████▉   | 69/100 [06:02<02:45,  5.32s/it]"
     ]
    },
    {
     "name": "stdout",
     "output_type": "stream",
     "text": [
      "Epoch 68: Train Loss: 0.6718, Validation Loss: 0.6308\n",
      "Learning Rate: 9.000000000000001e-09\n"
     ]
    },
    {
     "name": "stderr",
     "output_type": "stream",
     "text": [
      " 70%|███████   | 70/100 [06:08<02:41,  5.40s/it]"
     ]
    },
    {
     "name": "stdout",
     "output_type": "stream",
     "text": [
      "Epoch 69: Train Loss: 0.6910, Validation Loss: 0.6415\n",
      "Learning Rate: 9.000000000000001e-09\n"
     ]
    },
    {
     "name": "stderr",
     "output_type": "stream",
     "text": [
      " 71%|███████   | 71/100 [06:13<02:37,  5.44s/it]"
     ]
    },
    {
     "name": "stdout",
     "output_type": "stream",
     "text": [
      "Epoch 70: Train Loss: 0.6845, Validation Loss: 0.6418\n",
      "Learning Rate: 9.000000000000001e-09\n"
     ]
    },
    {
     "name": "stderr",
     "output_type": "stream",
     "text": [
      " 72%|███████▏  | 72/100 [06:19<02:32,  5.44s/it]"
     ]
    },
    {
     "name": "stdout",
     "output_type": "stream",
     "text": [
      "Epoch 71: Train Loss: 0.7038, Validation Loss: 0.6293\n",
      "Learning Rate: 9.000000000000001e-09\n"
     ]
    },
    {
     "name": "stderr",
     "output_type": "stream",
     "text": [
      " 73%|███████▎  | 73/100 [06:24<02:25,  5.40s/it]"
     ]
    },
    {
     "name": "stdout",
     "output_type": "stream",
     "text": [
      "Epoch 72: Train Loss: 0.7081, Validation Loss: 0.6323\n",
      "Learning Rate: 9.000000000000001e-09\n"
     ]
    },
    {
     "name": "stderr",
     "output_type": "stream",
     "text": [
      " 74%|███████▍  | 74/100 [06:29<02:17,  5.28s/it]"
     ]
    },
    {
     "name": "stdout",
     "output_type": "stream",
     "text": [
      "Epoch 73: Train Loss: 0.6690, Validation Loss: 0.6335\n",
      "Learning Rate: 9.000000000000001e-09\n"
     ]
    },
    {
     "name": "stderr",
     "output_type": "stream",
     "text": [
      " 75%|███████▌  | 75/100 [06:34<02:10,  5.21s/it]"
     ]
    },
    {
     "name": "stdout",
     "output_type": "stream",
     "text": [
      "Epoch 74: Train Loss: 0.6866, Validation Loss: 0.6379\n",
      "Learning Rate: 9.000000000000001e-09\n"
     ]
    },
    {
     "name": "stderr",
     "output_type": "stream",
     "text": [
      " 76%|███████▌  | 76/100 [06:39<02:04,  5.19s/it]"
     ]
    },
    {
     "name": "stdout",
     "output_type": "stream",
     "text": [
      "Epoch 75: Train Loss: 0.6926, Validation Loss: 0.6368\n",
      "Learning Rate: 9.000000000000001e-09\n"
     ]
    },
    {
     "name": "stderr",
     "output_type": "stream",
     "text": [
      " 77%|███████▋  | 77/100 [06:44<01:58,  5.17s/it]"
     ]
    },
    {
     "name": "stdout",
     "output_type": "stream",
     "text": [
      "Epoch 76: Train Loss: 0.6803, Validation Loss: 0.6361\n",
      "Learning Rate: 9.000000000000001e-09\n"
     ]
    },
    {
     "name": "stderr",
     "output_type": "stream",
     "text": [
      " 78%|███████▊  | 78/100 [06:50<01:54,  5.22s/it]"
     ]
    },
    {
     "name": "stdout",
     "output_type": "stream",
     "text": [
      "Epoch 77: Train Loss: 0.6675, Validation Loss: 0.6372\n",
      "Learning Rate: 9.000000000000001e-09\n"
     ]
    },
    {
     "name": "stderr",
     "output_type": "stream",
     "text": [
      " 79%|███████▉  | 79/100 [06:55<01:49,  5.21s/it]"
     ]
    },
    {
     "name": "stdout",
     "output_type": "stream",
     "text": [
      "Epoch 78: Train Loss: 0.6796, Validation Loss: 0.6356\n",
      "Learning Rate: 9.000000000000001e-09\n"
     ]
    },
    {
     "name": "stderr",
     "output_type": "stream",
     "text": [
      " 80%|████████  | 80/100 [07:00<01:43,  5.16s/it]"
     ]
    },
    {
     "name": "stdout",
     "output_type": "stream",
     "text": [
      "Epoch 79: Train Loss: 0.6915, Validation Loss: 0.6337\n",
      "Learning Rate: 9.000000000000001e-09\n"
     ]
    },
    {
     "name": "stderr",
     "output_type": "stream",
     "text": [
      " 81%|████████  | 81/100 [07:05<01:37,  5.13s/it]"
     ]
    },
    {
     "name": "stdout",
     "output_type": "stream",
     "text": [
      "Epoch 80: Train Loss: 0.6748, Validation Loss: 0.6314\n",
      "Learning Rate: 9.000000000000001e-09\n"
     ]
    },
    {
     "name": "stderr",
     "output_type": "stream",
     "text": [
      " 82%|████████▏ | 82/100 [07:10<01:33,  5.17s/it]"
     ]
    },
    {
     "name": "stdout",
     "output_type": "stream",
     "text": [
      "Epoch 81: Train Loss: 0.6684, Validation Loss: 0.6323\n",
      "Learning Rate: 9.000000000000001e-09\n"
     ]
    },
    {
     "name": "stderr",
     "output_type": "stream",
     "text": [
      " 83%|████████▎ | 83/100 [07:15<01:27,  5.13s/it]"
     ]
    },
    {
     "name": "stdout",
     "output_type": "stream",
     "text": [
      "Epoch 82: Train Loss: 0.6679, Validation Loss: 0.6392\n",
      "Learning Rate: 9.000000000000001e-09\n"
     ]
    },
    {
     "name": "stderr",
     "output_type": "stream",
     "text": [
      " 84%|████████▍ | 84/100 [07:20<01:21,  5.11s/it]"
     ]
    },
    {
     "name": "stdout",
     "output_type": "stream",
     "text": [
      "Epoch 83: Train Loss: 0.6904, Validation Loss: 0.6381\n",
      "Learning Rate: 9.000000000000001e-09\n"
     ]
    },
    {
     "name": "stderr",
     "output_type": "stream",
     "text": [
      " 85%|████████▌ | 85/100 [07:25<01:16,  5.11s/it]"
     ]
    },
    {
     "name": "stdout",
     "output_type": "stream",
     "text": [
      "Epoch 84: Train Loss: 0.6825, Validation Loss: 0.6402\n",
      "Learning Rate: 9.000000000000001e-09\n"
     ]
    },
    {
     "name": "stderr",
     "output_type": "stream",
     "text": [
      " 86%|████████▌ | 86/100 [07:30<01:11,  5.09s/it]"
     ]
    },
    {
     "name": "stdout",
     "output_type": "stream",
     "text": [
      "Epoch 85: Train Loss: 0.6806, Validation Loss: 0.6328\n",
      "Learning Rate: 9.000000000000001e-09\n"
     ]
    },
    {
     "name": "stderr",
     "output_type": "stream",
     "text": [
      " 87%|████████▋ | 87/100 [07:35<01:06,  5.08s/it]"
     ]
    },
    {
     "name": "stdout",
     "output_type": "stream",
     "text": [
      "Epoch 86: Train Loss: 0.6721, Validation Loss: 0.6457\n",
      "Learning Rate: 9.000000000000001e-09\n"
     ]
    },
    {
     "name": "stderr",
     "output_type": "stream",
     "text": [
      " 88%|████████▊ | 88/100 [07:41<01:00,  5.08s/it]"
     ]
    },
    {
     "name": "stdout",
     "output_type": "stream",
     "text": [
      "Epoch 87: Train Loss: 0.6783, Validation Loss: 0.6380\n",
      "Learning Rate: 9.000000000000001e-09\n"
     ]
    },
    {
     "name": "stderr",
     "output_type": "stream",
     "text": [
      " 89%|████████▉ | 89/100 [07:46<00:56,  5.18s/it]"
     ]
    },
    {
     "name": "stdout",
     "output_type": "stream",
     "text": [
      "Epoch 88: Train Loss: 0.6941, Validation Loss: 0.6259\n",
      "Learning Rate: 9.000000000000001e-09\n"
     ]
    },
    {
     "name": "stderr",
     "output_type": "stream",
     "text": [
      " 90%|█████████ | 90/100 [07:51<00:51,  5.15s/it]"
     ]
    },
    {
     "name": "stdout",
     "output_type": "stream",
     "text": [
      "Epoch 89: Train Loss: 0.6733, Validation Loss: 0.6346\n",
      "Learning Rate: 9.000000000000001e-09\n"
     ]
    },
    {
     "name": "stderr",
     "output_type": "stream",
     "text": [
      " 91%|█████████ | 91/100 [07:56<00:46,  5.19s/it]"
     ]
    },
    {
     "name": "stdout",
     "output_type": "stream",
     "text": [
      "Epoch 90: Train Loss: 0.6995, Validation Loss: 0.6321\n",
      "Learning Rate: 9.000000000000001e-09\n"
     ]
    },
    {
     "name": "stderr",
     "output_type": "stream",
     "text": [
      " 92%|█████████▏| 92/100 [08:01<00:41,  5.15s/it]"
     ]
    },
    {
     "name": "stdout",
     "output_type": "stream",
     "text": [
      "Epoch 91: Train Loss: 0.6845, Validation Loss: 0.6313\n",
      "Learning Rate: 9.000000000000001e-09\n"
     ]
    },
    {
     "name": "stderr",
     "output_type": "stream",
     "text": [
      " 93%|█████████▎| 93/100 [08:07<00:35,  5.14s/it]"
     ]
    },
    {
     "name": "stdout",
     "output_type": "stream",
     "text": [
      "Epoch 92: Train Loss: 0.6748, Validation Loss: 0.6361\n",
      "Learning Rate: 9.000000000000001e-09\n"
     ]
    },
    {
     "name": "stderr",
     "output_type": "stream",
     "text": [
      " 94%|█████████▍| 94/100 [08:12<00:30,  5.10s/it]"
     ]
    },
    {
     "name": "stdout",
     "output_type": "stream",
     "text": [
      "Epoch 93: Train Loss: 0.6708, Validation Loss: 0.6377\n",
      "Learning Rate: 9.000000000000001e-09\n"
     ]
    },
    {
     "name": "stderr",
     "output_type": "stream",
     "text": [
      " 95%|█████████▌| 95/100 [08:17<00:25,  5.09s/it]"
     ]
    },
    {
     "name": "stdout",
     "output_type": "stream",
     "text": [
      "Epoch 94: Train Loss: 0.6673, Validation Loss: 0.6355\n",
      "Learning Rate: 9.000000000000001e-09\n"
     ]
    },
    {
     "name": "stderr",
     "output_type": "stream",
     "text": [
      " 96%|█████████▌| 96/100 [08:22<00:20,  5.13s/it]"
     ]
    },
    {
     "name": "stdout",
     "output_type": "stream",
     "text": [
      "Epoch 95: Train Loss: 0.7034, Validation Loss: 0.6347\n",
      "Learning Rate: 9.000000000000001e-09\n"
     ]
    },
    {
     "name": "stderr",
     "output_type": "stream",
     "text": [
      " 97%|█████████▋| 97/100 [08:27<00:15,  5.09s/it]"
     ]
    },
    {
     "name": "stdout",
     "output_type": "stream",
     "text": [
      "Epoch 96: Train Loss: 0.6892, Validation Loss: 0.6321\n",
      "Learning Rate: 9.000000000000001e-09\n"
     ]
    },
    {
     "name": "stderr",
     "output_type": "stream",
     "text": [
      " 98%|█████████▊| 98/100 [08:32<00:10,  5.08s/it]"
     ]
    },
    {
     "name": "stdout",
     "output_type": "stream",
     "text": [
      "Epoch 97: Train Loss: 0.6650, Validation Loss: 0.6333\n",
      "Learning Rate: 9.000000000000001e-09\n"
     ]
    },
    {
     "name": "stderr",
     "output_type": "stream",
     "text": [
      " 99%|█████████▉| 99/100 [08:37<00:05,  5.14s/it]"
     ]
    },
    {
     "name": "stdout",
     "output_type": "stream",
     "text": [
      "Epoch 98: Train Loss: 0.6704, Validation Loss: 0.6303\n",
      "Learning Rate: 9.000000000000001e-09\n"
     ]
    },
    {
     "name": "stderr",
     "output_type": "stream",
     "text": [
      "100%|██████████| 100/100 [08:42<00:00,  5.23s/it]"
     ]
    },
    {
     "name": "stdout",
     "output_type": "stream",
     "text": [
      "Epoch 99: Train Loss: 0.6640, Validation Loss: 0.6352\n",
      "Learning Rate: 9.000000000000001e-09\n"
     ]
    },
    {
     "name": "stderr",
     "output_type": "stream",
     "text": [
      "\n"
     ]
    },
    {
     "ename": "NameError",
     "evalue": "name 'wonderwords' is not defined",
     "output_type": "error",
     "traceback": [
      "\u001b[0;31m---------------------------------------------------------------------------\u001b[0m",
      "\u001b[0;31mNameError\u001b[0m                                 Traceback (most recent call last)",
      "Cell \u001b[0;32mIn[109], line 48\u001b[0m\n\u001b[1;32m     46\u001b[0m     \u001b[38;5;28;01mfor\u001b[39;00m param_group \u001b[38;5;129;01min\u001b[39;00m optimizer\u001b[38;5;241m.\u001b[39mparam_groups:\n\u001b[1;32m     47\u001b[0m         \u001b[38;5;28mprint\u001b[39m(\u001b[38;5;124mf\u001b[39m\u001b[38;5;124m\"\u001b[39m\u001b[38;5;124mLearning Rate: \u001b[39m\u001b[38;5;132;01m{\u001b[39;00mparam_group[\u001b[38;5;124m'\u001b[39m\u001b[38;5;124mlr\u001b[39m\u001b[38;5;124m'\u001b[39m]\u001b[38;5;132;01m}\u001b[39;00m\u001b[38;5;124m\"\u001b[39m)\n\u001b[0;32m---> 48\u001b[0m r \u001b[38;5;241m=\u001b[39m \u001b[43mwonderwords\u001b[49m\u001b[38;5;241m.\u001b[39mRandomWord()\n\u001b[1;32m     49\u001b[0m MODEL_TAG \u001b[38;5;241m=\u001b[39m \u001b[38;5;124mf\u001b[39m\u001b[38;5;124m'\u001b[39m\u001b[38;5;132;01m{\u001b[39;00mr\u001b[38;5;241m.\u001b[39mword(include_categories\u001b[38;5;241m=\u001b[39m[\u001b[38;5;124m\"\u001b[39m\u001b[38;5;124madjective\u001b[39m\u001b[38;5;124m\"\u001b[39m])\u001b[38;5;132;01m}\u001b[39;00m\u001b[38;5;124m_\u001b[39m\u001b[38;5;132;01m{\u001b[39;00mr\u001b[38;5;241m.\u001b[39mword()\u001b[38;5;132;01m}\u001b[39;00m\u001b[38;5;124m'\u001b[39m\n",
      "\u001b[0;31mNameError\u001b[0m: name 'wonderwords' is not defined"
     ]
    }
   ],
   "source": [
    "MODEL_TAG = \"\"\n",
    "train_loss = []\n",
    "val_loss = []\n",
    "\n",
    "# Reset weights before training\n",
    "reset_weights()\n",
    "\n",
    "# Optimizer with modified learning rate\n",
    "optimizer = torch.optim.Adam(classifier.mods.classifier.parameters(), lr=0.0009)\n",
    "\n",
    "# Scheduler to reduce learning rate on plateau\n",
    "scheduler = torch.optim.lr_scheduler.ReduceLROnPlateau(optimizer, 'min', patience=5)\n",
    "\n",
    "# Training loop\n",
    "for epoch in tqdm(range(100)):\n",
    "    # Set model to training mode\n",
    "    classifier.train()\n",
    "    losses = []\n",
    "    \n",
    "    for batch_idx, (X, y) in enumerate(train_dl):\n",
    "        logits, confidences, classes, decoded_classes = classifier(X)\n",
    "        loss = loss_fn(logits, y)\n",
    "        \n",
    "        optimizer.zero_grad()  # Clear previous gradients\n",
    "        loss.backward()        # Backpropagate\n",
    "        optimizer.step()       # Update parameters\n",
    "        \n",
    "        losses.append(loss.item())\n",
    "    \n",
    "    train_loss.append(np.mean(losses))\n",
    "\n",
    "    # Validation step\n",
    "    classifier.eval()  # Set model to evaluation mode\n",
    "    with torch.no_grad():  # Disable gradient calculation for validation\n",
    "        val_preds, *_ = classifier(Xval)\n",
    "        val_loss_ = loss_fn(val_preds, yval)\n",
    "        val_loss.append(val_loss_.item())\n",
    "    \n",
    "    # Print loss\n",
    "    print(f\"Epoch {epoch}: Train Loss: {train_loss[-1]:.4f}, Validation Loss: {val_loss[-1]:.4f}\")\n",
    "\n",
    "    # Step the scheduler with the validation loss\n",
    "    scheduler.step(val_loss_)\n",
    "\n",
    "    # Optional: print the current learning rate\n",
    "    for param_group in optimizer.param_groups:\n",
    "        print(f\"Learning Rate: {param_group['lr']}\")\n",
    "r = wonderwords.RandomWord()\n",
    "MODEL_TAG = f'{r.word(include_categories=[\"adjective\"])}_{r.word()}'"
   ]
  },
  {
   "cell_type": "code",
   "execution_count": 113,
   "id": "9aabd246",
   "metadata": {},
   "outputs": [],
   "source": [
    "r = wonderwords.RandomWord()\n",
    "MODEL_TAG = f'{r.word(include_categories=[\"adjective\"])}_{r.word()}'"
   ]
  },
  {
   "cell_type": "code",
   "execution_count": 114,
   "id": "1ed48124-7fde-4c6c-93a4-41cd1fb56b2a",
   "metadata": {},
   "outputs": [
    {
     "data": {
      "image/png": "[encoded data removed]",
      "text/plain": [
       "<Figure size 640x480 with 1 Axes>"
      ]
     },
     "metadata": {},
     "output_type": "display_data"
    }
   ],
   "source": [
    "plt.plot(train_loss)\n",
    "plt.plot(val_loss)\n",
    "plt.legend(['train','val'])\n",
    "plt.title(MODEL_TAG)\n",
    "plt.show();"
   ]
  },
  {
   "cell_type": "markdown",
   "id": "d35711b3-401c-4668-bbee-610fb0385998",
   "metadata": {},
   "source": [
    "### Validation accuracy "
   ]
  },
  {
   "cell_type": "code",
   "execution_count": 115,
   "id": "47c12d93-65b3-4594-9903-7f2a5b1a7f6c",
   "metadata": {},
   "outputs": [
    {
     "data": {
      "text/plain": [
       "['air', 'vac', 'off']"
      ]
     },
     "execution_count": 115,
     "metadata": {},
     "output_type": "execute_result"
    }
   ],
   "source": [
    "cats"
   ]
  },
  {
   "cell_type": "code",
   "execution_count": 116,
   "id": "d0c5d6d1-998e-4c70-8e12-de4d5e60fc75",
   "metadata": {},
   "outputs": [],
   "source": [
    "preds, *rest = classifier(Xval)"
   ]
  },
  {
   "cell_type": "code",
   "execution_count": 117,
   "id": "f4ffa15a-3cad-437b-bae0-a4cfd51b1470",
   "metadata": {},
   "outputs": [
    {
     "data": {
      "text/plain": [
       "tensor([0, 1, 0, 1, 0, 1, 1, 2])"
      ]
     },
     "execution_count": 117,
     "metadata": {},
     "output_type": "execute_result"
    }
   ],
   "source": [
    "preds.argmax(axis=1)"
   ]
  },
  {
   "cell_type": "code",
   "execution_count": 118,
   "id": "0df37bba-6218-498b-8e7e-4ea1e932cb42",
   "metadata": {},
   "outputs": [
    {
     "data": {
      "text/plain": [
       "tensor([0, 1, 0, 1, 0, 1, 1, 2])"
      ]
     },
     "execution_count": 118,
     "metadata": {},
     "output_type": "execute_result"
    }
   ],
   "source": [
    "yval.argmax(axis=1)"
   ]
  },
  {
   "cell_type": "code",
   "execution_count": 119,
   "id": "991325d5-fc70-4d4f-84a6-94b4ec8a1ded",
   "metadata": {},
   "outputs": [
    {
     "data": {
      "text/plain": [
       "tensor(1.)"
      ]
     },
     "execution_count": 119,
     "metadata": {},
     "output_type": "execute_result"
    }
   ],
   "source": [
    "(preds.argmax(axis=1) == yval.argmax(axis=1)).float().mean()"
   ]
  },
  {
   "cell_type": "markdown",
   "id": "0cff356d-9e15-4e34-b764-c7e862ffb552",
   "metadata": {},
   "source": [
    "### Train accuracy "
   ]
  },
  {
   "cell_type": "code",
   "execution_count": 120,
   "id": "872d2a4c-113d-4302-bba0-e676120d1e9e",
   "metadata": {},
   "outputs": [
    {
     "data": {
      "text/plain": [
       "tensor([0, 0, 2, 1, 2, 0, 1, 2, 0, 2, 1, 2, 2, 2, 0, 0, 0, 2, 2, 2, 2, 0, 1, 2,\n",
       "        1, 0, 1, 2, 1, 2, 1, 2, 1, 1, 0, 2, 1, 2, 1, 2, 0, 1, 0, 1, 2, 1, 2, 0,\n",
       "        0, 1, 0, 1, 1, 1, 0, 1, 1, 0, 2, 0, 0, 1, 1, 1, 1, 2, 2, 2, 1, 2, 1, 0,\n",
       "        0, 1, 1, 0, 2, 0, 2, 2, 2, 0, 0, 0, 0, 0, 1, 0, 2, 1, 1, 0, 2, 2, 2, 1,\n",
       "        0, 2, 0, 2, 2, 1, 2, 0, 1, 0, 1, 0, 0, 1, 2, 0, 0, 0, 2, 0, 2, 2, 0, 0,\n",
       "        2, 2, 1, 1, 1, 0, 1, 0, 2, 1, 1, 1, 0, 1, 0, 2, 1, 1, 2])"
      ]
     },
     "execution_count": 120,
     "metadata": {},
     "output_type": "execute_result"
    }
   ],
   "source": [
    "torch.tensor([cats.index(val) for val in ytrain])"
   ]
  },
  {
   "cell_type": "code",
   "execution_count": 121,
   "id": "6538e28f-09bd-48ed-92d8-3c8714aac3f1",
   "metadata": {},
   "outputs": [
    {
     "data": {
      "text/plain": [
       "tensor([0, 0, 2, 1, 2, 0, 1, 2, 0, 2, 1, 2, 2, 2, 0, 0, 0, 2, 2, 0, 2, 0, 1, 2,\n",
       "        1, 0, 1, 2, 1, 2, 1, 2, 1, 1, 0, 2, 1, 2, 1, 2, 0, 1, 0, 1, 2, 1, 2, 0,\n",
       "        0, 1, 0, 1, 1, 1, 0, 1, 1, 0, 2, 0, 0, 1, 1, 1, 1, 2, 2, 2, 1, 2, 1, 0,\n",
       "        0, 1, 1, 0, 0, 0, 2, 2, 2, 0, 0, 0, 0, 0, 1, 0, 2, 1, 1, 0, 2, 2, 2, 1,\n",
       "        0, 2, 0, 2, 2, 1, 2, 0, 1, 0, 1, 0, 0, 1, 2, 0, 0, 0, 2, 0, 2, 2, 0, 0,\n",
       "        2, 2, 1, 1, 1, 0, 1, 0, 2, 1, 1, 1, 0, 1, 0, 2, 1, 1, 2])"
      ]
     },
     "execution_count": 121,
     "metadata": {},
     "output_type": "execute_result"
    }
   ],
   "source": [
    "train_preds, *rest = classifier(Xtrain)\n",
    "train_preds.argmax(axis=1)"
   ]
  },
  {
   "cell_type": "code",
   "execution_count": 122,
   "id": "98f3075c-3c42-4103-86a1-509309309445",
   "metadata": {},
   "outputs": [
    {
     "data": {
      "text/plain": [
       "tensor(0.9856)"
      ]
     },
     "execution_count": 122,
     "metadata": {},
     "output_type": "execute_result"
    }
   ],
   "source": [
    "(torch.tensor([cats.index(val) for val in ytrain]) == train_preds.argmax(axis=1)).float().mean()"
   ]
  },
  {
   "cell_type": "markdown",
   "id": "8662e8cf",
   "metadata": {},
   "source": [
    "# Test accuracy"
   ]
  },
  {
   "cell_type": "code",
   "execution_count": 123,
   "id": "741eb91d",
   "metadata": {},
   "outputs": [
    {
     "ename": "NameError",
     "evalue": "name 'xcvxcvytest' is not defined",
     "output_type": "error",
     "traceback": [
      "\u001b[0;31m---------------------------------------------------------------------------\u001b[0m",
      "\u001b[0;31mNameError\u001b[0m                                 Traceback (most recent call last)",
      "Cell \u001b[0;32mIn[123], line 1\u001b[0m\n\u001b[0;32m----> 1\u001b[0m \u001b[43mxcvxcvytest\u001b[49m\n",
      "\u001b[0;31mNameError\u001b[0m: name 'xcvxcvytest' is not defined"
     ]
    }
   ],
   "source": [
    "xcvxcvytest"
   ]
  },
  {
   "cell_type": "code",
   "execution_count": null,
   "id": "3ca5ad0c-7686-4c2d-9bdd-ebe63bc1b2a8",
   "metadata": {},
   "outputs": [
    {
     "data": {
      "text/plain": [
       "tensor(0.4167)"
      ]
     },
     "execution_count": 311,
     "metadata": {},
     "output_type": "execute_result"
    }
   ],
   "source": [
    "torch.tensor([cats.index(val) for val in ytest])\n",
    "test_preds, *rest = classifier(Xtest)\n",
    "test_preds.argmax(axis=1)\n",
    "(torch.tensor([cats.index(val) for val in ytest]) == test_preds.argmax(axis=1)).float().mean()"
   ]
  },
  {
   "cell_type": "code",
   "execution_count": null,
   "id": "1776fff6",
   "metadata": {},
   "outputs": [],
   "source": [
    "# Load new test data\n",
    "from pathlib import Path\n",
    "import librosa\n",
    "import pandas as pd, numpy as np, matplotlib.pyplot as plt\n",
    "\n",
    "path = Path(\"/Users/jonas/Library/CloudStorage/OneDrive-UniversityofExeter/sound_recognition/g28_test\")\n",
    "files = list(path.rglob(\"*.wav\"))\n",
    "df_test = pd.DataFrame({\"filepath\":files})\n",
    "df_test[\"label\"] = df_test[\"filepath\"].apply(lambda x: Path(x).parent.name)\n",
    "df_test[\"duration\"] = df_test[\"filepath\"].apply(lambda x: librosa.get_duration(path=x))\n",
    "df_test[\"name\"] = df_test[\"filepath\"].apply(lambda x: Path(x).name)\n"
   ]
  },
  {
   "cell_type": "code",
   "execution_count": null,
   "id": "415c5a47",
   "metadata": {},
   "outputs": [
    {
     "data": {
      "text/html": [
       "<div>\n",
       "<style scoped>\n",
       "    .dataframe tbody tr th:only-of-type {\n",
       "        vertical-align: middle;\n",
       "    }\n",
       "\n",
       "    .dataframe tbody tr th {\n",
       "        vertical-align: top;\n",
       "    }\n",
       "\n",
       "    .dataframe thead th {\n",
       "        text-align: right;\n",
       "    }\n",
       "</style>\n",
       "<table border=\"1\" class=\"dataframe\">\n",
       "  <thead>\n",
       "    <tr style=\"text-align: right;\">\n",
       "      <th></th>\n",
       "      <th>filepath</th>\n",
       "      <th>label</th>\n",
       "      <th>duration</th>\n",
       "      <th>name</th>\n",
       "    </tr>\n",
       "  </thead>\n",
       "  <tbody>\n",
       "    <tr>\n",
       "      <th>17</th>\n",
       "      <td>/Users/jonas/Library/CloudStorage/OneDrive-Uni...</td>\n",
       "      <td>off</td>\n",
       "      <td>4.0</td>\n",
       "      <td>off_3.wav</td>\n",
       "    </tr>\n",
       "    <tr>\n",
       "      <th>3</th>\n",
       "      <td>/Users/jonas/Library/CloudStorage/OneDrive-Uni...</td>\n",
       "      <td>air</td>\n",
       "      <td>4.0</td>\n",
       "      <td>air_3.wav</td>\n",
       "    </tr>\n",
       "    <tr>\n",
       "      <th>8</th>\n",
       "      <td>/Users/jonas/Library/CloudStorage/OneDrive-Uni...</td>\n",
       "      <td>vac</td>\n",
       "      <td>4.0</td>\n",
       "      <td>vac_1.wav</td>\n",
       "    </tr>\n",
       "    <tr>\n",
       "      <th>9</th>\n",
       "      <td>/Users/jonas/Library/CloudStorage/OneDrive-Uni...</td>\n",
       "      <td>vac</td>\n",
       "      <td>4.0</td>\n",
       "      <td>vac_0.wav</td>\n",
       "    </tr>\n",
       "    <tr>\n",
       "      <th>11</th>\n",
       "      <td>/Users/jonas/Library/CloudStorage/OneDrive-Uni...</td>\n",
       "      <td>vac</td>\n",
       "      <td>4.0</td>\n",
       "      <td>vac_3.wav</td>\n",
       "    </tr>\n",
       "  </tbody>\n",
       "</table>\n",
       "</div>"
      ],
      "text/plain": [
       "                                             filepath label  duration  \\\n",
       "17  /Users/jonas/Library/CloudStorage/OneDrive-Uni...   off       4.0   \n",
       "3   /Users/jonas/Library/CloudStorage/OneDrive-Uni...   air       4.0   \n",
       "8   /Users/jonas/Library/CloudStorage/OneDrive-Uni...   vac       4.0   \n",
       "9   /Users/jonas/Library/CloudStorage/OneDrive-Uni...   vac       4.0   \n",
       "11  /Users/jonas/Library/CloudStorage/OneDrive-Uni...   vac       4.0   \n",
       "\n",
       "         name  \n",
       "17  off_3.wav  \n",
       "3   air_3.wav  \n",
       "8   vac_1.wav  \n",
       "9   vac_0.wav  \n",
       "11  vac_3.wav  "
      ]
     },
     "execution_count": 313,
     "metadata": {},
     "output_type": "execute_result"
    }
   ],
   "source": [
    "df_test.sample(5)"
   ]
  },
  {
   "cell_type": "code",
   "execution_count": null,
   "id": "f0ab9504",
   "metadata": {},
   "outputs": [],
   "source": [
    "df_test = df_test.drop(df_test[(df_test.duration < 3.9)].index)"
   ]
  },
  {
   "cell_type": "code",
   "execution_count": null,
   "id": "8eb90603",
   "metadata": {},
   "outputs": [],
   "source": [
    "df_test = df_test[~df_test.name.str.contains(\"_0.wav\")]"
   ]
  },
  {
   "cell_type": "code",
   "execution_count": null,
   "id": "788a1993",
   "metadata": {},
   "outputs": [],
   "source": [
    "Xtest = torch.stack([Transform.load_audio(fp) for fp in df_test.filepath])\n",
    "ytest = list(df_test.label)"
   ]
  },
  {
   "cell_type": "code",
   "execution_count": null,
   "id": "4ce19d76",
   "metadata": {},
   "outputs": [],
   "source": [
    "test_ds = ApplianceDS(Xtest, ytest)"
   ]
  },
  {
   "cell_type": "code",
   "execution_count": null,
   "id": "a8f80a46",
   "metadata": {},
   "outputs": [],
   "source": [
    "test_dl = torch.utils.data.DataLoader(test_ds, batch_size=len(test_ds), shuffle=True)"
   ]
  },
  {
   "cell_type": "code",
   "execution_count": null,
   "id": "4804267b",
   "metadata": {},
   "outputs": [
    {
     "data": {
      "text/plain": [
       "tensor([0, 0, 0, 0, 1, 1, 1, 1, 2, 2, 2, 2])"
      ]
     },
     "execution_count": 319,
     "metadata": {},
     "output_type": "execute_result"
    }
   ],
   "source": [
    "torch.tensor([cats.index(val) for val in ytest])"
   ]
  },
  {
   "cell_type": "code",
   "execution_count": null,
   "id": "459cbee8",
   "metadata": {},
   "outputs": [
    {
     "data": {
      "text/plain": [
       "tensor([1, 1, 1, 1, 1, 1, 1, 1, 2, 2, 1, 1])"
      ]
     },
     "execution_count": 320,
     "metadata": {},
     "output_type": "execute_result"
    }
   ],
   "source": [
    "test_preds, *rest = classifier(Xtest)\n",
    "test_preds.argmax(axis=1)"
   ]
  },
  {
   "cell_type": "code",
   "execution_count": null,
   "id": "90c458bf",
   "metadata": {},
   "outputs": [],
   "source": [
    "test_ds = ApplianceDS(Xtrain, ytrain)\n",
    "test_dl = torch.utils.data.DataLoader(test_ds, batch_size=len(test_ds), shuffle=True)"
   ]
  },
  {
   "cell_type": "code",
   "execution_count": null,
   "id": "8a29bc1a",
   "metadata": {},
   "outputs": [
    {
     "data": {
      "text/plain": [
       "tensor(0.5000)"
      ]
     },
     "execution_count": 322,
     "metadata": {},
     "output_type": "execute_result"
    }
   ],
   "source": [
    "torch.tensor([cats.index(val) for val in ytest])\n",
    "test_preds, *rest = classifier(Xtest)\n",
    "test_preds.argmax(axis=1)\n",
    "(torch.tensor([cats.index(val) for val in ytest]) == test_preds.argmax(axis=1)).float().mean()"
   ]
  },
  {
   "cell_type": "markdown",
   "id": "11db49f8",
   "metadata": {},
   "source": [
    "# Save the model"
   ]
  },
  {
   "cell_type": "code",
   "execution_count": 124,
   "id": "15dec60a",
   "metadata": {},
   "outputs": [
    {
     "data": {
      "text/plain": [
       "PosixPath('/Users/jonas/Library/CloudStorage/OneDrive-UniversityofExeter/sound_recognition')"
      ]
     },
     "execution_count": 124,
     "metadata": {},
     "output_type": "execute_result"
    }
   ],
   "source": [
    "path.parent.parent"
   ]
  },
  {
   "cell_type": "code",
   "execution_count": 125,
   "metadata": {},
   "outputs": [],
   "source": [
    "\n",
    "classifier_name = str(path.name)\n",
    "model_path = path.parent.parent / \"models\"\n",
    "file_name = f\"{classifier_name}_{MODEL_TAG}.pt\"\n",
    "torch.save(classifier,f\"{model_path}/{file_name}\")\n"
   ]
  },
  {
   "cell_type": "code",
   "execution_count": 126,
   "id": "4f95be15",
   "metadata": {},
   "outputs": [],
   "source": [
    "cats_json_name = f'{classifier_name}_cats.json'\n",
    "\n",
    "import json\n",
    "with open(cats_json_name, 'w') as f:\n",
    "    json.dump(cats, f)"
   ]
  },
  {
   "cell_type": "code",
   "execution_count": 129,
   "id": "7642190a",
   "metadata": {},
   "outputs": [
    {
     "data": {
      "text/plain": [
       "PosixPath('/Users/jonas/Library/CloudStorage/OneDrive-UniversityofExeter/sound_recognition/data')"
      ]
     },
     "execution_count": 129,
     "metadata": {},
     "output_type": "execute_result"
    }
   ],
   "source": [
    "path.parent"
   ]
  },
  {
   "cell_type": "code",
   "execution_count": 127,
   "id": "c88639b5",
   "metadata": {},
   "outputs": [
    {
     "name": "stdout",
     "output_type": "stream",
     "text": [
      "File 'users/g28_huawei/g28_huawei_afraid_correspondence.pt' has been uploaded to bucket 'data_labear'.\n"
     ]
    }
   ],
   "source": [
    "from google.cloud import storage\n",
    "import os\n",
    "\n",
    "def upload_file_if_not_exists(bucket_name, folder_name, source_file_path, destination_file_name):\n",
    "    \"\"\"\n",
    "    Upload a file to Google Cloud Storage only if it does not exist in the specified folder.\n",
    "    \n",
    "    Args:\n",
    "        bucket_name (str): The name of the GCS bucket.\n",
    "        folder_name (str): The GCS folder name where the file will be uploaded.\n",
    "        source_file_path (str): The path to the local file.\n",
    "        destination_file_name (str): The name of the file in GCS.\n",
    "\n",
    "    Returns:\n",
    "        str: Message indicating whether the file was uploaded or already exists.\n",
    "    \"\"\"\n",
    "    # Initialize the Google Cloud Storage client\n",
    "    storage_client = storage.Client()\n",
    "\n",
    "    # Get the GCS bucket\n",
    "    bucket = storage_client.get_bucket(bucket_name)\n",
    "\n",
    "    # Create the full GCS path (including the folder and file name)\n",
    "    gcs_file_path = os.path.join(folder_name, destination_file_name)\n",
    "\n",
    "    # Check if the file already exists in GCS\n",
    "    blob = bucket.blob(gcs_file_path)\n",
    "\n",
    "    if blob.exists():\n",
    "        return f\"File '{gcs_file_path}' already exists in bucket '{bucket_name}'.\"\n",
    "\n",
    "    # Upload the file if it doesn't exist\n",
    "    blob.upload_from_filename(source_file_path)\n",
    "    return f\"File '{gcs_file_path}' has been uploaded to bucket '{bucket_name}'.\"\n",
    "\n",
    "# Example usage\n",
    "bucket_name = \"data_labear\"\n",
    "folder_name = f\"users/{path.name}\"  # Leave empty if there's no folder\n",
    "source_file_path = str(model_path / file_name)\n",
    "destination_file_name = file_name\n",
    "\n",
    "result = upload_file_if_not_exists(bucket_name, folder_name, source_file_path, destination_file_name)\n",
    "print(result)\n"
   ]
  },
  {
   "cell_type": "code",
   "execution_count": 130,
   "id": "030c773f",
   "metadata": {},
   "outputs": [
    {
     "data": {
      "text/plain": [
       "'g28_huawei'"
      ]
     },
     "execution_count": 130,
     "metadata": {},
     "output_type": "execute_result"
    }
   ],
   "source": [
    "path.name"
   ]
  }
 ],
 "metadata": {
  "kernelspec": {
   "display_name": "Python 3 (ipykernel)",
   "language": "python",
   "name": "python3"
  },
  "language_info": {
   "codemirror_mode": {
    "name": "ipython",
    "version": 3
   },
   "file_extension": ".py",
   "mimetype": "text/x-python",
   "name": "python",
   "nbconvert_exporter": "python",
   "pygments_lexer": "ipython3",
   "version": "3.11.5"
  }
 },
 "nbformat": 4,
 "nbformat_minor": 5
}
